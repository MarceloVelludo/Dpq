{
 "cells": [
  {
   "cell_type": "code",
   "execution_count": 1,
   "id": "7a3fa3cd-6339-43c1-9eaf-1126be84d4ff",
   "metadata": {},
   "outputs": [],
   "source": [
    "import numpy as np\n",
    "import qiskit.quantum_info as qi\n",
    "from qiskit import IBMQ\n",
    "from qiskit.quantum_info.operators import Operator\n",
    "from qiskit.circuit import QuantumCircuit, Parameter\n",
    "from qiskit.providers.aer import QasmSimulator, PulseSimulator\n",
    "from qiskit.providers.aer.pulse import PulseSystemModel\n",
    "from qiskit.visualization import plot_histogram\n",
    "from qiskit.visualization import plot_state_city"
   ]
  },
  {
   "cell_type": "code",
   "execution_count": 2,
   "id": "ebaaf1d5-9fa0-4f9f-abbc-cd78bb165970",
   "metadata": {},
   "outputs": [
    {
     "data": {
      "text/plain": [
       "[<AccountProvider for IBMQ(hub='ibm-q', group='open', project='main')>]"
      ]
     },
     "execution_count": 2,
     "metadata": {},
     "output_type": "execute_result"
    }
   ],
   "source": [
    "IBMQ.save_account('e6e296eb7eff807ce8dd197fe1a59dde9e017c44fbc49fd2cb7707ea1936510f1b2eb5fe405d4fa9dacb818c2cae8ba99a6f4a6c3ea1340db9efc794b2356c50')\n",
    "IBMQ.load_account() # Load account from disk\n",
    "IBMQ.providers()    # List all available providers"
   ]
  },
  {
   "cell_type": "code",
   "execution_count": 3,
   "id": "cab6d904-00d4-4a32-a544-6ba194c59388",
   "metadata": {},
   "outputs": [
    {
     "data": {
      "text/plain": [
       "[<IBMQSimulator('ibmq_qasm_simulator') from IBMQ(hub='ibm-q', group='open', project='main')>,\n",
       " <IBMQBackend('ibmq_armonk') from IBMQ(hub='ibm-q', group='open', project='main')>,\n",
       " <IBMQBackend('ibmq_santiago') from IBMQ(hub='ibm-q', group='open', project='main')>,\n",
       " <IBMQBackend('ibmq_bogota') from IBMQ(hub='ibm-q', group='open', project='main')>,\n",
       " <IBMQBackend('ibmq_lima') from IBMQ(hub='ibm-q', group='open', project='main')>,\n",
       " <IBMQBackend('ibmq_belem') from IBMQ(hub='ibm-q', group='open', project='main')>,\n",
       " <IBMQBackend('ibmq_quito') from IBMQ(hub='ibm-q', group='open', project='main')>,\n",
       " <IBMQSimulator('simulator_statevector') from IBMQ(hub='ibm-q', group='open', project='main')>,\n",
       " <IBMQSimulator('simulator_mps') from IBMQ(hub='ibm-q', group='open', project='main')>,\n",
       " <IBMQSimulator('simulator_extended_stabilizer') from IBMQ(hub='ibm-q', group='open', project='main')>,\n",
       " <IBMQSimulator('simulator_stabilizer') from IBMQ(hub='ibm-q', group='open', project='main')>,\n",
       " <IBMQBackend('ibmq_manila') from IBMQ(hub='ibm-q', group='open', project='main')>]"
      ]
     },
     "execution_count": 3,
     "metadata": {},
     "output_type": "execute_result"
    }
   ],
   "source": [
    "provider = IBMQ.get_provider(hub='ibm-q')\n",
    "provider.backends()"
   ]
  },
  {
   "cell_type": "code",
   "execution_count": 4,
   "id": "5ab8bb18-828a-4978-903f-0699071a1ae2",
   "metadata": {},
   "outputs": [
    {
     "data": {
      "text/plain": [
       "[<IBMQBackend('ibmq_armonk') from IBMQ(hub='ibm-q', group='open', project='main')>,\n",
       " <IBMQBackend('ibmq_bogota') from IBMQ(hub='ibm-q', group='open', project='main')>,\n",
       " <IBMQBackend('ibmq_lima') from IBMQ(hub='ibm-q', group='open', project='main')>,\n",
       " <IBMQBackend('ibmq_belem') from IBMQ(hub='ibm-q', group='open', project='main')>,\n",
       " <IBMQBackend('ibmq_quito') from IBMQ(hub='ibm-q', group='open', project='main')>,\n",
       " <IBMQBackend('ibmq_manila') from IBMQ(hub='ibm-q', group='open', project='main')>]"
      ]
     },
     "execution_count": 4,
     "metadata": {},
     "output_type": "execute_result"
    }
   ],
   "source": [
    "provider.backends(simulator=False, operational=True)"
   ]
  },
  {
   "cell_type": "code",
   "execution_count": 5,
   "id": "9ec3bc2f-24b6-4cee-9ba3-a7f3a0c6b087",
   "metadata": {},
   "outputs": [
    {
     "name": "stdout",
     "output_type": "stream",
     "text": [
      "ibmq_quito\n"
     ]
    }
   ],
   "source": [
    "from qiskit.providers.ibmq import least_busy\n",
    "\n",
    "small_devices = provider.backends(filters=lambda x: x.configuration().n_qubits == 5\n",
    "                                  and not x.configuration().simulator)\n",
    "backend = least_busy(small_devices)\n",
    "print(backend)"
   ]
  },
  {
   "cell_type": "code",
   "execution_count": null,
   "id": "52420739-f0cb-4be4-b90d-a5da5590992c",
   "metadata": {},
   "outputs": [],
   "source": [
    "#a.backends(filters=lambda x: x.configuration().n_qubits >= 5\n",
    "#                                    and not x.configuration().simulator\n",
    "#                                    and x.status().operational==True)"
   ]
  },
  {
   "cell_type": "code",
   "execution_count": null,
   "id": "d24446a4-5067-4c1d-b1d6-d0d7d8f10853",
   "metadata": {},
   "outputs": [],
   "source": [
    "#circuit.snapshot_statevector()"
   ]
  },
  {
   "cell_type": "code",
   "execution_count": null,
   "id": "aa457647-853c-4b17-a65f-55cbabecdf43",
   "metadata": {},
   "outputs": [],
   "source": [
    "from qiskit.aqua.operators import StateFn\n",
    "from qiskit.aqua.operators import Z,X,Y\n"
   ]
  },
  {
   "cell_type": "code",
   "execution_count": null,
   "id": "acfb1eea-ce86-4afd-b3ce-1daff4fac815",
   "metadata": {},
   "outputs": [],
   "source": [
    "#type(Parameter('h1'))"
   ]
  },
  {
   "cell_type": "code",
   "execution_count": 54,
   "id": "93eb8647-12ba-49ed-8c88-4c089c34b131",
   "metadata": {},
   "outputs": [],
   "source": [
    "#Monta circuito de acordo com hamiltoniana.\n",
    "def compose_circ(j1=None, j2=None, b1=None, b2=None, j12=None, t=None):\n",
    "    #Trotter-suzuki parameters:\n",
    "    # n-Numero de divisões\n",
    "    n = 1\n",
    "    # delt_t- divisão do tempo por \n",
    "    delt_j1 = (j1*t)/n\n",
    "    delt_j2 = (j2*t)/n\n",
    "    delt_b1 = (b1*t)/n\n",
    "    delt_b2 = (b2*t)/n\n",
    "    delt_j12 = (j12*t)/(2*n)\n",
    "    \n",
    "    #pi\n",
    "    pi =3.1415\n",
    "    \n",
    "    #Inicializa circuito.\n",
    "    circ_h = QuantumCircuit(2,2)\n",
    "    \n",
    "    #Inicializa os dois qubits no estado inicial.\n",
    "    circ_h.h(0)\n",
    "    circ_h.h(1)\n",
    "    \n",
    "    #Parametros para os gates\n",
    "    params_ = {'h1': delt_j1, 'h2': delt_j2, 'h3': delt_j12, 'h4': delt_b1, 'h5': delt_b2}\n",
    "    params = {'h1': Parameter('h1'), 'h2': Parameter('h2'), 'h3': Parameter('h3'), 'h4': Parameter('h4'), 'h5': Parameter('h5')}\n",
    "\n",
    "    \n",
    "    #Parte h1\n",
    "    def h1_circ(parametro = params['h1']):\n",
    "        circ_h1 = QuantumCircuit(2,2)\n",
    "        circ_h1.barrier([0,1])\n",
    "        #circ_h1.h(1)\n",
    "        circ_h1.cnot(1,0)\n",
    "        circ_h1.rz(parametro,1)\n",
    "        circ_h1.cnot(1,0)\n",
    "        #circ_h1.h(1)\n",
    "        #circ_h1.i(1)\n",
    "        circ_h1.barrier([0,1])\n",
    "        return circ_h1\n",
    "    #Parte h1\n",
    "    def h1_circ_2(parametro = params['h1']):\n",
    "        circ_h1 = QuantumCircuit(2,2)\n",
    "        circ_h1.barrier([0,1])\n",
    "        #circ_h1.h(1)\n",
    "        circ_h1.rz(parametro,1)\n",
    "        #circ_h1.h(1)\n",
    "        #circ_h1.i(1)\n",
    "        circ_h1.barrier([0,1])\n",
    "        return circ_h1\n",
    "    \n",
    "    \n",
    "    #Parte h2\n",
    "    def h2_circ(parametro = params['h2']):\n",
    "        circ_h2 = QuantumCircuit(2,2)\n",
    "        circ_h2.barrier([0,1])\n",
    "        circ_h2.cnot(0,1)\n",
    "        circ_h2.rz(parametro,0)\n",
    "        circ_h2.cnot(0,1)\n",
    "        circ_h2.barrier([0,1])\n",
    "        return circ_h2\n",
    "    \n",
    "    #Parte h2\n",
    "    def h2_circ_2(parametro = params['h2']):\n",
    "        circ_h2 = QuantumCircuit(2,2)\n",
    "        circ_h2.barrier([0,1])\n",
    "        circ_h2.rz(parametro,0)\n",
    "        circ_h2.barrier([0,1])\n",
    "        return circ_h2\n",
    "    \n",
    "    #Parte h3-1\n",
    "    def h3_circ1_2(parametro = params['h3']):        \n",
    "        circ_h3 = QuantumCircuit(2,2)\n",
    "        circ_h3.barrier([0,1])\n",
    "        circ_h3.rzz(parametro, 1, 0)\n",
    "        circ_h3.barrier([0,1])\n",
    "        return circ_h3\n",
    "    \n",
    "    #Parte h3-2\n",
    "    def h3_circ2(parametro = params['h3']):\n",
    "        return h1_circ_2(-parametro)\n",
    "    #Parte h3-3\n",
    "    def h3_circ3(parametro = params['h3']):        \n",
    "        return h2_circ_2(-parametro)\n",
    "    \n",
    "    \n",
    "    #Parte h4\n",
    "    def h4_circ(parametros=params['h4']):\n",
    "        circ_h4 = QuantumCircuit(2,2)\n",
    "        circ_h4.barrier([0,1])\n",
    "        circ_h4.h(1)\n",
    "        circ_h4.compose(h1_circ(parametros),inplace=True)#rz? estimar theta com j12?\n",
    "        circ_h4.h(1)\n",
    "        circ_h4.barrier([0,1])\n",
    "        return circ_h4\n",
    "    \n",
    "    #parte h5\n",
    "    def h5_circ(parametros=params['h5']):\n",
    "        circ_h5 = QuantumCircuit(2,2)\n",
    "        circ_h5.barrier([0,1])\n",
    "        circ_h5.h(0)\n",
    "        circ_h5.compose(h2_circ(parametros),inplace=True)#rz? estimar theta com j12?\n",
    "        circ_h5.h(0)\n",
    "        circ_h5.barrier([0,1])\n",
    "        return circ_h5\n",
    "    \n",
    "    #Constroi circuito para Hamiltoniana completa\n",
    "    def ht_circ():\n",
    "        circ_t = QuantumCircuit(2,2)\n",
    "        circ_t.compose(h1_circ_2(), inplace=True)\n",
    "        circ_t.compose(h2_circ_2(), inplace=True)\n",
    "        circ_t.compose(h3_circ1_2(), inplace=True)\n",
    "        circ_t.compose(h3_circ2(), inplace=True)\n",
    "        circ_t.compose(h3_circ3(), inplace=True)\n",
    "        #circ_t.compose(h4_circ(), inplace=True)\n",
    "        #circ_t.compose(h5_circ(), inplace=True)\n",
    "        return circ_t\n",
    "\n",
    "        \n",
    "    #Trotter-suzuki 1 ordem.\n",
    "    def trotSuzi_1(circ):\n",
    "        #Cria circuito da trotter suzuki de primeira ordem.\n",
    "        ts = QuantumCircuit(2,2)\n",
    "        #_ = list(map(ts.compose(circ, inplace=True),range(n)))\n",
    "        for a in range(n):\n",
    "            ts.compose(circ, inplace=True)\n",
    "        circ_h.compose(ts, inplace=True)\n",
    "        return\n",
    "    \n",
    "    #Trotter-suzuki 2 ordem.\n",
    "    def trotSuzi_2(circ):\n",
    "        #Cria circuito da trotter suzuki de primeira ordem.\n",
    "        ts = QuantumCircuit(2,2)\n",
    "        ts.compose(circ, inplace=True)\n",
    "        ts_rev = ts.reverse_ops()\n",
    "        ts.compose(ts_rev, inplace=True)\n",
    "        for a in range(n):\n",
    "            ts.compose(circ, inplace=True)\n",
    "        circ_h.compose(ts, inplace=True)\n",
    "        return \n",
    "    \n",
    "    #Trotter-suzuki 1 ordem para teste.\n",
    "    def trotSuzi_1t(circ):\n",
    "        #Cria circuito da trotter suzuki de primeira ordem.\n",
    "        ts = QuantumCircuit(2,2)\n",
    "        #_ = list(map(ts.compose(circ, inplace=True),range(n)))\n",
    "        for a in range(n):\n",
    "            ts.compose(circ, inplace=True)\n",
    "        circ_h.compose(ts, inplace=True)\n",
    "        return\n",
    "    \n",
    "    #Trotter-suzuki 2 ordem para teste.\n",
    "    def trotSuzi_2t(circ):\n",
    "        #Cria circuito da trotter suzuki de primeira ordem.\n",
    "        ts = QuantumCircuit(2,2)\n",
    "        for a in range(n):\n",
    "            ts.compose(circ, inplace=True)\n",
    "        ts_rev = ts.reverse_ops()\n",
    "        circ_h.compose(ts, inplace=True)\n",
    "        circ_h.compose(ts_rev, inplace=True)\n",
    "        return \n",
    "    \n",
    "    circ_t = ht_circ()\n",
    "    circ_h.compose(circ_t,inplace=True)\n",
    "    \n",
    "    #trotSuzi_1(circ_t.assign_parameters([delt_j1,delt_j2,delt_j12,delt_b1,delt_b2]))\n",
    "    #trotSuzi_2(circ_t.assign_parameters([delt_j1/2,delt_j2/2,delt_j12/2,delt_b1/2,delt_b2/2]))\n",
    "    circ_h.assign_parameters([delt_j1,delt_j2,delt_j12], inplace=True)\n",
    "    #circ_h.measure_all(add_bits=False)\n",
    "    #circ_h.save_expectation_value(Z, [0])\n",
    "    return circ_h\n",
    "\n",
    "\n",
    "c=compose_circ(j1=1, j2=1, b1=1, b2=1, j12=1, t=1)"
   ]
  },
  {
   "cell_type": "code",
   "execution_count": 55,
   "id": "53eb2a6e-93f2-477b-86a0-ee1dec93bcc5",
   "metadata": {},
   "outputs": [
    {
     "data": {
      "text/html": [
       "<pre style=\"word-wrap: normal;white-space: pre;background: #fff0;line-height: 1.1;font-family: &quot;Courier New&quot;,Courier,monospace\">     ┌───┐ ░             ░  ░ ┌─────────┐ ░  ░            ░  ░              ░ »\n",
       "q_0: ┤ H ├─░─────────────░──░─┤ Rz(1.0) ├─░──░──■─────────░──░──────────────░─»\n",
       "     ├───┤ ░ ┌─────────┐ ░  ░ └─────────┘ ░  ░  │ZZ(0.5)  ░  ░ ┌──────────┐ ░ »\n",
       "q_1: ┤ H ├─░─┤ Rz(1.0) ├─░──░─────────────░──░──■─────────░──░─┤ Rz(-0.5) ├─░─»\n",
       "     └───┘ ░ └─────────┘ ░  ░             ░  ░            ░  ░ └──────────┘ ░ »\n",
       "c: 2/═════════════════════════════════════════════════════════════════════════»\n",
       "                                                                              »\n",
       "«      ░ ┌──────────┐ ░ \n",
       "«q_0: ─░─┤ Rz(-0.5) ├─░─\n",
       "«      ░ └──────────┘ ░ \n",
       "«q_1: ─░──────────────░─\n",
       "«      ░              ░ \n",
       "«c: 2/══════════════════\n",
       "«                       </pre>"
      ],
      "text/plain": [
       "     ┌───┐ ░             ░  ░ ┌─────────┐ ░  ░            ░  ░              ░ »\n",
       "q_0: ┤ H ├─░─────────────░──░─┤ Rz(1.0) ├─░──░──■─────────░──░──────────────░─»\n",
       "     ├───┤ ░ ┌─────────┐ ░  ░ └─────────┘ ░  ░  │ZZ(0.5)  ░  ░ ┌──────────┐ ░ »\n",
       "q_1: ┤ H ├─░─┤ Rz(1.0) ├─░──░─────────────░──░──■─────────░──░─┤ Rz(-0.5) ├─░─»\n",
       "     └───┘ ░ └─────────┘ ░  ░             ░  ░            ░  ░ └──────────┘ ░ »\n",
       "c: 2/═════════════════════════════════════════════════════════════════════════»\n",
       "                                                                              »\n",
       "«      ░ ┌──────────┐ ░ \n",
       "«q_0: ─░─┤ Rz(-0.5) ├─░─\n",
       "«      ░ └──────────┘ ░ \n",
       "«q_1: ─░──────────────░─\n",
       "«      ░              ░ \n",
       "«c: 2/══════════════════\n",
       "«                       "
      ]
     },
     "execution_count": 55,
     "metadata": {},
     "output_type": "execute_result"
    }
   ],
   "source": [
    "c.draw()"
   ]
  },
  {
   "cell_type": "code",
   "execution_count": 8,
   "id": "8cd7efea-f4e3-4ea1-a189-2e312227134c",
   "metadata": {},
   "outputs": [],
   "source": [
    "# Import Qiskit\n",
    "from qiskit import QuantumCircuit\n",
    "from qiskit import Aer, transpile\n",
    "from qiskit.tools.visualization import plot_histogram, plot_state_city\n",
    "import qiskit.quantum_info as qi"
   ]
  },
  {
   "cell_type": "code",
   "execution_count": 9,
   "id": "a61cde48-1830-41a8-91b2-e2435b53c697",
   "metadata": {},
   "outputs": [
    {
     "data": {
      "text/plain": [
       "[AerSimulator('aer_simulator'),\n",
       " AerSimulator('aer_simulator_statevector'),\n",
       " AerSimulator('aer_simulator_statevector_gpu'),\n",
       " AerSimulator('aer_simulator_density_matrix'),\n",
       " AerSimulator('aer_simulator_density_matrix_gpu'),\n",
       " AerSimulator('aer_simulator_stabilizer'),\n",
       " AerSimulator('aer_simulator_matrix_product_state'),\n",
       " AerSimulator('aer_simulator_extended_stabilizer'),\n",
       " AerSimulator('aer_simulator_unitary'),\n",
       " AerSimulator('aer_simulator_unitary_gpu'),\n",
       " AerSimulator('aer_simulator_superop'),\n",
       " QasmSimulator('qasm_simulator'),\n",
       " StatevectorSimulator('statevector_simulator'),\n",
       " UnitarySimulator('unitary_simulator'),\n",
       " PulseSimulator('pulse_simulator')]"
      ]
     },
     "execution_count": 9,
     "metadata": {},
     "output_type": "execute_result"
    }
   ],
   "source": [
    "Aer.backends()"
   ]
  },
  {
   "cell_type": "code",
   "execution_count": 11,
   "id": "38c33951-8bd6-450f-bda8-0f397cba7714",
   "metadata": {},
   "outputs": [],
   "source": [
    "#Computador Quantico\n",
    "#device = provider.get_backend('ibmq_belem')\n",
    "\n",
    "#Simulador\n",
    "simulator = Aer.get_backend('aer_simulator_density_matrix')\n",
    "#simulator.set_options(device='GPU')"
   ]
  },
  {
   "cell_type": "code",
   "execution_count": 42,
   "id": "efc9bdd8-3310-4e97-bd29-af1b34f11aaa",
   "metadata": {},
   "outputs": [],
   "source": [
    "#Inicializa circuito.\n",
    "#circ = QuantumCircuit(2,2)\n",
    "#circ_l = [compose_circ(j1=1, j2=1, b1=1, b2=1, j12=1)]\n",
    "#Inicializa os dois qubits no estado inicial.\n",
    "#circ.h(0)\n",
    "#circ.h(1)\n",
    "\n",
    "#Shots\n",
    "shots = 10000000"
   ]
  },
  {
   "cell_type": "code",
   "execution_count": 43,
   "id": "59ea15e2-be01-4e00-8e90-6914f4c962a0",
   "metadata": {},
   "outputs": [
    {
     "data": {
      "image/png": "[encoded data removed]",
      "text/plain": [
       "<Figure size 504x360 with 1 Axes>"
      ]
     },
     "execution_count": 43,
     "metadata": {},
     "output_type": "execute_result"
    }
   ],
   "source": [
    "#Parte Simulador\n",
    "circ = transpile(c, simulator)\n",
    "device_result = simulator.run(circ, shots=shots, memory=False).result()   \n",
    "data = device_result.data(0)\n",
    "plot_histogram(device_result.get_counts())"
   ]
  },
  {
   "cell_type": "code",
   "execution_count": 44,
   "id": "bf2fe94d-0979-4f78-b44e-26eccedbe2a9",
   "metadata": {},
   "outputs": [
    {
     "ename": "NameError",
     "evalue": "name 'device' is not defined",
     "output_type": "error",
     "traceback": [
      "\u001b[0;31m---------------------------------------------------------------------------\u001b[0m",
      "\u001b[0;31mNameError\u001b[0m                                 Traceback (most recent call last)",
      "\u001b[0;32m/tmp/ipykernel_88823/2067516603.py\u001b[0m in \u001b[0;36m<module>\u001b[0;34m\u001b[0m\n\u001b[1;32m      1\u001b[0m \u001b[0;32mfrom\u001b[0m \u001b[0mqiskit\u001b[0m \u001b[0;32mimport\u001b[0m \u001b[0;34m*\u001b[0m\u001b[0;34m\u001b[0m\u001b[0;34m\u001b[0m\u001b[0m\n\u001b[0;32m----> 2\u001b[0;31m \u001b[0mcirc\u001b[0m \u001b[0;34m=\u001b[0m \u001b[0mtranspile\u001b[0m\u001b[0;34m(\u001b[0m\u001b[0mc\u001b[0m\u001b[0;34m,\u001b[0m \u001b[0mdevice\u001b[0m\u001b[0;34m)\u001b[0m\u001b[0;34m\u001b[0m\u001b[0;34m\u001b[0m\u001b[0m\n\u001b[0m\u001b[1;32m      3\u001b[0m \u001b[0mjob\u001b[0m \u001b[0;34m=\u001b[0m \u001b[0mexecute\u001b[0m\u001b[0;34m(\u001b[0m\u001b[0mcirc\u001b[0m\u001b[0;34m,\u001b[0m\u001b[0mbackend\u001b[0m \u001b[0;34m=\u001b[0m \u001b[0mdevice\u001b[0m\u001b[0;34m,\u001b[0m\u001b[0mshots\u001b[0m \u001b[0;34m=\u001b[0m \u001b[0mshots\u001b[0m\u001b[0;34m)\u001b[0m\u001b[0;34m\u001b[0m\u001b[0;34m\u001b[0m\u001b[0m\n",
      "\u001b[0;31mNameError\u001b[0m: name 'device' is not defined"
     ]
    }
   ],
   "source": [
    "from qiskit import *\n",
    "circ = transpile(c, device)\n",
    "job = execute(circ,backend = device,shots = shots)"
   ]
  },
  {
   "cell_type": "code",
   "execution_count": null,
   "id": "ec4ae3f5-c8aa-4dae-a7df-78f762bd92b5",
   "metadata": {},
   "outputs": [],
   "source": [
    "from qiskit.tools.monitor import job_monitor\n",
    "job_monitor(job)\n",
    "device_result = job.result()\n",
    "plot_histogram(device_result.get_counts())"
   ]
  },
  {
   "cell_type": "code",
   "execution_count": 48,
   "id": "958babc9-1764-4c62-a366-85d5536ca3e5",
   "metadata": {},
   "outputs": [
    {
     "name": "stdout",
     "output_type": "stream",
     "text": [
      "-0.0004334\n",
      "0.000559\n"
     ]
    }
   ],
   "source": [
    "from math import sqrt\n",
    "#plot_histogram(device_result.get_counts())\n",
    "counts = device_result.get_counts()\n",
    "# expectation value\n",
    "expZ1 = (counts['00']+counts['01']-counts['10']-counts['11'])/shots\n",
    "expZ2 = (counts['00']+counts['10']-counts['01']-counts['11'])/shots\n",
    "print(expZ1)\n",
    "print(expZ2)"
   ]
  },
  {
   "cell_type": "code",
   "execution_count": 59,
   "id": "4d9bc8f5-774d-4524-9b33-f7ed415dfa1d",
   "metadata": {},
   "outputs": [
    {
     "name": "stdout",
     "output_type": "stream",
     "text": [
      "----------\n",
      "5.82e-05\n",
      "0.0002048\n",
      "----------\n",
      "0.769755\n",
      "0.7696218\n",
      "----------\n",
      "0.4206186\n",
      "0.4203778\n"
     ]
    }
   ],
   "source": [
    "from math import pi\n",
    "def measure_ZZ():\n",
    "    circ_zz = QuantumCircuit(2,2)\n",
    "    circ_zz.measure_all(add_bits=False)\n",
    "    return circ_zz\n",
    "def measure_YY():\n",
    "    circ_yy = QuantumCircuit(2,2)\n",
    "    circ_yy.rx(pi/2,0) #transforma |y+> em |0> e |y-> em |1> para efetuar medida em X\n",
    "    circ_yy.rx(pi/2,1)\n",
    "    circ_yy.measure_all(add_bits=False)\n",
    "    return circ_yy\n",
    "def measure_XX():\n",
    "    circ_xx = QuantumCircuit(2,2)\n",
    "    circ_xx.h(0)\n",
    "    circ_xx.h(1)\n",
    "    circ_xx.measure_all(add_bits=False)\n",
    "    return circ_xx\n",
    "\n",
    "measures = [measure_ZZ(), measure_XX(), measure_YY()]\n",
    "for measure in measures:\n",
    "    circ = c.compose(measure)\n",
    "    circ = transpile(circ, simulator)\n",
    "    device_result = simulator.run(circ, shots=shots, memory=False).result()   \n",
    "    print(\"-\"*10)\n",
    "    plot_histogram(device_result.get_counts())\n",
    "    counts = device_result.get_counts()\n",
    "    # expectation value\n",
    "    expZ1 = (counts['00']+counts['01']-counts['10']-counts['11'])/shots\n",
    "    expZ2 = (counts['00']+counts['10']-counts['01']-counts['11'])/shots\n",
    "    print(expZ1)\n",
    "    print(expZ2)\n",
    "    "
   ]
  },
  {
   "cell_type": "code",
   "execution_count": 51,
   "id": "364fb3ec-d2e6-4125-becb-9cff40382033",
   "metadata": {},
   "outputs": [
    {
     "data": {
      "text/plain": [
       "[<qiskit.circuit.quantumcircuit.QuantumCircuit at 0x7f570da67490>,\n",
       " <qiskit.circuit.quantumcircuit.QuantumCircuit at 0x7f570da67d90>,\n",
       " <qiskit.circuit.quantumcircuit.QuantumCircuit at 0x7f570dadb070>]"
      ]
     },
     "execution_count": 51,
     "metadata": {},
     "output_type": "execute_result"
    }
   ],
   "source": [
    "measures"
   ]
  },
  {
   "cell_type": "markdown",
   "id": "b5457dfa-49b9-4077-bb70-1f77404c26d6",
   "metadata": {},
   "source": [
    "## Fazer:\n",
    "### Shots x Precisão do classificador"
   ]
  },
  {
   "cell_type": "markdown",
   "id": "f5369564-5e38-4605-a23f-529b8839ae18",
   "metadata": {},
   "source": [
    "#### Metodo fabricio 1"
   ]
  },
  {
   "cell_type": "code",
   "execution_count": 26,
   "id": "2a9cba83-cfc2-4a9b-8234-597ac4902461",
   "metadata": {},
   "outputs": [
    {
     "data": {
      "text/plain": [
       "-0.010000000000000092"
      ]
     },
     "execution_count": 26,
     "metadata": {},
     "output_type": "execute_result"
    }
   ],
   "source": [
    "from qiskit.aqua.operators import StateFn, Z\n",
    "\n",
    "psi_N = StateFn(device_result, coeff=1)\n",
    "ev = (~psi_N@ Z @ psi_N).eval()\n",
    "ev.real"
   ]
  },
  {
   "cell_type": "code",
   "execution_count": 171,
   "id": "bbae0b2d-7e24-449f-bbca-9d4d0c64378f",
   "metadata": {},
   "outputs": [
    {
     "data": {
      "text/plain": [
       "DictStateFn({'00': 0.5409713485943595, '01': 0.49914927626913375, '10': 0.4803123983409131, '11': 0.47696960070847283}, coeff=1, is_measurement=False)"
      ]
     },
     "execution_count": 171,
     "metadata": {},
     "output_type": "execute_result"
    }
   ],
   "source": [
    "psi_N"
   ]
  },
  {
   "cell_type": "markdown",
   "id": "eb126761-f72a-4199-95cd-7ec65405e177",
   "metadata": {},
   "source": [
    "#### Metodo fabricio 2"
   ]
  },
  {
   "cell_type": "code",
   "execution_count": 173,
   "id": "46b936ab-60f4-44d8-b507-d8983efebf94",
   "metadata": {},
   "outputs": [],
   "source": [
    "result_N = device_result\n",
    "shots = result_N.results[0].shots\n",
    "counts = result_N.get_counts()\n",
    "probs = ([(i, c/shots) for i, c in counts.items()])\n",
    "P = np.float64(np.array(probs)[:, 1])\n",
    "ev =  P[0] -P[1]"
   ]
  },
  {
   "cell_type": "code",
   "execution_count": 174,
   "id": "383ff2d9-1335-4c01-a11e-ece2f4104ff3",
   "metadata": {},
   "outputs": [
    {
     "data": {
      "text/plain": [
       "0.04350000000000001"
      ]
     },
     "execution_count": 174,
     "metadata": {},
     "output_type": "execute_result"
    }
   ],
   "source": [
    "ev"
   ]
  },
  {
   "cell_type": "code",
   "execution_count": 117,
   "id": "125ea636-11b7-4243-b4a8-0937d0fbbf55",
   "metadata": {},
   "outputs": [
    {
     "data": {
      "text/plain": [
       "0.5418"
      ]
     },
     "execution_count": 117,
     "metadata": {},
     "output_type": "execute_result"
    }
   ],
   "source": [
    "(counts['00']+counts['01'])/20000"
   ]
  },
  {
   "cell_type": "code",
   "execution_count": 120,
   "id": "78c75f45-838b-4f38-9cb0-5293fdb2d81b",
   "metadata": {},
   "outputs": [
    {
     "data": {
      "text/plain": [
       "0.4582"
      ]
     },
     "execution_count": 120,
     "metadata": {},
     "output_type": "execute_result"
    }
   ],
   "source": [
    "((counts['10']+counts['11']))/20000"
   ]
  },
  {
   "cell_type": "code",
   "execution_count": null,
   "id": "85a5d135-ba3b-488b-8229-b8ae5d16a365",
   "metadata": {},
   "outputs": [],
   "source": [
    "print(job.job_id())"
   ]
  },
  {
   "cell_type": "code",
   "execution_count": null,
   "id": "ad288e9c-4c0a-42b4-ba76-978644810091",
   "metadata": {},
   "outputs": [],
   "source": [
    "data = result.data(0)\n",
    "#np.asarray(data['density_matrix'])\n",
    "#rho_AB = qi.DensityMatrix.from_instruction(circ)\n",
    "#data['density_matrix'].draw('latex', prefix='\\\\rho_{ibm} = ')\n",
    "data"
   ]
  },
  {
   "cell_type": "code",
   "execution_count": null,
   "id": "10042a4e-89a5-4486-89a2-d2195a242dbe",
   "metadata": {},
   "outputs": [],
   "source": [
    "dm = np.array(data['density_matrix']).real\n",
    "dm"
   ]
  },
  {
   "cell_type": "code",
   "execution_count": null,
   "id": "6bb49f94-5fb6-4a1b-8324-f889322220bc",
   "metadata": {},
   "outputs": [],
   "source": [
    "rho_N = result.data['density_matrix']['density_matrix'][0]['value']\n",
    "ev = np.trace(rho_N @ qt.sigmaz().full())"
   ]
  },
  {
   "cell_type": "code",
   "execution_count": 8,
   "id": "bb50b3eb-dfbe-4700-874e-966a21399668",
   "metadata": {},
   "outputs": [],
   "source": [
    "import DPQNova as dpq"
   ]
  },
  {
   "cell_type": "code",
   "execution_count": 9,
   "id": "8979ff43-f312-4ca2-a7af-0de4f7c0ada8",
   "metadata": {},
   "outputs": [
    {
     "data": {
      "text/plain": [
       "array([[ 0.75,  0.  ,  0.  ,  0.  ],\n",
       "       [ 0.  , -0.25,  0.  ,  0.  ],\n",
       "       [ 0.  ,  0.  , -0.25,  0.  ],\n",
       "       [ 0.  ,  0.  ,  0.  , -0.25]])"
      ]
     },
     "execution_count": 9,
     "metadata": {},
     "output_type": "execute_result"
    }
   ],
   "source": [
    "dpq_c = dpq.DinamicaPontosQuanticos()\n",
    "#hamiltoniana_p retorna em ordem diferente de seus parametros de entrada.\n",
    "h= dpq_c.hamiltoniana(j_1=1, j_2=1, bz_1=0, bz_2=0, j_12=1)\n",
    "h"
   ]
  },
  {
   "cell_type": "code",
   "execution_count": 10,
   "id": "45055d01-5600-4b66-8fa8-5ccab78b26ce",
   "metadata": {},
   "outputs": [
    {
     "name": "stdout",
     "output_type": "stream",
     "text": [
      "t: 1\n",
      "\n",
      "type: <class 'int'>\n"
     ]
    },
    {
     "data": {
      "text/latex": [
       "$$\n",
       "\\rho_{classico} = \n",
       "\\begin{bmatrix}\n",
       "\\tfrac{1}{4} & 0.13508 - 0.21037i & 0.13508 - 0.21037i & 0.13508 - 0.21037i  \\\\\n",
       " 0.13508 + 0.21037i & \\tfrac{1}{4} & \\tfrac{1}{4} & \\tfrac{1}{4}  \\\\\n",
       " 0.13508 + 0.21037i & \\tfrac{1}{4} & \\tfrac{1}{4} & \\tfrac{1}{4}  \\\\\n",
       " 0.13508 + 0.21037i & \\tfrac{1}{4} & \\tfrac{1}{4} & \\tfrac{1}{4}  \\\\\n",
       " \\end{bmatrix}\n",
       "$$"
      ],
      "text/plain": [
       "<IPython.core.display.Latex object>"
      ]
     },
     "execution_count": 10,
     "metadata": {},
     "output_type": "execute_result"
    }
   ],
   "source": [
    "dm_r= dpq_c.ro(h=h,t=1*10**(-0))\n",
    "qi.DensityMatrix(dm_r).draw('latex', prefix='\\\\rho_{classico} = ')"
   ]
  },
  {
   "cell_type": "code",
   "execution_count": 90,
   "id": "83c56a18-795b-4e80-be34-f4c56a95fd4a",
   "metadata": {},
   "outputs": [
    {
     "name": "stdout",
     "output_type": "stream",
     "text": [
      "Valor observavel classico oz1: (-1.1102230246251565e-16-1.2886323037180329e-18j)\n",
      "Valor observavel classico oz2: (-1.1102230246251565e-16-1.2886323037180329e-18j)\n",
      "Valor observavel classico ox1: (0.7701511529340699+0j)\n",
      "Valor observavel classico ox2: (0.7701511529340699+4.045117408504467e-18j)\n",
      "Valor observavel classico oy1: (0.42073549240394825+0j)\n",
      "Valor observavel classico oy2: (0.42073549240394825+0j)\n"
     ]
    }
   ],
   "source": [
    "oz1 = dpq_c.Oz1(dm_r)\n",
    "print(\"Valor observavel classico oz1:\", oz1)\n",
    "oz2 = dpq_c.Oz2(dm_r)\n",
    "print(\"Valor observavel classico oz2:\", oz2)\n",
    "ox1 = dpq_c.Ox1(dm_r)\n",
    "print(\"Valor observavel classico ox1:\", ox1)\n",
    "ox2 = dpq_c.Ox2(dm_r)\n",
    "print(\"Valor observavel classico ox2:\", ox2)\n",
    "oy1 = dpq_c.Oy1(dm_r)\n",
    "print(\"Valor observavel classico oy1:\", oy1)\n",
    "oy2 = dpq_c.Oy2(dm_r)\n",
    "print(\"Valor observavel classico oy2:\", oy2)\n"
   ]
  },
  {
   "cell_type": "code",
   "execution_count": null,
   "id": "542974d4-5c7d-4743-a9d8-4cfaeddd418c",
   "metadata": {},
   "outputs": [],
   "source": [
    "dm_r = dm_r.real\n",
    "dm_r"
   ]
  },
  {
   "cell_type": "code",
   "execution_count": null,
   "id": "e5f32fab-f0b0-497c-b145-bcd7ee2216ea",
   "metadata": {},
   "outputs": [],
   "source": [
    "psi_AB = qi.Statevector.from_instruction(circ)\n",
    "psi_AB.draw('latex', prefix='|\\\\psi_{AB}\\\\rangle = ')"
   ]
  },
  {
   "cell_type": "code",
   "execution_count": null,
   "id": "73305921-b422-455e-beac-d6cb371fdaba",
   "metadata": {},
   "outputs": [],
   "source": [
    "rho_AB = qi.DensityMatrix.from_instruction(circ)\n",
    "rho_AB.draw('latex', prefix='\\\\rho_{AB} = ')"
   ]
  },
  {
   "cell_type": "code",
   "execution_count": null,
   "id": "d197be78-c151-4ce9-865f-d8fc1782d5ab",
   "metadata": {},
   "outputs": [],
   "source": [
    "plot_state_city(rho_AB.data, title='Density Matrix')"
   ]
  },
  {
   "cell_type": "markdown",
   "id": "fabcc2ad-825d-49f1-9a54-229641102d71",
   "metadata": {},
   "source": [
    "## 2- Simulação hamiltoniana parte 1."
   ]
  },
  {
   "cell_type": "code",
   "execution_count": null,
   "id": "857582a0-f07e-4d46-ae6a-0bcabc1e1fcf",
   "metadata": {},
   "outputs": [],
   "source": []
  },
  {
   "cell_type": "code",
   "execution_count": null,
   "id": "fbbf4d72-3723-4150-b05d-d4b39ab28488",
   "metadata": {},
   "outputs": [],
   "source": [
    "circuit1 = QuantumCircuit(2,2)\n",
    "circuit1.rz(0)#rz? estimar theta com j1?\n",
    "circuit1.i(1)\n",
    "circuit1.barrier([0,1])\n",
    "circuit1.measure(0,1)\n",
    "circuit1.measure(1,1)\n",
    "circuit1.barrier([0,1])\n",
    "\n",
    "circuit1.draw()"
   ]
  },
  {
   "cell_type": "markdown",
   "id": "18360ebb-4195-4020-b557-2a333d68159e",
   "metadata": {},
   "source": [
    "## 2.1 - Simulação hamiltoniana parte 2."
   ]
  },
  {
   "cell_type": "code",
   "execution_count": null,
   "id": "518e597b-4f56-4394-89ee-ce7d5dd8dc17",
   "metadata": {},
   "outputs": [],
   "source": [
    "circuit2 = QuantumCircuit(2,2)\n",
    "circuit2.z(1)#rz? estimar theta com j2?\n",
    "circuit2.i(0)\n",
    "circuit2.barrier([0,1])\n",
    "circuit2.measure(0,1)\n",
    "circuit2.measure(1,1)\n",
    "circuit2.barrier([0,1])\n",
    "\n",
    "circuit2.draw()"
   ]
  },
  {
   "cell_type": "markdown",
   "id": "32f89937-a83a-4b2e-ace2-a5b8812fa832",
   "metadata": {
    "tags": []
   },
   "source": [
    "## 2.2 - Simulação hamiltoniana parte 3."
   ]
  },
  {
   "cell_type": "code",
   "execution_count": null,
   "id": "5b7d4a56-2cd9-41ee-8e97-e5813b530ff3",
   "metadata": {
    "tags": []
   },
   "outputs": [],
   "source": [
    "circuit3 = QuantumCircuit(2,2)\n",
    "circuit3.z(0)#rz? estimar theta com j12?\n",
    "circuit3.z(1)\n",
    "circuit3.barrier([0,1])\n",
    "circuit3.measure(0,1)\n",
    "circuit3.measure(1,1)\n",
    "circuit3.barrier([0,1])\n",
    "circuit3.z(0)#rz? estimar theta com j12?(Valor negativo -theta?)\n",
    "circuit3.i(1)\n",
    "circuit3.barrier([0,1])\n",
    "circuit3.barrier([0,1])\n",
    "circuit3.measure(0,1)\n",
    "circuit3.measure(1,1)\n",
    "circuit3.barrier([0,1])\n",
    "circuit3.i(0)#rz? estimar theta com j12?(Valor negativo -theta?)\n",
    "circuit3.z(1)\n",
    "circuit3.barrier([0,1])\n",
    "circuit3.measure(0,1)\n",
    "circuit3.measure(1,1)\n",
    "circuit3.barrier([0,1])\n",
    "\n",
    "circuit3.draw()"
   ]
  },
  {
   "cell_type": "markdown",
   "id": "db14b6f8-c99c-4f5f-bee9-018b6bacd04e",
   "metadata": {
    "tags": []
   },
   "source": [
    "## 2.3 - Simulação hamiltoniana parte 4."
   ]
  },
  {
   "cell_type": "code",
   "execution_count": null,
   "id": "b7cabbb8-3c6a-44de-9a0c-700db3ef720e",
   "metadata": {
    "tags": []
   },
   "outputs": [],
   "source": [
    "circuit4 = QuantumCircuit(2,2)\n",
    "circuit4.x(0)#rz? estimar theta com j12?\n",
    "circuit4.i(1)\n",
    "circuit4.barrier([0,1])\n",
    "circuit4.measure(0,1)\n",
    "circuit4.measure(1,1)\n",
    "circuit4.barrier([0,1])\n",
    "\n",
    "circuit4.draw()"
   ]
  },
  {
   "cell_type": "markdown",
   "id": "030043f2-65a1-4f00-b704-c8a4a8b0bca5",
   "metadata": {
    "tags": []
   },
   "source": [
    "## 2.4 - Simulação hamiltoniana parte 5."
   ]
  },
  {
   "cell_type": "code",
   "execution_count": null,
   "id": "fc63c0e4-baea-4390-b9de-334e8256bcc5",
   "metadata": {
    "tags": []
   },
   "outputs": [],
   "source": [
    "circuit5 = QuantumCircuit(2,2)\n",
    "circuit5.x(1)#rz? estimar theta com j12?\n",
    "circuit5.i(0)\n",
    "circuit5.barrier([0,1])\n",
    "circuit5.measure(0,1)\n",
    "circuit5.measure(1,1)\n",
    "circuit5.barrier([0,1])\n",
    "\n",
    "circuit5.draw()"
   ]
  },
  {
   "cell_type": "markdown",
   "id": "87fafef8-73a9-4276-a563-55334ff4eed1",
   "metadata": {},
   "source": [
    "# circuit.h(0)\n",
    "#circuit.cx(0, 1)\n",
    "#circuit.measure([0,1], [0,1])"
   ]
  },
  {
   "cell_type": "code",
   "execution_count": null,
   "id": "464a8e1b-561c-4627-b055-71577efc9a8e",
   "metadata": {},
   "outputs": [],
   "source": [
    "circuit.draw()"
   ]
  },
  {
   "cell_type": "code",
   "execution_count": null,
   "id": "e2911242-4407-4773-a968-25efca3993cc",
   "metadata": {},
   "outputs": [],
   "source": [
    "help(circuit)"
   ]
  },
  {
   "cell_type": "code",
   "execution_count": null,
   "id": "5adbb42e-215a-4c2a-a576-4ad702bf91ef",
   "metadata": {},
   "outputs": [],
   "source": [
    "import qiskit.quantum_info as qi"
   ]
  },
  {
   "cell_type": "code",
   "execution_count": null,
   "id": "a00ce289-d9a6-4bb0-b085-0a5515600c36",
   "metadata": {},
   "outputs": [],
   "source": [
    "rho_0 = qi.DensityMatrix(np.array([[0.25,0.25], [0.25,0.25]]))"
   ]
  },
  {
   "cell_type": "code",
   "execution_count": null,
   "id": "96b8bcca-8ab2-4ef2-9a98-becf4b321398",
   "metadata": {},
   "outputs": [],
   "source": [
    "rho_0.draw('latex', prefix='\\\\rho_0 = ')"
   ]
  },
  {
   "cell_type": "code",
   "execution_count": null,
   "id": "10375d9d-7d1c-41bb-9a83-4906b59b0a4d",
   "metadata": {},
   "outputs": [],
   "source": [
    "from qiskit.visualization import array_to_latex\n",
    "Y = qi.Operator.from_label('X')\n",
    "array_to_latex(Y.data, prefix='X =')"
   ]
  },
  {
   "cell_type": "code",
   "execution_count": null,
   "id": "5fbe3459-ceb0-4598-a072-92b664e6d12c",
   "metadata": {},
   "outputs": [],
   "source": [
    "rho_0p = rho_0.evolve(Y)\n",
    "rho_0p.draw('latex', prefix='\\\\rho\\'_0 = ')"
   ]
  },
  {
   "cell_type": "code",
   "execution_count": null,
   "id": "adaa98ba-2a65-43ad-b4a1-3c7f057cd741",
   "metadata": {},
   "outputs": [],
   "source": [
    "from qiskit.visualization import array_to_latex\n",
    "Y = qi.Operator.from_label('I')\n",
    "array_to_latex(Y.data, prefix='I =')"
   ]
  },
  {
   "cell_type": "code",
   "execution_count": null,
   "id": "10a4bbcc-feee-4134-a712-e2bedb825f41",
   "metadata": {},
   "outputs": [],
   "source": [
    "rho_0p = rho_0.evolve(Y)\n",
    "rho_0p.draw('latex', prefix='\\\\rho\\'_0 = ')"
   ]
  },
  {
   "cell_type": "code",
   "execution_count": null,
   "id": "995a7121-52c1-4f30-9c4b-b1c0ac1c1ca7",
   "metadata": {},
   "outputs": [],
   "source": [
    "circ = QuantumCircuit(2,2)\n",
    "circ.rx(1,0)\n",
    "circ.rz(0,0)\n",
    "circ.ry(0,0)\n",
    "circ.rx(1,1)\n",
    "circ.rz(0,1)\n",
    "circ.ry(0,1)"
   ]
  },
  {
   "cell_type": "code",
   "execution_count": null,
   "id": "0924e41d-f353-46b8-af6b-b068269100b1",
   "metadata": {},
   "outputs": [],
   "source": [
    "circ.draw()"
   ]
  },
  {
   "cell_type": "code",
   "execution_count": null,
   "id": "f3964b0e-d654-4044-ae5b-5c21df84f255",
   "metadata": {},
   "outputs": [],
   "source": [
    "circ.snapshot_density_matrix('density_matrix')"
   ]
  },
  {
   "cell_type": "code",
   "execution_count": null,
   "id": "73f8ccd4-d7e5-4aef-958d-e18d8813678e",
   "metadata": {},
   "outputs": [],
   "source": [
    "r = qi.Statevector.from_instruction(circ)\n",
    "r.draw('latex', prefix='\\\\rho = ')\n"
   ]
  },
  {
   "cell_type": "code",
   "execution_count": null,
   "id": "ba86d837-a376-495a-acfb-6526d212a0e6",
   "metadata": {},
   "outputs": [],
   "source": []
  }
 ],
 "metadata": {
  "kernelspec": {
   "display_name": "Python 3 (ipykernel)",
   "language": "python",
   "name": "python3"
  },
  "language_info": {
   "codemirror_mode": {
    "name": "ipython",
    "version": 3
   },
   "file_extension": ".py",
   "mimetype": "text/x-python",
   "name": "python",
   "nbconvert_exporter": "python",
   "pygments_lexer": "ipython3",
   "version": "3.9.9"
  }
 },
 "nbformat": 4,
 "nbformat_minor": 5
}
