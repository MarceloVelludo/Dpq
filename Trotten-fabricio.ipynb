{
 "cells": [
  {
   "cell_type": "code",
   "execution_count": 2,
   "id": "77766964",
   "metadata": {},
   "outputs": [],
   "source": [
    "import qutip as qt\n",
    "import numpy as np\n",
    "import matplotlib.pyplot as plt\n",
    "import h5py\n",
    "import os.path\n",
    "import time\n",
    "import pandas as pd\n",
    "from sklearn.decomposition import PCA\n",
    "from sklearn.neighbors import KNeighborsClassifier\n",
    "from sklearn.model_selection import train_test_split\n",
    "from sklearn.preprocessing import StandardScaler, LabelEncoder\n",
    "import numpy as np\n",
    "import random\n",
    "from sklearn.metrics import mean_squared_error\n",
    "from scipy.linalg import sqrtm\n",
    "import qiskit.quantum_info as qi\n",
    "from qiskit.providers.aer import extensions  # import aer snapshot instructions\n",
    "from qiskit import QuantumCircuit, execute, Aer\n",
    "from qiskit.visualization import plot_histogram\n",
    "import qiskit.providers.aer.noise as noise\n",
    "from qiskit.aqua.operators import StateFn\n",
    "from qiskit.aqua.operators import Z\n",
    "%matplotlib inline\n",
    "from qiskit import Aer, IBMQ, execute\n",
    "from qiskit.providers.aer import noise\n",
    "from qiskit import QuantumCircuit, QuantumRegister, ClassicalRegister\n",
    "from qiskit.tools.visualization import plot_histogram\n",
    "from qiskit.tools.monitor import job_monitor\n",
    "import qiskit.providers.aer.extensions"
   ]
  },
  {
   "cell_type": "markdown",
   "id": "80aa761e",
   "metadata": {},
   "source": [
    "We will use the hamiltonian\n",
    "\n",
    "$H =  \\frac{1}{2}\\left(J_{1}\\sigma_{z}^{(1)}+J_{2} \\sigma_{z}^{(2)}\\right) +\\frac{J_{12}}{4}\\left(\\sigma_{z}^{(1)}\\otimes \\sigma_{z}^{(2)} - \\sigma_{z}^{(1)} -\\sigma_{z}^{(2)} \\right) + \\frac{1}{2}\\left( Bz1 \\sigma_{x}^{(1)} + Bz2\\sigma_{x}^{(2)}\\right)$\n",
    "\n",
    "The Trotter-suzuki aprroximation, if $t$ is large, Trotter-Suzuki formulas can still be used to simulate the dynamics accurately by breaking it up into a sequence of short time-steps. Let $r$ be the number of steps taken in the time evolution, so each time step  runs for time $t/r$. Then, we have that\n",
    "\n",
    "$e^{-i H t} = e^{-i \\sum_{j}^{m} H_{j} t} = \\left(\\Pi_{j=1}^{m} e^{-iH_{j}t/r}  \\right)^{r}+O(m^{2}t^{2}/r)$\n",
    "\n",
    "which implies that if $r$ scales as $m^{2}t^{2}/\\epsilon$ then the error can be made at most $\\epsilon$ for any $\\epsilon >0$. For ours Hamiltonian we can rewrite as \n",
    "\n",
    "$H =  \\left(J_{1}-\\frac{J_{12}}{2}\\right)\\frac{\\sigma_{z}^{(1)}}{2} + \\left(J_{2}-\\frac{J_{12}}{2}\\right)\\frac{\\sigma_{z}^{(2)}}{2} + \\frac{J_{12}}{4}\\sigma_{z}^{(1)}\\otimes \\sigma_{z}^{(2)}+\\frac{1}{2}Bz1 \\sigma_{x}^{(1)} + \\frac{1}{2}Bz2\\sigma_{x}^{(2)}$\n",
    "\n",
    "this allow us to write te evolution of fisrt ordem\n",
    "\n",
    "$e^{-i H t} = \\left(e^{-i \\left(J_{1}-\\frac{J_{12}}{2}\\right)\\frac{\\sigma_{z}^{(1)}}{2} t/r}e^{-i\\left(J_{2}-\\frac{J_{12}}{2}\\right)\\frac{\\sigma_{z}^{(2)}}{2}t/r}e^{-i \\frac{J_{12}}{4}\\sigma_{z}^{(1)}\\otimes \\sigma_{z}^{(2)} t/r} e^{-i \\frac{1}{2}Bz1 \\sigma_{x}^{(1)} t/r}  e^{-i \\frac{1}{2}Bz2\\sigma_{x}^{(2)} t/r} \\right)^{r}+O(5^{2}t^{2}/r)$\n",
    "\n",
    "rewrite in terms of logic gates\n",
    "\n",
    "$e^{-i H t} = \\left(R_{z}^{1}\\left(\\left(J_{1}-\\frac{J_{12}}{2}\\right)\\frac{t}{r} \\right) R_{z}^{2}\\left(\\left(J_{2}-\\frac{J_{12}}{2}\\right)\\frac{t}{r} \\right) R_{zz}^{12}\\left( \\frac{J_{12}t}{2r}\\right) R_{x}^{1}\\left(Bz1 t/r\\right)R_{x}^{2}\\left(Bz2t/r\\right) \\right)^{r}  + O(5^{2}t^{2}/r)$\n",
    "\n",
    "More accurate approximations can be built by constructing a sequence of operator exponentials such that the error terms cancel. The simplest such formula, the second order Trotter-Suzuki formula, takes the form\n",
    "\n",
    "$e^{-i H t} = \\left(\\prod_{j=1}^{m} e^{-iH_{j}t/2r} \\prod_{j=m}^{1} e^{-iH_{j}t/2r} \\right)^{r} + O(m^{3}t^{3}/r^{2})$,\n",
    "\n",
    "the error of which can be made less than $\\epsilon$ for any $\\epsilon >0$ by choosing $r$ to scale as $m^{3/2}t^{3/2}/\\sqrt{\\epsilon}$. For ours Hamiltonian\n",
    "\n",
    "$e^{-i H t} = \\left(e^{-i \\left(J_{1}-\\frac{J_{12}}{2}\\right)\\frac{\\sigma_{z}^{(1)}}{2} t/2r}e^{-i\\left(J_{2}-\\frac{J_{12}}{2}\\right)\\frac{\\sigma_{z}^{(2)}}{2}t/2r}e^{-i \\frac{J_{12}}{4}\\sigma_{z}^{(1)}\\otimes \\sigma_{z}^{(2)} t/2r} e^{-i \\frac{1}{2}Bz1 \\sigma_{x}^{(1)} t/2r}  e^{-i \\frac{1}{2}Bz2\\sigma_{x}^{(2)} t/2r} \n",
    "e^{-i \\frac{1}{2}Bz2\\sigma_{x}^{(2)} t/2r} e^{-i \\frac{1}{2}Bz1 \\sigma_{x}^{(1)} t/2r} e^{-i \\frac{J_{12}}{4}\\sigma_{z}^{(1)}\\otimes \\sigma_{z}^{(2)} t/2r} e^{-i\\left(J_{2}-\\frac{J_{12}}{2}\\right)\\frac{\\sigma_{z}^{(2)}}{2}t/2r} e^{-i \\left(J_{1}-\\frac{J_{12}}{2}\\right)\\frac{\\sigma_{z}^{(1)}}{2} t/2r} \\right)+ O(5^{3}t^{3}/r^{2})\n",
    "$\n",
    "in terms of the logic gates\n",
    "\n",
    "$e^{-i H t} = \\left(R_{z}^{1}\\left(\\left(J_{1}-\\frac{J_{12}}{2}\\right)\\frac{t}{2r} \\right) R_{z}^{2}\\left(\\left(J_{2}-\\frac{J_{12}}{2}\\right)\\frac{t}{2r} \\right) R_{zz}^{12}\\left( \\frac{J_{12}t}{4r}\\right) R_{x}^{1}\\left(Bz1 t/2r\\right)R_{x}^{2}\\left(Bz2t/2r\\right)R_{x}^{2}\\left(Bz2t/2r\\right) R_{x}^{1}\\left(Bz1 t/2r\\right)R_{zz}^{12}\\left( \\frac{J_{12}t}{4r}\\right) R_{z}^{2}\\left(\\left(J_{2}-\\frac{J_{12}}{2}\\right)\\frac{t}{2r} \\right) R_{z}^{1}\\left(\\left(J_{1}-\\frac{J_{12}}{2}\\right)\\frac{t}{2r} \\right)\\right)^{r} + O(5^{3}t^{3}/r^{2})$,\n",
    "\n",
    "\n"
   ]
  },
  {
   "cell_type": "code",
   "execution_count": 4,
   "id": "0030b1fc",
   "metadata": {},
   "outputs": [
    {
     "data": {
      "image/png": "[encoded data removed]",
      "text/plain": [
       "<Figure size 432x288 with 1 Axes>"
      ]
     },
     "metadata": {
      "needs_background": "light"
     },
     "output_type": "display_data"
    },
    {
     "data": {
      "image/png": "[encoded data removed]",
      "text/plain": [
       "<Figure size 432x288 with 1 Axes>"
      ]
     },
     "metadata": {
      "needs_background": "light"
     },
     "output_type": "display_data"
    }
   ],
   "source": [
    "times= np.linspace(0,1,500)#definindo tempo de evolução\n",
    "psi01 = ((np.sqrt(0.5))*qt.basis(2,1)+(np.sqrt(0.5))*qt.basis(2,0))\n",
    "psi02 =  ((np.sqrt(0.5))*qt.basis(2,1)+(np.sqrt(0.5))*qt.basis(2,0))\n",
    "rho0 = qt.tensor(psi01 * psi01.dag(),  psi02 * psi02.dag())\n",
    "\n",
    "J1 = 280*2*np.pi/1000;\n",
    "J2 = 320*2*np.pi/1000;\n",
    "Bz1 = (1000*np.pi/16)/1000;\n",
    "Bz2 = Bz1;\n",
    "J12 = np.pi/140;\n",
    "\n",
    "def H(J1,J2,J12,Bz1,Bz2):\n",
    "        H = ((1/2) * (J1 * qt.tensor(qt.sigmaz(),qt.identity(2)) \n",
    "                      + J2 * qt.tensor(qt.identity(2),qt.sigmaz()))\n",
    "    +(J12/4)*(qt.tensor(qt.sigmaz(),qt.sigmaz())-qt.tensor(qt.sigmaz(),qt.identity(2))\n",
    "              -qt.tensor(qt.identity(2),qt.sigmaz()))\n",
    "             +(1/2)*(Bz1*qt.tensor(qt.sigmax(),qt.identity(2)) \n",
    "                     + Bz2 * qt.tensor(qt.identity(2),qt.sigmax())))\n",
    "        return H\n",
    "\n",
    "def rho_evolution(J1,J2,J12,Bz1,Bz2, t):\n",
    "    rhoev = (-1.0j * t * H(J1,J2,J12,Bz1,Bz2)).expm() * rho0 * (1.0j * t *H(J1,J2,J12,Bz1,Bz2)).expm()\n",
    "    return rhoev    \n",
    "def rhotrotten(J1,J2,J12,Bz1,Bz2,t, r):\n",
    "    U = ((-1.0j  * (J1 -(J12/2)) * qt.tensor(qt.sigmaz(),qt.identity(2)) *t/(2*r)).expm()\n",
    "         *(-1.0j  * (J2 -(J12/2)) * qt.tensor(qt.identity(2),qt.sigmaz()) *t/(2*r)).expm()\n",
    "         *(-1.0j * J12 * qt.tensor(qt.sigmaz(), qt.sigmaz()) *t/(4*r)).expm()\n",
    "         *(-1.0j * Bz1 * qt.tensor(qt.sigmax(),qt.identity(2)) *t/(2*r)).expm()\n",
    "         *(-1.0j * Bz2 * qt.tensor(qt.identity(2),qt.sigmax() *t/(2*r))).expm())\n",
    "    rhoev = (U**(r)) * rho0 *(U.dag()**(r)) \n",
    "    return rhoev\n",
    "def rhoTrotter_Suzuki(J1,J2,J12,Bz1,Bz2, t, r):\n",
    "    U2 = ((-1.0j  * (J1 -(J12/2)) * qt.tensor(qt.sigmaz(),qt.identity(2)) *t/(4*r)).expm()\n",
    "         *(-1.0j  * (J2 -(J12/2)) * qt.tensor(qt.identity(2),qt.sigmaz()) *t/(4*r)).expm()\n",
    "         *(-1.0j * J12 * qt.tensor(qt.sigmaz(), qt.sigmaz()) *t/(8*r)).expm()\n",
    "         *(-1.0j * Bz1 * qt.tensor(qt.sigmax(),qt.identity(2)) *t/(4*r)).expm()\n",
    "         *(-1.0j * Bz2 * qt.tensor(qt.identity(2),qt.sigmax() *t/(4*r))).expm()\n",
    "         *(-1.0j * Bz2 * qt.tensor(qt.identity(2),qt.sigmax() *t/(4*r))).expm()\n",
    "         *(-1.0j * Bz1 * qt.tensor(qt.sigmax(),qt.identity(2)) *t/(4*r)).expm()\n",
    "         *(-1.0j * J12 * qt.tensor(qt.sigmaz(), qt.sigmaz()) *t/(8*r)).expm()\n",
    "         *(-1.0j  * (J2 -(J12/2)) * qt.tensor(qt.identity(2),qt.sigmaz()) *t/(4*r)).expm()\n",
    "         *(-1.0j  * (J1 -(J12/2)) * qt.tensor(qt.sigmaz(),qt.identity(2)) *t/(4*r)).expm()\n",
    "         )\n",
    "    \n",
    "    rohev = (U2**r) * rho0 * (U2.dag()**r)\n",
    "    return rohev\n",
    "\n",
    "fide_ts4 = []\n",
    "fide_Ori =[]\n",
    "for t in times:\n",
    "        Fide_ev_t = ((((rho_evolution(J1,J2,J12,Bz1,Bz2,t)).sqrtm() * rho_evolution(J1,J2,J12,Bz1,Bz2,t) * (rho_evolution(J1,J2,J12,Bz1,Bz2,t)).sqrtm()).sqrtm()).tr())**2\n",
    "        fide_Ori.append(Fide_ev_t.real)\n",
    "        \n",
    "for r in [1,2,3,4,5,6]:\n",
    "    fide_trotter = []\n",
    "    for t in times:\n",
    "        Fide_ev_lie = (((((rho_evolution(J1,J2,J12,Bz1,Bz2,t))).sqrtm() * rhotrotten(J1,J2,J12,Bz1,Bz2,t, r) * (rho_evolution(J1,J2,J12,Bz1,Bz2,t)).sqrtm()).sqrtm()).tr())**2\n",
    "        fide_trotter.append(Fide_ev_lie.real)\n",
    "    plt.plot(times,fide_trotter,'o', label = 'Trooter_step_'+str(r))\n",
    "plt.plot(times,fide_Ori ,'o', label = 'Total Evolution')\n",
    "plt.ylim(0,1.1)\n",
    "plt.legend()\n",
    "\n",
    "plt.show()\n",
    "\n",
    "for r in [1,2,3,4]:\n",
    "    fide_ts = []\n",
    "    for t in times:\n",
    "        Fide_ts = ((((rho_evolution(J1,J2,J12,Bz1,Bz2,t)).sqrtm() * rhoTrotter_Suzuki(J1,J2,J12,Bz1,Bz2,t,r) * (rho_evolution(J1,J2,J12,Bz1,Bz2,t)).sqrtm()).sqrtm()).tr())**2\n",
    "        fide_ts.append(Fide_ts.real)\n",
    "    plt.plot(times, fide_ts,'o', label = 'Trooter_Susuki_step_'+str(r))\n",
    "plt.plot(times,fide_Ori ,'o', label = 'Total Evolution')\n",
    "plt.ylim(0,1.1)\n",
    "plt.legend()\n",
    "plt.show()  "
   ]
  },
  {
   "cell_type": "code",
   "execution_count": 145,
   "id": "2d088513",
   "metadata": {},
   "outputs": [
    {
     "name": "stdout",
     "output_type": "stream",
     "text": [
      "Quantum object: dims = [[2, 2], [2, 2]], shape = (4, 4), type = oper, isherm = True\n",
      "Qobj data =\n",
      "[[ 0.10829552+0.j          0.21263077-0.03575357j -0.01719768-0.09956079j\n",
      "  -0.06626522-0.18835671j]\n",
      " [ 0.21263077+0.03575357j  0.42928979+0.j         -0.00089663-0.20115852j\n",
      "  -0.06792154-0.39170271j]\n",
      " [-0.01719768+0.09956079j -0.00089663+0.20115852j  0.09426162+0.j\n",
      "   0.18368766-0.03100885j]\n",
      " [-0.06626522+0.18835671j -0.06792154+0.39170271j  0.18368766+0.03100885j\n",
      "   0.36815306+0.j        ]]\n",
      "Quantum object: dims = [[2, 2], [2, 2]], shape = (4, 4), type = oper, isherm = True\n",
      "Qobj data =\n",
      "[[ 0.10829552+0.j          0.21263077-0.03575357j -0.01719768-0.09956079j\n",
      "  -0.06626522-0.18835671j]\n",
      " [ 0.21263077+0.03575357j  0.42928979+0.j         -0.00089663-0.20115852j\n",
      "  -0.06792154-0.39170271j]\n",
      " [-0.01719768+0.09956079j -0.00089663+0.20115852j  0.09426162+0.j\n",
      "   0.18368766-0.03100885j]\n",
      " [-0.06626522+0.18835671j -0.06792154+0.39170271j  0.18368766+0.03100885j\n",
      "   0.36815306+0.j        ]]\n"
     ]
    }
   ],
   "source": [
    "r = 2\n",
    "U = ((-1.0j  * (J1 -(J12/2)) * qt.tensor(qt.sigmaz(),qt.identity(2)) *t/(2*r)).expm()\n",
    "         *(-1.0j  * (J2 -(J12/2)) * qt.tensor(qt.identity(2),qt.sigmaz()) *t/(2*r)).expm()\n",
    "         *(-1.0j * J12 * qt.tensor(qt.sigmaz(), qt.sigmaz()) *t/(4*r)).expm()\n",
    "         *(-1.0j * Bz1 * qt.tensor(qt.sigmax(),qt.identity(2)) *t/(2*r)).expm()\n",
    "         *(-1.0j * Bz2 * qt.tensor(qt.identity(2),qt.sigmax() *t/(2*r))).expm())\n",
    "print((U * U) * rho0 *(U.dag() * U.dag()) )\n",
    "print(U**2 * rho0 * U.dag()**2)"
   ]
  },
  {
   "cell_type": "code",
   "execution_count": 138,
   "id": "5eec4cd9",
   "metadata": {},
   "outputs": [
    {
     "name": "stdout",
     "output_type": "stream",
     "text": [
      "Quantum object: dims = [[2, 2], [2, 2]], shape = (4, 4), type = oper, isherm = True\n",
      "Qobj data =\n",
      "[[0.2510701 +0.j         0.25042235-0.00154809j 0.24681577-0.04359858j\n",
      "  0.24592073-0.04499201j]\n",
      " [0.25042235+0.00154809j 0.24978583+0.j         0.24644784-0.04196424j\n",
      "  0.2455637 -0.0433596j ]\n",
      " [0.24681577+0.04359858j 0.24644784+0.04196424j 0.25020448+0.j\n",
      "  0.24956658-0.00152525j]\n",
      " [0.24592073+0.04499201j 0.2455637 +0.0433596j  0.24956658+0.00152525j\n",
      "  0.2489396 +0.j        ]]\n"
     ]
    }
   ],
   "source": [
    "J1 = 280*2*np.pi/1000;\n",
    "J2 = 320*2*np.pi/1000;\n",
    "Bz1 = (1000*np.pi/16)/1000;\n",
    "Bz2 = bz1;\n",
    "J12 = np.pi/140;\n",
    "t=0.1\n",
    "r=15\n",
    "U2 = ((-1.0j  * (J1 -(J12/2)) * qt.tensor(qt.sigmaz(),qt.identity(2)) *t/(4*r)).expm()\n",
    "         *(-1.0j  * (J2 -(J12/2)) * qt.tensor(qt.identity(2),qt.sigmaz()) *t/(4*r)).expm()\n",
    "         *(-1.0j * J12 * qt.tensor(qt.sigmaz(), qt.sigmaz()) *t/(8*r)).expm()\n",
    "         *(-1.0j * Bz1 * qt.tensor(qt.sigmax(),qt.identity(2)) *t/(4*r)).expm()\n",
    "         *(-1.0j * Bz2 * qt.tensor(qt.identity(2),qt.sigmax() *t/(4*r))).expm()\n",
    "         *(-1.0j * Bz2 * qt.tensor(qt.identity(2),qt.sigmax() *t/(4*r))).expm()\n",
    "         *(-1.0j * Bz1 * qt.tensor(qt.sigmax(),qt.identity(2)) *t/(4*r)).expm()\n",
    "         *(-1.0j * J12 * qt.tensor(qt.sigmaz(), qt.sigmaz()) *t/(8*r)).expm()\n",
    "         *(-1.0j  * (J2 -(J12/2)) * qt.tensor(qt.identity(2),qt.sigmaz()) *t/(4*r)).expm()\n",
    "         *(-1.0j  * (J1 -(J12/2)) * qt.tensor(qt.sigmaz(),qt.identity(2)) *t/(4*r)).expm()\n",
    "         )\n",
    "    \n",
    "print((U2**r)* rho0 *(U2**r).dag())\n"
   ]
  },
  {
   "cell_type": "code",
   "execution_count": 134,
   "id": "2de944ea",
   "metadata": {},
   "outputs": [
    {
     "data": {
      "text/latex": [
       "Quantum object: dims = [[2, 2], [2, 2]], shape = (4, 4), type = oper, isherm = True\\begin{equation*}\\left(\\begin{array}{*{11}c}0.251 & (0.250-0.002j) & (0.247-0.044j) & (0.246-0.045j)\\\\(0.250+0.002j) & 0.250 & (0.246-0.042j) & (0.245-0.043j)\\\\(0.247+0.044j) & (0.246+0.042j) & 0.250 & (0.250-0.002j)\\\\(0.246+0.045j) & (0.245+0.043j) & (0.250+0.002j) & 0.249\\\\\\end{array}\\right)\\end{equation*}"
      ],
      "text/plain": [
       "Quantum object: dims = [[2, 2], [2, 2]], shape = (4, 4), type = oper, isherm = True\n",
       "Qobj data =\n",
       "[[0.25118106+0.j         0.25042025-0.00181523j 0.24692388-0.04361962j\n",
       "  0.24587315-0.04525328j]\n",
       " [0.25042025+0.00181523j 0.24967487+0.j         0.2464912 -0.04170304j\n",
       "  0.24545546-0.04333934j]\n",
       " [0.24692388+0.04361962j 0.2464912 +0.04170304j 0.25031375+0.j\n",
       "  0.24956453-0.00178843j]\n",
       " [0.24587315+0.04525328j 0.24545546+0.04333934j 0.24956453+0.00178843j\n",
       "  0.24883032+0.j        ]]"
      ]
     },
     "execution_count": 134,
     "metadata": {},
     "output_type": "execute_result"
    }
   ],
   "source": [
    "rho_evolution(J1,J2,J12,Bz1,Bz2, 0.1)"
   ]
  },
  {
   "cell_type": "code",
   "execution_count": 32,
   "id": "9b545922",
   "metadata": {},
   "outputs": [
    {
     "data": {
      "text/latex": [
       "Quantum object: dims = [[2, 2], [2, 2]], shape = (4, 4), type = oper, isherm = True\\begin{equation*}\\left(\\begin{array}{*{11}c}0.250 & (0.250-1.295\\times10^{-04}j) & (0.250-1.295\\times10^{-04}j) & (0.250-6.084\\times10^{-05}j)\\\\(0.250+1.295\\times10^{-04}j) & 0.250 & 0.250 & (0.250+6.879\\times10^{-05}j)\\\\(0.250+1.295\\times10^{-04}j) & 0.250 & 0.250 & (0.250+6.879\\times10^{-05}j)\\\\(0.250+6.084\\times10^{-05}j) & (0.250-6.879\\times10^{-05}j) & (0.250-6.879\\times10^{-05}j) & 0.250\\\\\\end{array}\\right)\\end{equation*}"
      ],
      "text/plain": [
       "Quantum object: dims = [[2, 2], [2, 2]], shape = (4, 4), type = oper, isherm = True\n",
       "Qobj data =\n",
       "[[0.25014841+0.00000000e+00j 0.24995438-1.29540433e-04j\n",
       "  0.24995438-1.29540433e-04j 0.25023941-6.08432956e-05j]\n",
       " [0.24995438+1.29540433e-04j 0.24976057+0.00000000e+00j\n",
       "  0.24976057+0.00000000e+00j 0.25004534+6.87914545e-05j]\n",
       " [0.24995438+1.29540433e-04j 0.24976057+0.00000000e+00j\n",
       "  0.24976057+0.00000000e+00j 0.25004534+6.87914545e-05j]\n",
       " [0.25023941+6.08432956e-05j 0.25004534-6.87914545e-05j\n",
       "  0.25004534-6.87914545e-05j 0.25033045+0.00000000e+00j]]"
      ]
     },
     "execution_count": 32,
     "metadata": {},
     "output_type": "execute_result"
    }
   ],
   "source": [
    "rhotrotten(a,b,c,d, e, 0.1, 2)"
   ]
  }
 ],
 "metadata": {
  "kernelspec": {
   "display_name": "Python 3 (ipykernel)",
   "language": "python",
   "name": "python3"
  },
  "language_info": {
   "codemirror_mode": {
    "name": "ipython",
    "version": 3
   },
   "file_extension": ".py",
   "mimetype": "text/x-python",
   "name": "python",
   "nbconvert_exporter": "python",
   "pygments_lexer": "ipython3",
   "version": "3.9.9"
  }
 },
 "nbformat": 4,
 "nbformat_minor": 5
}
