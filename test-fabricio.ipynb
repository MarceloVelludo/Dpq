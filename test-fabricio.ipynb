{
 "cells": [
  {
   "cell_type": "code",
   "execution_count": 2,
   "id": "91e7812e",
   "metadata": {},
   "outputs": [],
   "source": [
    "import qutip as qt\n",
    "import numpy as np\n",
    "import matplotlib.pyplot as plt\n",
    "import h5py\n",
    "import os.path\n",
    "import time\n",
    "import pandas as pd\n",
    "from sklearn.decomposition import PCA\n",
    "from sklearn.neighbors import KNeighborsClassifier\n",
    "from sklearn.model_selection import train_test_split\n",
    "from sklearn.preprocessing import StandardScaler, LabelEncoder\n",
    "import numpy as np\n",
    "import random\n",
    "from sklearn.metrics import mean_squared_error\n",
    "from scipy.linalg import sqrtm\n",
    "import qiskit.quantum_info as qi\n",
    "from qiskit.providers.aer import extensions  # import aer snapshot instructions\n",
    "from qiskit import QuantumCircuit, execute, Aer\n",
    "from qiskit.visualization import plot_histogram\n",
    "import qiskit.providers.aer.noise as noise\n",
    "from qiskit.aqua.operators import StateFn\n",
    "from qiskit.aqua.operators import Z\n",
    "%matplotlib inline\n",
    "from qiskit import Aer, IBMQ, execute\n",
    "from qiskit.providers.aer import noise\n",
    "from qiskit import QuantumCircuit, QuantumRegister, ClassicalRegister\n",
    "from qiskit.tools.visualization import plot_histogram\n",
    "from qiskit.tools.monitor import job_monitor\n",
    "import qiskit.providers.aer.extensions"
   ]
  },
  {
   "cell_type": "code",
   "execution_count": 3,
   "id": "5f5d00d5",
   "metadata": {},
   "outputs": [
    {
     "ename": "IBMQAccountCredentialsNotFound",
     "evalue": "'No IBM Quantum Experience credentials found.'",
     "output_type": "error",
     "traceback": [
      "\u001b[0;31m---------------------------------------------------------------------------\u001b[0m",
      "\u001b[0;31mIBMQAccountCredentialsNotFound\u001b[0m            Traceback (most recent call last)",
      "\u001b[0;32m/tmp/ipykernel_423641/3224816915.py\u001b[0m in \u001b[0;36m<module>\u001b[0;34m\u001b[0m\n\u001b[1;32m      1\u001b[0m \u001b[0mtimes\u001b[0m\u001b[0;34m=\u001b[0m \u001b[0mnp\u001b[0m\u001b[0;34m.\u001b[0m\u001b[0mlinspace\u001b[0m\u001b[0;34m(\u001b[0m\u001b[0;36m0\u001b[0m\u001b[0;34m,\u001b[0m\u001b[0;36m1\u001b[0m\u001b[0;34m,\u001b[0m\u001b[0;36m1000\u001b[0m\u001b[0;34m)\u001b[0m\u001b[0;34m\u001b[0m\u001b[0;34m\u001b[0m\u001b[0m\n\u001b[1;32m      2\u001b[0m \u001b[0;31m#compare observables sigmaz\u001b[0m\u001b[0;34m\u001b[0m\u001b[0;34m\u001b[0m\u001b[0m\n\u001b[0;32m----> 3\u001b[0;31m \u001b[0mprovider\u001b[0m \u001b[0;34m=\u001b[0m \u001b[0mIBMQ\u001b[0m\u001b[0;34m.\u001b[0m\u001b[0mload_account\u001b[0m\u001b[0;34m(\u001b[0m\u001b[0;34m)\u001b[0m\u001b[0;34m\u001b[0m\u001b[0;34m\u001b[0m\u001b[0m\n\u001b[0m\u001b[1;32m      4\u001b[0m \u001b[0;31m#provider.backends()\u001b[0m\u001b[0;34m\u001b[0m\u001b[0;34m\u001b[0m\u001b[0m\n\u001b[1;32m      5\u001b[0m \u001b[0;34m\u001b[0m\u001b[0m\n",
      "\u001b[0;32m~/anaconda3/envs/mestrado/lib/python3.9/site-packages/qiskit/providers/ibmq/ibmqfactory.py\u001b[0m in \u001b[0;36mload_account\u001b[0;34m(self)\u001b[0m\n\u001b[1;32m    165\u001b[0m \u001b[0;34m\u001b[0m\u001b[0m\n\u001b[1;32m    166\u001b[0m         \u001b[0;32mif\u001b[0m \u001b[0;32mnot\u001b[0m \u001b[0mcredentials_list\u001b[0m\u001b[0;34m:\u001b[0m\u001b[0;34m\u001b[0m\u001b[0;34m\u001b[0m\u001b[0m\n\u001b[0;32m--> 167\u001b[0;31m             raise IBMQAccountCredentialsNotFound(\n\u001b[0m\u001b[1;32m    168\u001b[0m                 'No IBM Quantum Experience credentials found.')\n\u001b[1;32m    169\u001b[0m \u001b[0;34m\u001b[0m\u001b[0m\n",
      "\u001b[0;31mIBMQAccountCredentialsNotFound\u001b[0m: 'No IBM Quantum Experience credentials found.'"
     ]
    }
   ],
   "source": [
    "times= np.linspace(0,1,1000)\n",
    "#compare observables sigmaz\n",
    "provider = IBMQ.load_account()\n",
    "#provider.backends()\n",
    "\n",
    "device = provider.get_backend('ibmq_manila')\n",
    "properties = device.properties()\n",
    "coupling_map = device.configuration().coupling_map\n",
    "\n",
    "def eigenvalue_QT(omegax, omegay, omegaz, t, method):\n",
    "    circ_N = QuantumCircuit(1, 1)\n",
    "    circ_N.h(0)\n",
    "    circ_N.barrier()\n",
    "    circ_N.rx(t*omegax,0)\n",
    "    circ_N.rz(2*t*omegaz,0)\n",
    "    circ_N.ry(t*omegay,0)\n",
    "    circ_N.snapshot_density_matrix('density_matrix')\n",
    "    circ_N.measure([0],[0])\n",
    "    #if noise==0:\n",
    "    #Noise\n",
    "    prob_1 = (1- np.exp(-gamma * t))  # 1-qubit gate\n",
    "    # Depolarizing quantum errors\n",
    "    error_1 = noise.depolarizing_error(prob_1, 1)\n",
    "\n",
    "    # Add errors to noise model\n",
    "    noise_model = noise.NoiseModel()\n",
    "    noise_model.add_all_qubit_quantum_error(error_1, 'measure')\n",
    "    #noise_model.add_all_qubit_quantum_error(error_2, ['cx'])\n",
    "    # Get basis gates from noise model\n",
    "    basis_gates = noise_model.basis_gates\n",
    "    result_N = execute(circ_N, Aer.get_backend('qasm_simulator'),\n",
    "             basis_gates=basis_gates,coupling_map=coupling_map,noise_model=noise_model,shots=2**16).result()\n",
    "    if method==0:    \n",
    "        rho_N = result_N.data()['snapshots']['density_matrix']['density_matrix'][0]['value']\n",
    "        ev = np.trace(rho_N @ qt.sigmaz().full())\n",
    "    elif method==1:\n",
    "        psi_N = StateFn(result_N)\n",
    "        ev = (~psi_N @ Z @ psi_N).eval()\n",
    "    elif method==2:\n",
    "        shots = result_N.results[0].shots\n",
    "        counts = result_N.get_counts(circ_N)\n",
    "        probs = ([(i, c/shots) for i, c in counts.items()])\n",
    "        P = np.float64(np.array(probs)[:, 1])\n",
    "        ev =  P[0] -P[1]\n",
    "    return ev.real"
   ]
  },
  {
   "cell_type": "code",
   "execution_count": null,
   "id": "0e4ffeb6-8875-44bf-862a-cb995e8fa335",
   "metadata": {},
   "outputs": [],
   "source": []
  }
 ],
 "metadata": {
  "kernelspec": {
   "display_name": "Python 3 (ipykernel)",
   "language": "python",
   "name": "python3"
  },
  "language_info": {
   "codemirror_mode": {
    "name": "ipython",
    "version": 3
   },
   "file_extension": ".py",
   "mimetype": "text/x-python",
   "name": "python",
   "nbconvert_exporter": "python",
   "pygments_lexer": "ipython3",
   "version": "3.9.9"
  }
 },
 "nbformat": 4,
 "nbformat_minor": 5
}
