{
 "cells": [
  {
   "cell_type": "code",
   "execution_count": 1,
   "id": "9d40c0c3",
   "metadata": {},
   "outputs": [],
   "source": [
    "import pandas as pd\n",
    "import DPQNova\n",
    "path = \"data/TabelasNovas/\""
   ]
  },
  {
   "cell_type": "code",
   "execution_count": 2,
   "id": "2016a42b",
   "metadata": {},
   "outputs": [],
   "source": [
    "\n",
    "#X = teste.loc[:,teste.columns.str.startswith('o')]\n",
    "from os import listdir\n",
    "from os.path import isfile, join\n",
    "onlyfiles = [join(path, f) for f in listdir(path) if isfile(join(path, f)) and \"Y\" not in str(f)]"
   ]
  },
  {
   "cell_type": "code",
   "execution_count": 3,
   "id": "4606cf6d",
   "metadata": {},
   "outputs": [
    {
     "data": {
      "text/plain": [
       "['data/TabelasNovas/[10:10:0.5][10:10:0.5][0.1:0.3:0.1][0.1:0.3:0.1][0.02:2:0.02][1:20:1].csv',\n",
       " 'data/TabelasNovas/[10:10:0.5][10:10:0.5][0.1:10:0.1][0.1:10:0.1][0.02:2:0.02][1:20:1].csv',\n",
       " 'data/TabelasNovas/[1.407:2.111:0.1][1.608:2.412:0.1][0.157:0.235:0.01][0.157:0.235:0.01][0.017:0.026:0.000][1:20:1].csv',\n",
       " 'data/TabelasNovas/[1:1:0.5][1:1:0.5][0.1:10:0.1][0.1:10:0.1][0.1:10:0.1][5:25:5].csv',\n",
       " 'data/TabelasNovas/[1:1:0.5][1:1:0.5][0.1:10:1.0][0.1:10:1.0][0.1:10:1.0][5:25:5].csv',\n",
       " 'data/TabelasNovas/[1:1:0.5][1:1:0.5][0.1:10:1.0][0.1:10:1.0][0.1:10:1.0][1:20:1].csv',\n",
       " 'data/TabelasNovas/[1.407:2.111:0.1][1.608:2.412:0.1][0.157:0.235:0.01][0.157:0.235:0.01][0.017:0.026:0.000][5:25:5].csv',\n",
       " 'data/TabelasNovas/[1.40:2.11:0.1][1.60:2.41:0.1][0.15:0.39:0.01][0.15:0.23:0.01][0.01:0.02:0.00][1:20:1].csv',\n",
       " 'data/TabelasNovas/[10:10:0.5][10:10:0.5][0.1:0.3:0.1][0.1:0.3:0.1][0.02:1:0.02][1:20:1].csv']"
      ]
     },
     "execution_count": 3,
     "metadata": {},
     "output_type": "execute_result"
    }
   ],
   "source": [
    "onlyfiles"
   ]
  },
  {
   "cell_type": "code",
   "execution_count": null,
   "id": "e94c1359",
   "metadata": {},
   "outputs": [],
   "source": [
    "dataSet = pd.read_csv(onlyfiles[7], index_col = 0)"
   ]
  },
  {
   "cell_type": "code",
   "execution_count": null,
   "id": "bfcfd2b4",
   "metadata": {},
   "outputs": [],
   "source": [
    "dataSet"
   ]
  },
  {
   "cell_type": "code",
   "execution_count": 5,
   "id": "4db3135c",
   "metadata": {},
   "outputs": [],
   "source": [
    "dpq = DPQNova.DinamicaPontosQuanticos()"
   ]
  },
  {
   "cell_type": "code",
   "execution_count": 6,
   "id": "d52ae43b",
   "metadata": {},
   "outputs": [
    {
     "data": {
      "image/png": "[encoded data removed]",
      "text/plain": [
       "<Figure size 432x288 with 1 Axes>"
      ]
     },
     "metadata": {
      "needs_background": "light"
     },
     "output_type": "display_data"
    }
   ],
   "source": [
    "for file_path in onlyfiles[:1]:\n",
    "    dpq.gen_acc_measures(file_path)"
   ]
  },
  {
   "cell_type": "code",
   "execution_count": 8,
   "id": "21e63904",
   "metadata": {},
   "outputs": [
    {
     "ename": "TypeError",
     "evalue": "'float' object cannot be interpreted as an integer",
     "output_type": "error",
     "traceback": [
      "\u001b[0;31m---------------------------------------------------------------------------\u001b[0m",
      "\u001b[0;31mTypeError\u001b[0m                                 Traceback (most recent call last)",
      "\u001b[0;32m<ipython-input-8-6bd6c5a49fed>\u001b[0m in \u001b[0;36m<module>\u001b[0;34m\u001b[0m\n\u001b[1;32m      1\u001b[0m \u001b[0;32mimport\u001b[0m \u001b[0mrandom\u001b[0m\u001b[0;34m\u001b[0m\u001b[0;34m\u001b[0m\u001b[0m\n\u001b[0;32m----> 2\u001b[0;31m \u001b[0mrandom\u001b[0m\u001b[0;34m.\u001b[0m\u001b[0msample\u001b[0m\u001b[0;34m(\u001b[0m\u001b[0mrange\u001b[0m\u001b[0;34m(\u001b[0m\u001b[0;36m1\u001b[0m\u001b[0;34m,\u001b[0m \u001b[0;36m100.0\u001b[0m\u001b[0;34m)\u001b[0m\u001b[0;34m,\u001b[0m \u001b[0;36m3\u001b[0m\u001b[0;34m)\u001b[0m\u001b[0;34m\u001b[0m\u001b[0;34m\u001b[0m\u001b[0m\n\u001b[0m",
      "\u001b[0;31mTypeError\u001b[0m: 'float' object cannot be interpreted as an integer"
     ]
    }
   ],
   "source": [
    "import random\n",
    "random.sample(range(1, 100.0), 3)"
   ]
  },
  {
   "cell_type": "code",
   "execution_count": 14,
   "id": "73bce79e",
   "metadata": {},
   "outputs": [
    {
     "data": {
      "text/plain": [
       "3.1520613515910463"
      ]
     },
     "execution_count": 14,
     "metadata": {},
     "output_type": "execute_result"
    }
   ],
   "source": [
    "def random_float(low, high):\n",
    "     return random.random()*(high-low) + low\n",
    "random_float(2.3,5.10)"
   ]
  },
  {
   "cell_type": "code",
   "execution_count": 19,
   "id": "5e0e9d26",
   "metadata": {},
   "outputs": [
    {
     "data": {
      "text/html": [
       "<div>\n",
       "<style scoped>\n",
       "    .dataframe tbody tr th:only-of-type {\n",
       "        vertical-align: middle;\n",
       "    }\n",
       "\n",
       "    .dataframe tbody tr th {\n",
       "        vertical-align: top;\n",
       "    }\n",
       "\n",
       "    .dataframe thead th {\n",
       "        text-align: right;\n",
       "    }\n",
       "</style>\n",
       "<table border=\"1\" class=\"dataframe\">\n",
       "  <thead>\n",
       "    <tr style=\"text-align: right;\">\n",
       "      <th></th>\n",
       "      <th>um</th>\n",
       "      <th>dois</th>\n",
       "      <th>três</th>\n",
       "      <th>quatro</th>\n",
       "    </tr>\n",
       "  </thead>\n",
       "  <tbody>\n",
       "    <tr>\n",
       "      <th>0</th>\n",
       "      <td>1</td>\n",
       "      <td>2</td>\n",
       "      <td>3</td>\n",
       "      <td>4</td>\n",
       "    </tr>\n",
       "    <tr>\n",
       "      <th>1</th>\n",
       "      <td>1</td>\n",
       "      <td>2</td>\n",
       "      <td>3</td>\n",
       "      <td>4</td>\n",
       "    </tr>\n",
       "    <tr>\n",
       "      <th>2</th>\n",
       "      <td>1</td>\n",
       "      <td>2</td>\n",
       "      <td>3</td>\n",
       "      <td>4</td>\n",
       "    </tr>\n",
       "  </tbody>\n",
       "</table>\n",
       "</div>"
      ],
      "text/plain": [
       "   um  dois  três  quatro\n",
       "0   1     2     3       4\n",
       "1   1     2     3       4\n",
       "2   1     2     3       4"
      ]
     },
     "execution_count": 19,
     "metadata": {},
     "output_type": "execute_result"
    }
   ],
   "source": [
    "import pandas as pd\n",
    "data = pd.DataFrame([[1,2,3,4], [1,2,3,4], [1,2,3,4]], columns=[\"um\", \"dois\", \"três\", \"quatro\"])\n",
    "data"
   ]
  },
  {
   "cell_type": "code",
   "execution_count": 20,
   "id": "3b0aaa56-9a80-48ba-b7cb-04bb1187696e",
   "metadata": {},
   "outputs": [],
   "source": [
    "a = data.columns[:]"
   ]
  },
  {
   "cell_type": "code",
   "execution_count": null,
   "id": "ea259ed7-6128-4487-ada5-222e4ecbdd83",
   "metadata": {},
   "outputs": [],
   "source": []
  }
 ],
 "metadata": {
  "kernelspec": {
   "display_name": "Python 3 (ipykernel)",
   "language": "python",
   "name": "python3"
  },
  "language_info": {
   "codemirror_mode": {
    "name": "ipython",
    "version": 3
   },
   "file_extension": ".py",
   "mimetype": "text/x-python",
   "name": "python",
   "nbconvert_exporter": "python",
   "pygments_lexer": "ipython3",
   "version": "3.9.9"
  }
 },
 "nbformat": 4,
 "nbformat_minor": 5
}
