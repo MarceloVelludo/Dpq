{
 "cells": [
  {
   "cell_type": "code",
   "execution_count": null,
   "id": "ee739715",
   "metadata": {},
   "outputs": [],
   "source": [
    "import DPQ"
   ]
  },
  {
   "cell_type": "code",
   "execution_count": null,
   "id": "3c4c37e3",
   "metadata": {},
   "outputs": [],
   "source": [
    "#!pip install pycaret"
   ]
  },
  {
   "cell_type": "raw",
   "id": "72111d5d",
   "metadata": {},
   "source": [
    "Conteúdo:\n",
    "1)Intervalos - | a = \\[1;1\\] ;b = \\[1;1\\];j= \\[0;10\\] ; T= \\[5;25\\] PJ= 0.1 |Valores minimos\n",
    "2)Intervalos - | a =\\[1;1\\] ;b = \\[1;1\\];j= \\[0;10\\]; T= \\[5;25\\] PJ= 0.01 |\n",
    "2)Intervalos - | a =\\[1;1\\] ;b = \\[1;1\\];j= \\[0;10\\]; T= \\[5;25\\] PJ= 0.001 |\n",
    "4)Intervalos - | a =\\[0;1\\] ;b = \\[0;1\\];j= \\[0;10\\]; T= \\[5;25\\] PJ= 0.01 |\n",
    "5)Intervalos - | a =\\[0;1\\] ;b = \\[0;1\\];j= \\[0;10\\] ; T= \\[5;25\\] PJ= 0.01 | \n",
    "6)Intervalos - | a =  ;b = ;j= ; T= |\n",
    "7)Intervalos - | a =  ;b = ;j= ; T= |\n",
    "8)Intervalos - | a =  ;b = ;j= ; T= |\n",
    "9)Intervalos - | a =  ;b = ;j= ; T= |"
   ]
  },
  {
   "cell_type": "markdown",
   "id": "5d97db70",
   "metadata": {},
   "source": [
    "## 1)Intervalos - | a = \\[1;1\\] ;b = \\[1;1\\];j= \\[0;10\\] ; T= \\[5;25\\] PJ= 0.1 | Valores minimos"
   ]
  },
  {
   "cell_type": "markdown",
   "id": "82264e59",
   "metadata": {},
   "source": [
    "Instacia classe com os parametros que deseja-se estudar:"
   ]
  },
  {
   "cell_type": "code",
   "execution_count": null,
   "id": "236773d5",
   "metadata": {},
   "outputs": [],
   "source": [
    "dpq = DPQ.DinamicaPontosQuanticos(aInicial = 1, aFinal =1, bInicial = 1, bFinal = 1, jInicial = 0, jFinal = 10 , passoJ = 0.1)\n",
    "dpq.saveDataFrame()"
   ]
  },
  {
   "cell_type": "markdown",
   "id": "f27609e7",
   "metadata": {},
   "source": [
    "Cria dataset com os parametros passados na instancia da classe:"
   ]
  },
  {
   "cell_type": "code",
   "execution_count": null,
   "id": "9648a1e0",
   "metadata": {},
   "outputs": [],
   "source": [
    "df = dpq.criaDataFrame()\n",
    "df"
   ]
  },
  {
   "cell_type": "markdown",
   "id": "ea6cb6ea",
   "metadata": {},
   "source": [
    "Setup dos modelos ML:"
   ]
  },
  {
   "cell_type": "code",
   "execution_count": null,
   "id": "fd8c9082",
   "metadata": {},
   "outputs": [],
   "source": [
    "from sklearn.model_selection import train_test_split\n",
    "from pycaret.utils import enable_colab\n",
    "from pycaret.regression import * \n",
    "\n",
    "train, test = train_test_split(df, test_size=0.3)\n",
    "regression = setup(data = df, target='jTarget', preprocess= True, use_gpu= False, normalize=True, normalize_method = 'zscore', profile=False)"
   ]
  },
  {
   "cell_type": "code",
   "execution_count": null,
   "id": "07bf2c8a",
   "metadata": {},
   "outputs": [],
   "source": [
    "best = compare_models(turbo = True)"
   ]
  },
  {
   "cell_type": "markdown",
   "id": "a98cd630",
   "metadata": {},
   "source": [
    "## 2)Intervalos - | a = \\[1;1\\] ;b = \\[1;1\\];j= \\[0;10\\] ; T= \\[5;25\\] PJ= 0.01 | Valores maximos"
   ]
  },
  {
   "cell_type": "markdown",
   "id": "c875fc49",
   "metadata": {},
   "source": [
    "Instacia classe com os parametros que deseja-se estudar:"
   ]
  },
  {
   "cell_type": "code",
   "execution_count": null,
   "id": "db022e01",
   "metadata": {},
   "outputs": [],
   "source": [
    "dpq = DPQ.DinamicaPontosQuanticos(aInicial = 1, aFinal =1, bInicial = 1, bFinal = 1, jInicial = 0, jFinal = 10 , passoJ = 0.01)\n",
    "#dpq.saveDataFrame()"
   ]
  },
  {
   "cell_type": "markdown",
   "id": "7fe232bf",
   "metadata": {},
   "source": [
    "Cria dataset com os parametros passados na instancia da classe:"
   ]
  },
  {
   "cell_type": "code",
   "execution_count": null,
   "id": "09a94917",
   "metadata": {},
   "outputs": [],
   "source": [
    "df = dpq.criaDataFrame()\n",
    "df"
   ]
  },
  {
   "cell_type": "markdown",
   "id": "e51fd46b",
   "metadata": {},
   "source": [
    "Setup dos modelos ML:"
   ]
  },
  {
   "cell_type": "code",
   "execution_count": null,
   "id": "c371a685",
   "metadata": {},
   "outputs": [],
   "source": [
    "from sklearn.model_selection import train_test_split\n",
    "from pycaret.utils import enable_colab\n",
    "from pycaret.regression import * \n",
    "\n",
    "train, test = train_test_split(df, test_size=0.3)\n",
    "regression = setup(data = df, target='jTarget', preprocess= True, use_gpu= False, normalize=True, normalize_method = 'zscore', profile=False)"
   ]
  },
  {
   "cell_type": "code",
   "execution_count": null,
   "id": "47bf1f77",
   "metadata": {},
   "outputs": [],
   "source": [
    "best = compare_models(turbo = True)"
   ]
  },
  {
   "cell_type": "markdown",
   "id": "1f9825d4",
   "metadata": {},
   "source": [
    "## 3)Intervalos - | a = \\[1;1\\] ;b = \\[1;1\\];j= \\[0;10\\] ; T= \\[5;25\\] PJ= 0.001 | Valores minimos"
   ]
  },
  {
   "cell_type": "markdown",
   "id": "90dd262e",
   "metadata": {},
   "source": [
    "Instacia classe com os parametros que deseja-se estudar:"
   ]
  },
  {
   "cell_type": "code",
   "execution_count": null,
   "id": "ae6e0bed",
   "metadata": {},
   "outputs": [],
   "source": [
    "dpq = DPQ.DinamicaPontosQuanticos(aInicial = 1, aFinal =1, bInicial = 1, bFinal = 1, jInicial = 0, jFinal = 10 , passoJ = 0.001)\n",
    "#dpq.saveDataFrame()"
   ]
  },
  {
   "cell_type": "markdown",
   "id": "c775a6f8",
   "metadata": {},
   "source": [
    "Cria dataset com os parametros passados na instancia da classe:"
   ]
  },
  {
   "cell_type": "code",
   "execution_count": null,
   "id": "4e15bbc2",
   "metadata": {},
   "outputs": [],
   "source": [
    "df = dpq.criaDataFrame()\n",
    "df"
   ]
  },
  {
   "cell_type": "markdown",
   "id": "fb665935",
   "metadata": {},
   "source": [
    "Setup dos modelos ML:"
   ]
  },
  {
   "cell_type": "code",
   "execution_count": null,
   "id": "049cf52f",
   "metadata": {},
   "outputs": [],
   "source": [
    "from sklearn.model_selection import train_test_split\n",
    "from pycaret.utils import enable_colab\n",
    "from pycaret.regression import * \n",
    "\n",
    "train, test = train_test_split(df, test_size=0.3)\n",
    "regression = setup(data = df, target='jTarget', preprocess= True, use_gpu= False, normalize=True, normalize_method = 'zscore', profile=False)"
   ]
  },
  {
   "cell_type": "code",
   "execution_count": null,
   "id": "0c2e7155",
   "metadata": {},
   "outputs": [],
   "source": [
    "best = compare_models(turbo = True)"
   ]
  },
  {
   "cell_type": "markdown",
   "id": "5812ccfc",
   "metadata": {},
   "source": [
    "## 4)Intervalos - | a = \\[0;1\\] ;b = \\[0;1\\];j= \\[0;10\\] ; T= \\[5;25\\] PJ= 0.1 | Valores minimos"
   ]
  },
  {
   "cell_type": "markdown",
   "id": "91677341",
   "metadata": {},
   "source": [
    "Instacia classe com os parametros que deseja-se estudar:"
   ]
  },
  {
   "cell_type": "code",
   "execution_count": null,
   "id": "5d0cce81",
   "metadata": {},
   "outputs": [],
   "source": [
    "dpq = DPQ.DinamicaPontosQuanticos(aInicial = 0, aFinal =1, bInicial = 0, bFinal = 1, jInicial = 0, jFinal = 10 , passoJ = 0.1)\n",
    "#dpq.saveDataFrame()"
   ]
  },
  {
   "cell_type": "markdown",
   "id": "49bd3584",
   "metadata": {},
   "source": [
    "Cria dataset com os parametros passados na instancia da classe:"
   ]
  },
  {
   "cell_type": "code",
   "execution_count": null,
   "id": "569acc83",
   "metadata": {},
   "outputs": [],
   "source": [
    "df = dpq.criaDataFrame()\n",
    "df"
   ]
  },
  {
   "cell_type": "markdown",
   "id": "29b794ea",
   "metadata": {},
   "source": [
    "Setup dos modelos ML:"
   ]
  },
  {
   "cell_type": "code",
   "execution_count": null,
   "id": "2ce7777f",
   "metadata": {},
   "outputs": [],
   "source": [
    "from sklearn.model_selection import train_test_split\n",
    "from pycaret.utils import enable_colab\n",
    "from pycaret.regression import * \n",
    "\n",
    "train, test = train_test_split(df, test_size=0.3)\n",
    "regression = setup(data = df, target='jTarget', preprocess= True, use_gpu= False, normalize=True, normalize_method = 'zscore', profile=False)"
   ]
  },
  {
   "cell_type": "code",
   "execution_count": null,
   "id": "15166b14",
   "metadata": {},
   "outputs": [],
   "source": [
    "best = compare_models(turbo = True)"
   ]
  },
  {
   "cell_type": "markdown",
   "id": "e3981d59",
   "metadata": {},
   "source": [
    "## 5)Intervalos - | a = \\[0;1\\] ;b = \\[0;1\\];j= \\[0;10\\] ; T= \\[5;25\\] PJ= 0.01 | Valores minimos"
   ]
  },
  {
   "cell_type": "markdown",
   "id": "6476bc6c",
   "metadata": {},
   "source": [
    "Instacia classe com os parametros que deseja-se estudar:"
   ]
  },
  {
   "cell_type": "code",
   "execution_count": null,
   "id": "734f7972",
   "metadata": {},
   "outputs": [],
   "source": [
    "dpq = DPQ.DinamicaPontosQuanticos(aInicial = 0, aFinal =1, bInicial = 0, bFinal = 1, jInicial = 0, jFinal = 10 , passoJ = 0.01)\n",
    "#dpq.saveDataFrame()"
   ]
  },
  {
   "cell_type": "markdown",
   "id": "12cb2ba7",
   "metadata": {},
   "source": [
    "Cria dataset com os parametros passados na instancia da classe:"
   ]
  },
  {
   "cell_type": "code",
   "execution_count": null,
   "id": "2a87be10",
   "metadata": {},
   "outputs": [],
   "source": [
    "df = dpq.criaDataFrame()\n",
    "df"
   ]
  },
  {
   "cell_type": "markdown",
   "id": "7f988f56",
   "metadata": {},
   "source": [
    "Setup dos modelos ML:"
   ]
  },
  {
   "cell_type": "code",
   "execution_count": null,
   "id": "6207fa89",
   "metadata": {},
   "outputs": [],
   "source": [
    "from sklearn.model_selection import train_test_split\n",
    "from pycaret.utils import enable_colab\n",
    "from pycaret.regression import * \n",
    "\n",
    "train, test = train_test_split(df, test_size=0.3)\n",
    "regression = setup(data = df, target='jTarget', preprocess= True, use_gpu= False, normalize=True, normalize_method = 'zscore', profile=False)"
   ]
  },
  {
   "cell_type": "code",
   "execution_count": null,
   "id": "244c83cf",
   "metadata": {},
   "outputs": [],
   "source": [
    "best = compare_models(turbo = True)"
   ]
  },
  {
   "cell_type": "markdown",
   "id": "216ae0e2",
   "metadata": {},
   "source": [
    "## 6)Intervalos - | a = \\[0;1\\] ;b = \\[0;1\\];j= \\[0;10\\] ; T= \\[5;25\\] PJ= 0.001 | Valores minimos"
   ]
  },
  {
   "cell_type": "markdown",
   "id": "5664a659",
   "metadata": {},
   "source": [
    "Instacia classe com os parametros que deseja-se estudar:"
   ]
  },
  {
   "cell_type": "code",
   "execution_count": null,
   "id": "f91c4fba",
   "metadata": {},
   "outputs": [],
   "source": [
    "dpq = DPQ.DinamicaPontosQuanticos(aInicial = 0, aFinal =1, bInicial = 0, bFinal = 1, jInicial = 0, jFinal = 10 , passoJ = 0.001)\n",
    "dpq.saveDataFrame()"
   ]
  },
  {
   "cell_type": "markdown",
   "id": "93e98044",
   "metadata": {},
   "source": [
    "Cria dataset com os parametros passados na instancia da classe:"
   ]
  },
  {
   "cell_type": "code",
   "execution_count": null,
   "id": "641e4703",
   "metadata": {},
   "outputs": [],
   "source": [
    "df = dpq.criaDataFrame()\n",
    "#df"
   ]
  },
  {
   "cell_type": "markdown",
   "id": "b2c3865a",
   "metadata": {},
   "source": [
    "Setup dos modelos ML:"
   ]
  },
  {
   "cell_type": "code",
   "execution_count": null,
   "id": "c06bc5be",
   "metadata": {},
   "outputs": [],
   "source": [
    "from sklearn.model_selection import train_test_split\n",
    "from pycaret.utils import enable_colab\n",
    "from pycaret.regression import * \n",
    "\n",
    "train, test = train_test_split(df, test_size=0.3)\n",
    "regression = setup(data = df, target='jTarget', preprocess= True, use_gpu= False, normalize=True, normalize_method = 'zscore', profile=False)"
   ]
  },
  {
   "cell_type": "code",
   "execution_count": null,
   "id": "3306dd42",
   "metadata": {},
   "outputs": [],
   "source": [
    "best = compare_models(turbo = True)"
   ]
  },
  {
   "cell_type": "raw",
   "id": "ac145011",
   "metadata": {},
   "source": [
    "5)Intervalos - | a = \\[0;1\\] ;b = \\[0;1\\];j= \\[1;10\\] ; T= \\[5;25\\] PJ= 0.001 | Fazer\n",
    "-Incluir a e b na tabela\n",
    "a b variando de [0: 5] com passo de 0.1, J = 0.01 variando de [1:10] e salvar.\n",
    "\n",
    "Adicionar um erro Y randomico nas features da base de test e observar os resultados\n",
    "ir aumentando o valor de Y.\n",
    "Treinar com os dados da equação."
   ]
  },
  {
   "cell_type": "code",
   "execution_count": null,
   "id": "ea712e21",
   "metadata": {},
   "outputs": [],
   "source": [
    "for j in range(10):\n",
    "    dpq = DPQ.DinamicaPontosQuanticos(aInicial = 0, aFinal =1, bInicial = 0, bFinal = 1, jInicial = (0+j), jFinal = (1+j) , passoJ = 0.001)\n",
    "    dpq.saveDataFrame()"
   ]
  },
  {
   "cell_type": "code",
   "execution_count": null,
   "id": "a0064cb4",
   "metadata": {},
   "outputs": [],
   "source": [
    "import pandas as pd"
   ]
  },
  {
   "cell_type": "code",
   "execution_count": null,
   "id": "c625d4ec",
   "metadata": {},
   "outputs": [],
   "source": [
    "df_1 = pd.read_csv(\"data/Tabelas/[0:1][0:1][0:1][5:25].csv\")\n",
    "df_2 = pd.read_csv(\"data/Tabelas/[0:1][0:1][1:2][5:25].csv\")\n",
    "df_3 = pd.read_csv(\"data/Tabelas/[0:1][0:1][2:3][5:25].csv\")\n",
    "df_4 = pd.read_csv(\"data/Tabelas/[0:1][0:1][3:4][5:25].csv\")\n",
    "df_5 = pd.read_csv(\"data/Tabelas/[0:1][0:1][4:5][5:25].csv\")\n",
    "df_6 = pd.read_csv(\"data/Tabelas/[0:1][0:1][5:6][5:25].csv\")\n",
    "df_7 = pd.read_csv(\"data/Tabelas/[0:1][0:1][6:7][5:25].csv\")\n",
    "df_8 = pd.read_csv(\"data/Tabelas/[0:1][0:1][7:8][5:25].csv\")\n",
    "df_9 = pd.read_csv(\"data/Tabelas/[0:1][0:1][8:9][5:25].csv\")\n",
    "df_10 = pd.read_csv(\"data/Tabelas/[0:1][0:1][9:10][5:25].csv\")"
   ]
  },
  {
   "cell_type": "code",
   "execution_count": null,
   "id": "2c2fe275",
   "metadata": {},
   "outputs": [],
   "source": [
    "df_total = pd.concat([df_1, df_2, df_3, df_4, df_5, df_6, df_7, df_8, df_9, df_10])"
   ]
  },
  {
   "cell_type": "code",
   "execution_count": null,
   "id": "a640a7c1",
   "metadata": {},
   "outputs": [],
   "source": [
    "print(\"O data set tem um total de {} linhas\".format(len(df_total)))"
   ]
  },
  {
   "cell_type": "code",
   "execution_count": null,
   "id": "c0d68a88",
   "metadata": {},
   "outputs": [],
   "source": [
    "df_total = df_total.drop('Unnamed: 0',axis=1)"
   ]
  },
  {
   "cell_type": "code",
   "execution_count": null,
   "id": "a0ee0bc7",
   "metadata": {},
   "outputs": [],
   "source": [
    "df_total = df_total.drop_duplicates()"
   ]
  },
  {
   "cell_type": "code",
   "execution_count": null,
   "id": "7aece914",
   "metadata": {},
   "outputs": [],
   "source": [
    "print(\"O removenddo linhas duplicadas tem um total de {} linhas\".format(len(df_total)))"
   ]
  },
  {
   "cell_type": "code",
   "execution_count": null,
   "id": "fad8a2d1",
   "metadata": {},
   "outputs": [],
   "source": [
    "from sklearn.model_selection import train_test_split\n",
    "from sklearn.ensemble import BaggingRegressor\n",
    "from sklearn.tree import ExtraTreeRegressor\n",
    "from sklearn.metrics import max_error, mean_absolute_error, mean_squared_error,r2_score\n",
    "\n",
    "\n",
    "X = df_total.iloc[:,3:]\n",
    "y = df_total.iloc[:, :3]\n",
    "X_train, X_test, y_train, y_test = train_test_split(X, y, random_state=7, test_size=0.3)\n",
    "extra_tree = ExtraTreeRegressor(random_state=0)\n",
    "et_reg = BaggingRegressor(extra_tree, random_state=0).fit(X_train, y_train[\"jTarget\"])\n",
    "\n",
    "y_pred = et_reg.predict(X_test)\n",
    "maximo = max_error(y_test[\"jTarget\"], y_pred)\n",
    "mea = mean_absolute_error(y_test[\"jTarget\"], y_pred)\n",
    "meq = mean_squared_error(y_test[\"jTarget\"], y_pred)\n",
    "r2 = r2_score(y_test[\"jTarget\"], y_pred)\n",
    "print(\"máximo erro residual:\", maximo)\n",
    "print(\"Média do erro absoluto:\", mea)\n",
    "print(\"Média do erro ao quadrado:\", meq)\n",
    "print(\"r2:\", r2)"
   ]
  },
  {
   "cell_type": "code",
   "execution_count": null,
   "id": "7b061631",
   "metadata": {},
   "outputs": [],
   "source": [
    "from sklearn.svm import SVR\n",
    "\n",
    "svr_reg = SVR().fit(X_train,y_train[\"jTarget\"])\n",
    "y_pred = svr_reg.predict(X_test)\n",
    "\n",
    "maximo = max_error(y_test[\"jTarget\"], y_pred)\n",
    "mea = mean_absolute_error(y_test[\"jTarget\"], y_pred)\n",
    "meq = mean_squared_error(y_test[\"jTarget\"], y_pred)\n",
    "r2 = r2_score(y_test[\"jTarget\"], y_pred)\n",
    "print(\"máximo erro residual:\", maximo)\n",
    "print(\"Média do erro absoluto:\", mea)\n",
    "print(\"Média do erro ao quadrado:\", meq)\n",
    "print(\"r2:\", r2)"
   ]
  },
  {
   "cell_type": "code",
   "execution_count": null,
   "id": "68cd166f",
   "metadata": {},
   "outputs": [],
   "source": [
    "from catboost import CatBoostRegressor\n",
    "\n",
    "cat_reg = CatBoostRegressor(verbose=0, n_estimators=100)\n",
    "cat_reg = cat_reg.fit(X_train, y_train[\"jTarget\"])\n",
    "y_pred = cat_reg.predict(X_test)\n",
    "\n",
    "maximo = max_error(y_test[\"jTarget\"], y_pred)\n",
    "mea = mean_absolute_error(y_test[\"jTarget\"], y_pred)\n",
    "meq = mean_squared_error(y_test[\"jTarget\"], y_pred)\n",
    "r2 = r2_score(y_test[\"jTarget\"], y_pred)\n",
    "print(\"máximo erro residual:\", maximo)\n",
    "print(\"Média do erro absoluto:\", mea)\n",
    "print(\"Média do erro ao quadrado:\", meq)\n",
    "print(\"r2:\", r2)\n"
   ]
  },
  {
   "cell_type": "code",
   "execution_count": null,
   "id": "5b7fbfd0",
   "metadata": {},
   "outputs": [],
   "source": [
    "from sklearn.ensemble import RandomForestRegressor\n",
    "\n",
    "rfr_reg = RandomForestRegressor(random_state=0)\n",
    "rfr_reg = rfr_reg.fit(X_train, y_train[\"jTarget\"])\n",
    "y_pred = rfr_reg.predict(X_test)\n",
    "\n",
    "maximo = max_error(y_test[\"jTarget\"], y_pred)\n",
    "mea = mean_absolute_error(y_test[\"jTarget\"], y_pred)\n",
    "meq = mean_squared_error(y_test[\"jTarget\"], y_pred)\n",
    "r2 = r2_score(y_test[\"jTarget\"], y_pred)\n",
    "print(\"máximo erro residual:\", maximo)\n",
    "print(\"Média do erro absoluto:\", mea)\n",
    "print(\"Média do erro ao quadrado:\", meq)\n",
    "print(\"r2:\", r2)"
   ]
  },
  {
   "cell_type": "code",
   "execution_count": null,
   "id": "6058077a",
   "metadata": {},
   "outputs": [],
   "source": [
    "models = [(\"random forest regressor\",rfr_reg), (\"cat boosting\", cat_reg), (\"svr\" , svr_reg), (\"Extra tree\" , et_reg)]"
   ]
  },
  {
   "cell_type": "code",
   "execution_count": null,
   "id": "68b8f189",
   "metadata": {},
   "outputs": [],
   "source": [
    "models[1][0]"
   ]
  },
  {
   "cell_type": "code",
   "execution_count": null,
   "id": "280f9575",
   "metadata": {},
   "outputs": [],
   "source": [
    "print(\"Resultados\")\n",
    "print(\"{:25}||{:12}||{:12}||{:12}||{}\".format(\"Método\", \"max.err.res.\", \"Med.err.abs.\", \"Med.err.quad.\", \"r2\"))\n",
    "print(90*\"=\")\n",
    "for model in models:\n",
    "    y_pred = model[1].predict(X_test)\n",
    "    \n",
    "    maximo = max_error(y_test[\"jTarget\"], y_pred)\n",
    "    mea = mean_absolute_error(y_test[\"jTarget\"], y_pred)\n",
    "    meq = mean_squared_error(y_test[\"jTarget\"], y_pred)\n",
    "    r2 = r2_score(y_test[\"jTarget\"], y_pred)\n",
    "    print(\"{:25}||{:12.3f}||{:12.3f}||{:13.3f}||{:2.3f}\".format(model[0], maximo, mea, meq, r2))\n",
    "    print(90*\"-\")"
   ]
  },
  {
   "cell_type": "raw",
   "id": "00d67d0e",
   "metadata": {},
   "source": [
    "Com essa base o Método random forest regressor obteve o melhor desempenho e será o utilizado apartir deste ponto."
   ]
  },
  {
   "cell_type": "raw",
   "id": "a9552d76",
   "metadata": {},
   "source": [
    "Vamos analisar como o random forest regressor está performando conforme os valores de j,a e b.\n",
    "Para isso agora será plotado o grafico do erro x intervalo (j,a,b)"
   ]
  },
  {
   "cell_type": "code",
   "execution_count": null,
   "id": "aeb306b0",
   "metadata": {},
   "outputs": [],
   "source": [
    "#Captura as predições para a base de teste\n",
    "y_pred = rfr_reg.predict(X_test)\n",
    "\n",
    "#Captura o erro para cada predição\n",
    "erro = np.array([])\n",
    "for y, pred in zip(y_test['jTarget'], y_pred):\n",
    "    erro = np.append(erro, abs(y_pred - y_test['jTarget']))"
   ]
  },
  {
   "cell_type": "code",
   "execution_count": null,
   "id": "e9e7ac45",
   "metadata": {},
   "outputs": [],
   "source": [
    "import pickle\n",
    "y"
   ]
  },
  {
   "cell_type": "code",
   "execution_count": null,
   "id": "fcb3d9e0",
   "metadata": {},
   "outputs": [],
   "source": [
    "from sklearn import svm\n",
    "from sklearn import datasets\n",
    "clf = svm.SVC()\n",
    "X, y= datasets.load_iris(return_X_y=True)\n",
    "clf.fit(X, y)\n",
    "print(clf.predict(X))\n",
    "a = \"teste\"\n",
    "pickle.dump(clf, open(\"testezinhomaroto\", 'wb'))\n",
    "a = pickle.load(open(\"testezinhomaroto\", 'rb'))\n",
    "a.predict(X)"
   ]
  },
  {
   "cell_type": "code",
   "execution_count": null,
   "id": "0f0c0a0e",
   "metadata": {},
   "outputs": [],
   "source": [
    "import random\n",
    "n = 10\n",
    "y_test = [random.uniform(0,10) for _ in range(n)]\n",
    "y_pred = [random.uniform(20,30) for _ in range(n)]\n",
    "y_test1, y_pred1=zip(*random.sample(list(zip(y_test, y_pred)), 5))\n"
   ]
  },
  {
   "cell_type": "code",
   "execution_count": null,
   "id": "a4cfead3",
   "metadata": {},
   "outputs": [],
   "source": [
    "random.uniform(0,10)\n"
   ]
  },
  {
   "cell_type": "code",
   "execution_count": null,
   "id": "a16445ad",
   "metadata": {},
   "outputs": [],
   "source": [
    "print(\"{}\\n {}\".format(list(y_test),list(y_pred)))"
   ]
  },
  {
   "cell_type": "code",
   "execution_count": null,
   "id": "acea3db6",
   "metadata": {},
   "outputs": [],
   "source": [
    "print(\"{}\\n {}\".format(y_test1,y_pred1))"
   ]
  },
  {
   "cell_type": "code",
   "execution_count": null,
   "id": "b33e9e25",
   "metadata": {},
   "outputs": [],
   "source": [
    "import dask.array as da\n",
    "y = cupy.asarray([1,2,3])\n",
    "x = da.from_array(y, chunks=(3))"
   ]
  },
  {
   "cell_type": "code",
   "execution_count": null,
   "id": "9517efe9-943c-44a9-b4fa-88a9ef369077",
   "metadata": {},
   "outputs": [],
   "source": [
    "x.map_blocks(lambda x: x * 2).compute()"
   ]
  },
  {
   "cell_type": "code",
   "execution_count": null,
   "id": "11c26805-da0d-495d-a7df-d3e455bd7a89",
   "metadata": {},
   "outputs": [],
   "source": [
    "x"
   ]
  },
  {
   "cell_type": "code",
   "execution_count": null,
   "id": "ee119c79-9e5d-4127-ab38-a0108c766e34",
   "metadata": {},
   "outputs": [],
   "source": [
    "x.visualize()"
   ]
  },
  {
   "cell_type": "code",
   "execution_count": null,
   "id": "fea8685a-e6aa-493b-8118-d19449ce2e64",
   "metadata": {},
   "outputs": [],
   "source": [
    "import cupy\n",
    "print(cupy.cuda.runtime.getDeviceCount())"
   ]
  },
  {
   "cell_type": "code",
   "execution_count": null,
   "id": "fd5d00d2-f150-4bbb-a61e-ee2ea4e0165b",
   "metadata": {},
   "outputs": [],
   "source": [
    "x = x.map_blocks(cupy.asarray([1,2,3]))"
   ]
  },
  {
   "cell_type": "code",
   "execution_count": null,
   "id": "77fd0331-0608-49c7-a0c8-2b9598acc5ec",
   "metadata": {},
   "outputs": [],
   "source": [
    "x.map_blocks(lambda x: x * 2).compute()"
   ]
  },
  {
   "cell_type": "code",
   "execution_count": null,
   "id": "821c07e9-021f-48a3-ad09-22dead1ea046",
   "metadata": {},
   "outputs": [],
   "source": [
    "cupy.asarray([1,2,3])"
   ]
  },
  {
   "cell_type": "code",
   "execution_count": null,
   "id": "b7da1c4b-3a74-43cf-a5a0-869fc954d7a6",
   "metadata": {},
   "outputs": [],
   "source": [
    "import DPQNovaPara"
   ]
  },
  {
   "cell_type": "code",
   "execution_count": null,
   "id": "521f6f63-3228-4e9e-b041-e638f3097a1b",
   "metadata": {},
   "outputs": [],
   "source": [
    "dpq = DPQNovaPara.DinamicaPontosQuanticos()"
   ]
  },
  {
   "cell_type": "code",
   "execution_count": null,
   "id": "aca9d65e-5ae9-4d2b-85ec-034c4dab4a7d",
   "metadata": {},
   "outputs": [],
   "source": [
    "dpq.make_results()"
   ]
  },
  {
   "cell_type": "code",
   "execution_count": null,
   "id": "f8deba43-2e05-4c53-9e2d-883b753b3a5d",
   "metadata": {},
   "outputs": [],
   "source": [
    "import DPQNova\n",
    "dpq = DPQNova.DinamicaPontosQuanticos()\n",
    "dpq.make_results()"
   ]
  },
  {
   "cell_type": "code",
   "execution_count": null,
   "id": "d802b0eb-a11d-4094-8fc8-311983a204ce",
   "metadata": {},
   "outputs": [],
   "source": [
    "import DPqTest as dpq\n",
    "dpq_ = dpq.DinamicaPontosQuanticos(j_1_inicial= 10, j_1_final= 10, passoJ_1 = 0.5,\n",
    "                                      j_2_inicial= 10, j_2_final= 10, passoJ_2 = 0.5,\n",
    "                                      bz_1_inicial= 5.1, bz_1_final= 10, passoBz_1 = 0.1,\n",
    "                                      bz_2_inicial= 5.1, bz_2_final= 10, passoBz_2 = 0.1,\n",
    "                                      j_12_inicial= 1.02, j_12_final= 2, passoJ_12 = 0.2,\n",
    "                                      tInicial=1, tFinal=20, passoT=1)\n",
    "dpq_.make_results()"
   ]
  },
  {
   "cell_type": "code",
   "execution_count": null,
   "id": "5b07b437-36ac-41ae-97b6-7290e00afe3e",
   "metadata": {},
   "outputs": [],
   "source": [
    "from dask.distributed import Client, progress\n",
    "client = Client(threads_per_worker=1, n_workers=1,  resources= {'GPU': 1})\n",
    "client"
   ]
  },
  {
   "cell_type": "code",
   "execution_count": 1,
   "id": "296c7266-4948-4b86-b8a9-c08a1a1dd233",
   "metadata": {},
   "outputs": [
    {
     "name": "stdout",
     "output_type": "stream",
     "text": [
      "600\n"
     ]
    },
    {
     "ename": "KeyboardInterrupt",
     "evalue": "",
     "output_type": "error",
     "traceback": [
      "\u001b[0;31m---------------------------------------------------------------------------\u001b[0m",
      "\u001b[0;31mKeyboardInterrupt\u001b[0m                         Traceback (most recent call last)",
      "\u001b[0;32m/tmp/ipykernel_40693/1011986181.py\u001b[0m in \u001b[0;36m<module>\u001b[0;34m\u001b[0m\n\u001b[1;32m     10\u001b[0m \u001b[0;34m\u001b[0m\u001b[0m\n\u001b[1;32m     11\u001b[0m \u001b[0;34m\u001b[0m\u001b[0m\n\u001b[0;32m---> 12\u001b[0;31m \u001b[0mdpq\u001b[0m\u001b[0;34m.\u001b[0m\u001b[0mmake_results\u001b[0m\u001b[0;34m(\u001b[0m\u001b[0;34m)\u001b[0m\u001b[0;34m\u001b[0m\u001b[0;34m\u001b[0m\u001b[0m\n\u001b[0m",
      "\u001b[0;32m~/Desktop/backup/Dinamica Pontos Quanticos/DPQNovaPara.py\u001b[0m in \u001b[0;36mmake_results\u001b[0;34m(self, k)\u001b[0m\n\u001b[1;32m    576\u001b[0m         \u001b[0;31m#Se existir da load e retorna falso, caso contrário um novo frame será criado.\u001b[0m\u001b[0;34m\u001b[0m\u001b[0;34m\u001b[0m\u001b[0m\n\u001b[1;32m    577\u001b[0m         \u001b[0;31m#if(self.check_tabela()):\u001b[0m\u001b[0;34m\u001b[0m\u001b[0;34m\u001b[0m\u001b[0m\n\u001b[0;32m--> 578\u001b[0;31m         \u001b[0mself\u001b[0m\u001b[0;34m.\u001b[0m\u001b[0mcriaDataFrame\u001b[0m\u001b[0;34m(\u001b[0m\u001b[0;34m)\u001b[0m\u001b[0;34m\u001b[0m\u001b[0;34m\u001b[0m\u001b[0m\n\u001b[0m\u001b[1;32m    579\u001b[0m         '''    \n\u001b[1;32m    580\u001b[0m         \u001b[0mmodel\u001b[0m\u001b[0;34m,\u001b[0m \u001b[0mX_train\u001b[0m\u001b[0;34m,\u001b[0m \u001b[0mX_test\u001b[0m\u001b[0;34m,\u001b[0m \u001b[0my_train\u001b[0m\u001b[0;34m,\u001b[0m \u001b[0my_test\u001b[0m \u001b[0;34m=\u001b[0m \u001b[0mself\u001b[0m\u001b[0;34m.\u001b[0m\u001b[0mset_model\u001b[0m\u001b[0;34m(\u001b[0m\u001b[0;34m)\u001b[0m\u001b[0;34m\u001b[0m\u001b[0;34m\u001b[0m\u001b[0m\n",
      "\u001b[0;32m~/Desktop/backup/Dinamica Pontos Quanticos/DPQNovaPara.py\u001b[0m in \u001b[0;36mcriaDataFrame\u001b[0;34m(self, complemento_nome)\u001b[0m\n\u001b[1;32m    351\u001b[0m \u001b[0;34m\u001b[0m\u001b[0m\n\u001b[1;32m    352\u001b[0m     \u001b[0;32mdef\u001b[0m \u001b[0mcriaDataFrame\u001b[0m\u001b[0;34m(\u001b[0m\u001b[0mself\u001b[0m\u001b[0;34m,\u001b[0m \u001b[0mcomplemento_nome\u001b[0m \u001b[0;34m=\u001b[0m \u001b[0;34m\"\"\u001b[0m\u001b[0;34m)\u001b[0m\u001b[0;34m:\u001b[0m\u001b[0;34m\u001b[0m\u001b[0;34m\u001b[0m\u001b[0m\n\u001b[0;32m--> 353\u001b[0;31m         \u001b[0mself\u001b[0m\u001b[0;34m.\u001b[0m\u001b[0mdataSet\u001b[0m \u001b[0;34m=\u001b[0m \u001b[0mpd\u001b[0m\u001b[0;34m.\u001b[0m\u001b[0mDataFrame\u001b[0m\u001b[0;34m(\u001b[0m\u001b[0mself\u001b[0m\u001b[0;34m.\u001b[0m\u001b[0mcriaFrameNovo\u001b[0m\u001b[0;34m(\u001b[0m\u001b[0;34m)\u001b[0m\u001b[0;34m,\u001b[0m \u001b[0mcolumns\u001b[0m \u001b[0;34m=\u001b[0m \u001b[0mself\u001b[0m\u001b[0;34m.\u001b[0m\u001b[0mgetNames\u001b[0m\u001b[0;34m(\u001b[0m\u001b[0;34m)\u001b[0m\u001b[0;34m)\u001b[0m\u001b[0;34m\u001b[0m\u001b[0;34m\u001b[0m\u001b[0m\n\u001b[0m\u001b[1;32m    354\u001b[0m         \u001b[0mself\u001b[0m\u001b[0;34m.\u001b[0m\u001b[0msaveDataFrame\u001b[0m\u001b[0;34m(\u001b[0m\u001b[0mcomplemento_nome\u001b[0m\u001b[0;34m)\u001b[0m\u001b[0;34m\u001b[0m\u001b[0;34m\u001b[0m\u001b[0m\n\u001b[1;32m    355\u001b[0m         \u001b[0;32mreturn\u001b[0m \u001b[0mself\u001b[0m\u001b[0;34m.\u001b[0m\u001b[0mdataSet\u001b[0m\u001b[0;34m\u001b[0m\u001b[0;34m\u001b[0m\u001b[0m\n",
      "\u001b[0;32m~/Desktop/backup/Dinamica Pontos Quanticos/DPQNovaPara.py\u001b[0m in \u001b[0;36mcriaFrameNovo\u001b[0;34m(self)\u001b[0m\n\u001b[1;32m    318\u001b[0m         \u001b[0mreslts_hvalor\u001b[0m \u001b[0;34m=\u001b[0m \u001b[0mclient\u001b[0m\u001b[0;34m.\u001b[0m\u001b[0mmap\u001b[0m\u001b[0;34m(\u001b[0m\u001b[0mself\u001b[0m\u001b[0;34m.\u001b[0m\u001b[0mhamiltonianaNova\u001b[0m\u001b[0;34m,\u001b[0m \u001b[0ms3\u001b[0m\u001b[0;34m,\u001b[0m \u001b[0mworkers\u001b[0m\u001b[0;34m=\u001b[0m\u001b[0mset\u001b[0m\u001b[0;34m(\u001b[0m\u001b[0;34m[\u001b[0m\u001b[0;34m\"2\"\u001b[0m\u001b[0;34m,\u001b[0m\u001b[0;34m\"3\"\u001b[0m\u001b[0;34m,\u001b[0m \u001b[0;34m\"0\"\u001b[0m\u001b[0;34m]\u001b[0m\u001b[0;34m)\u001b[0m\u001b[0;34m)\u001b[0m\u001b[0;34m\u001b[0m\u001b[0;34m\u001b[0m\u001b[0m\n\u001b[1;32m    319\u001b[0m         \u001b[0;31m#print(\"s2:\\n\", reslts_hvalor)\u001b[0m\u001b[0;34m\u001b[0m\u001b[0;34m\u001b[0m\u001b[0m\n\u001b[0;32m--> 320\u001b[0;31m         \u001b[0mwait\u001b[0m\u001b[0;34m(\u001b[0m\u001b[0mreslts_hvalor\u001b[0m\u001b[0;34m)\u001b[0m\u001b[0;34m\u001b[0m\u001b[0;34m\u001b[0m\u001b[0m\n\u001b[0m\u001b[1;32m    321\u001b[0m         \u001b[0mresultsOxJ\u001b[0m \u001b[0;34m=\u001b[0m \u001b[0mclient\u001b[0m\u001b[0;34m.\u001b[0m\u001b[0mmap\u001b[0m\u001b[0;34m(\u001b[0m\u001b[0mself\u001b[0m\u001b[0;34m.\u001b[0m\u001b[0mcalc_obs\u001b[0m\u001b[0;34m,\u001b[0m \u001b[0mreslts_hvalor\u001b[0m\u001b[0;34m,\u001b[0m \u001b[0mworkers\u001b[0m\u001b[0;34m=\u001b[0m\u001b[0;34m\"1\"\u001b[0m\u001b[0;34m)\u001b[0m\u001b[0;34m\u001b[0m\u001b[0;34m\u001b[0m\u001b[0m\n\u001b[1;32m    322\u001b[0m         \u001b[0mwait\u001b[0m\u001b[0;34m(\u001b[0m\u001b[0mresultsOxJ\u001b[0m\u001b[0;34m)\u001b[0m\u001b[0;34m\u001b[0m\u001b[0;34m\u001b[0m\u001b[0m\n",
      "\u001b[0;32m~/anaconda3/envs/mestrado/lib/python3.9/site-packages/distributed/client.py\u001b[0m in \u001b[0;36mwait\u001b[0;34m(fs, timeout, return_when)\u001b[0m\n\u001b[1;32m   4327\u001b[0m     \"\"\"\n\u001b[1;32m   4328\u001b[0m     \u001b[0mclient\u001b[0m \u001b[0;34m=\u001b[0m \u001b[0mdefault_client\u001b[0m\u001b[0;34m(\u001b[0m\u001b[0;34m)\u001b[0m\u001b[0;34m\u001b[0m\u001b[0;34m\u001b[0m\u001b[0m\n\u001b[0;32m-> 4329\u001b[0;31m     \u001b[0mresult\u001b[0m \u001b[0;34m=\u001b[0m \u001b[0mclient\u001b[0m\u001b[0;34m.\u001b[0m\u001b[0msync\u001b[0m\u001b[0;34m(\u001b[0m\u001b[0m_wait\u001b[0m\u001b[0;34m,\u001b[0m \u001b[0mfs\u001b[0m\u001b[0;34m,\u001b[0m \u001b[0mtimeout\u001b[0m\u001b[0;34m=\u001b[0m\u001b[0mtimeout\u001b[0m\u001b[0;34m,\u001b[0m \u001b[0mreturn_when\u001b[0m\u001b[0;34m=\u001b[0m\u001b[0mreturn_when\u001b[0m\u001b[0;34m)\u001b[0m\u001b[0;34m\u001b[0m\u001b[0;34m\u001b[0m\u001b[0m\n\u001b[0m\u001b[1;32m   4330\u001b[0m     \u001b[0;32mreturn\u001b[0m \u001b[0mresult\u001b[0m\u001b[0;34m\u001b[0m\u001b[0;34m\u001b[0m\u001b[0m\n\u001b[1;32m   4331\u001b[0m \u001b[0;34m\u001b[0m\u001b[0m\n",
      "\u001b[0;32m~/anaconda3/envs/mestrado/lib/python3.9/site-packages/distributed/client.py\u001b[0m in \u001b[0;36msync\u001b[0;34m(self, func, asynchronous, callback_timeout, *args, **kwargs)\u001b[0m\n\u001b[1;32m    863\u001b[0m             \u001b[0;32mreturn\u001b[0m \u001b[0mfuture\u001b[0m\u001b[0;34m\u001b[0m\u001b[0;34m\u001b[0m\u001b[0m\n\u001b[1;32m    864\u001b[0m         \u001b[0;32melse\u001b[0m\u001b[0;34m:\u001b[0m\u001b[0;34m\u001b[0m\u001b[0;34m\u001b[0m\u001b[0m\n\u001b[0;32m--> 865\u001b[0;31m             return sync(\n\u001b[0m\u001b[1;32m    866\u001b[0m                 \u001b[0mself\u001b[0m\u001b[0;34m.\u001b[0m\u001b[0mloop\u001b[0m\u001b[0;34m,\u001b[0m \u001b[0mfunc\u001b[0m\u001b[0;34m,\u001b[0m \u001b[0;34m*\u001b[0m\u001b[0margs\u001b[0m\u001b[0;34m,\u001b[0m \u001b[0mcallback_timeout\u001b[0m\u001b[0;34m=\u001b[0m\u001b[0mcallback_timeout\u001b[0m\u001b[0;34m,\u001b[0m \u001b[0;34m**\u001b[0m\u001b[0mkwargs\u001b[0m\u001b[0;34m\u001b[0m\u001b[0;34m\u001b[0m\u001b[0m\n\u001b[1;32m    867\u001b[0m             )\n",
      "\u001b[0;32m~/anaconda3/envs/mestrado/lib/python3.9/site-packages/distributed/utils.py\u001b[0m in \u001b[0;36msync\u001b[0;34m(loop, func, callback_timeout, *args, **kwargs)\u001b[0m\n\u001b[1;32m    322\u001b[0m     \u001b[0;32melse\u001b[0m\u001b[0;34m:\u001b[0m\u001b[0;34m\u001b[0m\u001b[0;34m\u001b[0m\u001b[0m\n\u001b[1;32m    323\u001b[0m         \u001b[0;32mwhile\u001b[0m \u001b[0;32mnot\u001b[0m \u001b[0me\u001b[0m\u001b[0;34m.\u001b[0m\u001b[0mis_set\u001b[0m\u001b[0;34m(\u001b[0m\u001b[0;34m)\u001b[0m\u001b[0;34m:\u001b[0m\u001b[0;34m\u001b[0m\u001b[0;34m\u001b[0m\u001b[0m\n\u001b[0;32m--> 324\u001b[0;31m             \u001b[0me\u001b[0m\u001b[0;34m.\u001b[0m\u001b[0mwait\u001b[0m\u001b[0;34m(\u001b[0m\u001b[0;36m10\u001b[0m\u001b[0;34m)\u001b[0m\u001b[0;34m\u001b[0m\u001b[0;34m\u001b[0m\u001b[0m\n\u001b[0m\u001b[1;32m    325\u001b[0m     \u001b[0;32mif\u001b[0m \u001b[0merror\u001b[0m\u001b[0;34m[\u001b[0m\u001b[0;36m0\u001b[0m\u001b[0;34m]\u001b[0m\u001b[0;34m:\u001b[0m\u001b[0;34m\u001b[0m\u001b[0;34m\u001b[0m\u001b[0m\n\u001b[1;32m    326\u001b[0m         \u001b[0mtyp\u001b[0m\u001b[0;34m,\u001b[0m \u001b[0mexc\u001b[0m\u001b[0;34m,\u001b[0m \u001b[0mtb\u001b[0m \u001b[0;34m=\u001b[0m \u001b[0merror\u001b[0m\u001b[0;34m[\u001b[0m\u001b[0;36m0\u001b[0m\u001b[0;34m]\u001b[0m\u001b[0;34m\u001b[0m\u001b[0;34m\u001b[0m\u001b[0m\n",
      "\u001b[0;32m~/anaconda3/envs/mestrado/lib/python3.9/threading.py\u001b[0m in \u001b[0;36mwait\u001b[0;34m(self, timeout)\u001b[0m\n\u001b[1;32m    572\u001b[0m             \u001b[0msignaled\u001b[0m \u001b[0;34m=\u001b[0m \u001b[0mself\u001b[0m\u001b[0;34m.\u001b[0m\u001b[0m_flag\u001b[0m\u001b[0;34m\u001b[0m\u001b[0;34m\u001b[0m\u001b[0m\n\u001b[1;32m    573\u001b[0m             \u001b[0;32mif\u001b[0m \u001b[0;32mnot\u001b[0m \u001b[0msignaled\u001b[0m\u001b[0;34m:\u001b[0m\u001b[0;34m\u001b[0m\u001b[0;34m\u001b[0m\u001b[0m\n\u001b[0;32m--> 574\u001b[0;31m                 \u001b[0msignaled\u001b[0m \u001b[0;34m=\u001b[0m \u001b[0mself\u001b[0m\u001b[0;34m.\u001b[0m\u001b[0m_cond\u001b[0m\u001b[0;34m.\u001b[0m\u001b[0mwait\u001b[0m\u001b[0;34m(\u001b[0m\u001b[0mtimeout\u001b[0m\u001b[0;34m)\u001b[0m\u001b[0;34m\u001b[0m\u001b[0;34m\u001b[0m\u001b[0m\n\u001b[0m\u001b[1;32m    575\u001b[0m             \u001b[0;32mreturn\u001b[0m \u001b[0msignaled\u001b[0m\u001b[0;34m\u001b[0m\u001b[0;34m\u001b[0m\u001b[0m\n\u001b[1;32m    576\u001b[0m \u001b[0;34m\u001b[0m\u001b[0m\n",
      "\u001b[0;32m~/anaconda3/envs/mestrado/lib/python3.9/threading.py\u001b[0m in \u001b[0;36mwait\u001b[0;34m(self, timeout)\u001b[0m\n\u001b[1;32m    314\u001b[0m             \u001b[0;32melse\u001b[0m\u001b[0;34m:\u001b[0m\u001b[0;34m\u001b[0m\u001b[0;34m\u001b[0m\u001b[0m\n\u001b[1;32m    315\u001b[0m                 \u001b[0;32mif\u001b[0m \u001b[0mtimeout\u001b[0m \u001b[0;34m>\u001b[0m \u001b[0;36m0\u001b[0m\u001b[0;34m:\u001b[0m\u001b[0;34m\u001b[0m\u001b[0;34m\u001b[0m\u001b[0m\n\u001b[0;32m--> 316\u001b[0;31m                     \u001b[0mgotit\u001b[0m \u001b[0;34m=\u001b[0m \u001b[0mwaiter\u001b[0m\u001b[0;34m.\u001b[0m\u001b[0macquire\u001b[0m\u001b[0;34m(\u001b[0m\u001b[0;32mTrue\u001b[0m\u001b[0;34m,\u001b[0m \u001b[0mtimeout\u001b[0m\u001b[0;34m)\u001b[0m\u001b[0;34m\u001b[0m\u001b[0;34m\u001b[0m\u001b[0m\n\u001b[0m\u001b[1;32m    317\u001b[0m                 \u001b[0;32melse\u001b[0m\u001b[0;34m:\u001b[0m\u001b[0;34m\u001b[0m\u001b[0;34m\u001b[0m\u001b[0m\n\u001b[1;32m    318\u001b[0m                     \u001b[0mgotit\u001b[0m \u001b[0;34m=\u001b[0m \u001b[0mwaiter\u001b[0m\u001b[0;34m.\u001b[0m\u001b[0macquire\u001b[0m\u001b[0;34m(\u001b[0m\u001b[0;32mFalse\u001b[0m\u001b[0;34m)\u001b[0m\u001b[0;34m\u001b[0m\u001b[0;34m\u001b[0m\u001b[0m\n",
      "\u001b[0;31mKeyboardInterrupt\u001b[0m: "
     ]
    },
    {
     "name": "stderr",
     "output_type": "stream",
     "text": [
      "distributed.nanny - WARNING - Restarting worker\n",
      "distributed.nanny - WARNING - Restarting worker\n",
      "distributed.nanny - WARNING - Restarting worker\n",
      "distributed.nanny - WARNING - Restarting worker\n"
     ]
    }
   ],
   "source": [
    "import os\n",
    "os.environ['TF_CPP_MIN_LOG_LEVEL'] = '2' \n",
    "import DPQNovaPara\n",
    "dpq = DPQNovaPara.DinamicaPontosQuanticos(j_1_inicial= 10, j_1_final= 10, passoJ_1 = 0.5,\n",
    "                                      j_2_inicial= 10, j_2_final= 10, passoJ_2 = 0.5,\n",
    "                                      bz_1_inicial= 9.1, bz_1_final= 10, passoBz_1 = 0.1,\n",
    "                                      bz_2_inicial= 9.1, bz_2_final= 10, passoBz_2 = 0.1,\n",
    "                                      j_12_inicial= 1.02, j_12_final= 2, passoJ_12 = 0.2,\n",
    "                                      tInicial=1, tFinal=20, passoT=1)\n",
    "\n",
    "\n",
    "dpq.make_results()"
   ]
  },
  {
   "cell_type": "code",
   "execution_count": null,
   "id": "f5256c59-9311-4384-9e21-f540c51f8a93",
   "metadata": {},
   "outputs": [],
   "source": [
    "#import tensorflow as tf\n",
    "import cupy as cp\n",
    "a= cp.array([[1,2],[3,4]])\n",
    "b= cp.array([[1,2],[3,4]])"
   ]
  },
  {
   "cell_type": "code",
   "execution_count": null,
   "id": "7637ff53-2a1b-41ff-b82c-88b21f6df1ba",
   "metadata": {},
   "outputs": [],
   "source": [
    "from dask.distributed import Client\n",
    "c = Client()\n",
    "c"
   ]
  },
  {
   "cell_type": "code",
   "execution_count": null,
   "id": "fddf0959-9665-440f-ae2f-68b50f537245",
   "metadata": {},
   "outputs": [],
   "source": [
    "cp.float32(cp.trace(a))"
   ]
  },
  {
   "cell_type": "code",
   "execution_count": null,
   "id": "91fed226-0a64-4559-90db-df948be0051f",
   "metadata": {},
   "outputs": [],
   "source": [
    "b=tf.zeros(1)\n",
    "a= cp.array([1,2]).toDlpack()\n",
    "tf.constant( tf.experimental.dlpack.from_dlpack(a))"
   ]
  },
  {
   "cell_type": "code",
   "execution_count": null,
   "id": "58f8369d-caf5-4518-86d5-5beddece72db",
   "metadata": {},
   "outputs": [],
   "source": [
    "tf.keras.backend.clear_session()"
   ]
  },
  {
   "cell_type": "code",
   "execution_count": null,
   "id": "b93670de-3e84-491f-acc0-f697d536f163",
   "metadata": {},
   "outputs": [],
   "source": [
    "tf.config.list_physical_devices(device_type='GPU')"
   ]
  },
  {
   "cell_type": "code",
   "execution_count": null,
   "id": "50297de2-0e52-43eb-89bb-64f39a39ac83",
   "metadata": {},
   "outputs": [],
   "source": [
    "help(cp.ndarray)\n"
   ]
  },
  {
   "cell_type": "code",
   "execution_count": null,
   "id": "2af6eedd-fc87-4857-b351-a72bc5b35910",
   "metadata": {},
   "outputs": [],
   "source": []
  }
 ],
 "metadata": {
  "kernelspec": {
   "display_name": "Python 3 (ipykernel)",
   "language": "python",
   "name": "python3"
  },
  "language_info": {
   "codemirror_mode": {
    "name": "ipython",
    "version": 3
   },
   "file_extension": ".py",
   "mimetype": "text/x-python",
   "name": "python",
   "nbconvert_exporter": "python",
   "pygments_lexer": "ipython3",
   "version": "3.9.9"
  }
 },
 "nbformat": 4,
 "nbformat_minor": 5
}
