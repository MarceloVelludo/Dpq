{
 "cells": [
  {
   "cell_type": "code",
   "execution_count": null,
   "id": "ab2bcf04",
   "metadata": {},
   "outputs": [
    {
     "name": "stdin",
     "output_type": "stream",
     "text": [
      " 1\n"
     ]
    },
    {
     "name": "stdout",
     "output_type": "stream",
     "text": [
      "1\n",
      "\n"
     ]
    },
    {
     "name": "stdin",
     "output_type": "stream",
     "text": [
      " 2\n"
     ]
    },
    {
     "name": "stdout",
     "output_type": "stream",
     "text": [
      "1   2\n",
      "\n",
      "2   1\n",
      "\n"
     ]
    }
   ],
   "source": [
    "#Inicializando a\n",
    "a = 99\n",
    "#contador inicializado em 0\n",
    "count = 0\n",
    "#Cria a lista\n",
    "vector = []\n",
    "#Enquanto a for diferente de 0\n",
    "while a!=0:\n",
    "    #Captura um novo input\n",
    "    a = int(input())\n",
    "    #Adiciona 1 ao contador de inputs\n",
    "    count += 1\n",
    "    #Se for diferente de 0, faça:\n",
    "    if(a != 0):\n",
    "        #Adiciona no final do vetor\n",
    "        vector = vector + [a]\n",
    "        #Captura o tamanho do vetor\n",
    "        vector_len = len(vector)\n",
    "        #Contador linhas para o while\n",
    "        count_linhas = 0\n",
    "        #While responsavél por passar pelas linhas\n",
    "        while count_linhas < count:\n",
    "            #Contador do tamanho do vetor (ou colunas)\n",
    "            count_len = 0\n",
    "            count_int = count_linhas\n",
    "            while count_len < vector_len:\n",
    "                if(count_int != 0):\n",
    "                    if (count_len < vector_len-1):\n",
    "                        print(\"{:<3}\".format(vector[count_int]), end =  \" \")\n",
    "                    else:\n",
    "                        print(\"{:}\".format(vector[count_int]), end =  \"\")\n",
    "                    count_len += 1\n",
    "                    count_int -= 1\n",
    "                if count_int <= 0 :\n",
    "                    count_int = 0\n",
    "                    while count_len  < vector_len:\n",
    "                        if (count_len < vector_len-1):\n",
    "                            print(\"{:<3}\".format(vector[count_int]), end =  \" \")\n",
    "                        else:\n",
    "                            print(\"{:}\".format(vector[count_int]), end =  \"\")\n",
    "                        count_int += 1\n",
    "                        count_len += 1\n",
    "                    \n",
    "            #Pula linha\n",
    "            print(\"\\n\")\n",
    "            count_linhas += 1"
   ]
  },
  {
   "cell_type": "code",
   "execution_count": 68,
   "id": "0f930923",
   "metadata": {},
   "outputs": [
    {
     "data": {
      "text/plain": [
       "[1, 3]"
      ]
     },
     "execution_count": 68,
     "metadata": {},
     "output_type": "execute_result"
    }
   ],
   "source": [
    "vector"
   ]
  },
  {
   "cell_type": "markdown",
   "id": "0e4a4ab8",
   "metadata": {},
   "source": [
    "# !pip install numpy"
   ]
  },
  {
   "cell_type": "markdown",
   "id": "9abb1c6e",
   "metadata": {},
   "source": [
    "### Aparentemente o algoritmo está colocando os elementos em uma diagonal.\n",
    "#"
   ]
  },
  {
   "cell_type": "code",
   "execution_count": 29,
   "id": "b6db1420",
   "metadata": {},
   "outputs": [],
   "source": [
    "a = np.ones((12,12)).tolist()"
   ]
  },
  {
   "cell_type": "code",
   "execution_count": 30,
   "id": "c0b162c5",
   "metadata": {},
   "outputs": [],
   "source": [
    "teste = 0 \n",
    "teste += a[1][1]"
   ]
  },
  {
   "cell_type": "code",
   "execution_count": 31,
   "id": "56452346",
   "metadata": {},
   "outputs": [
    {
     "data": {
      "text/plain": [
       "1.0"
      ]
     },
     "execution_count": 31,
     "metadata": {},
     "output_type": "execute_result"
    }
   ],
   "source": [
    "teste"
   ]
  },
  {
   "cell_type": "code",
   "execution_count": 50,
   "id": "9b2f8501",
   "metadata": {},
   "outputs": [
    {
     "name": "stdin",
     "output_type": "stream",
     "text": [
      " M\n"
     ]
    },
    {
     "name": "stdout",
     "output_type": "stream",
     "text": [
      "1.0\n",
      "1.0\n",
      "1.0\n",
      "1.0\n",
      "1.0\n",
      "[[1.0, 1.0, 1.0, 1.0, 1.0]]\n",
      "1.0\n",
      "1.0\n",
      "1.0\n",
      "1.0\n",
      "1.0\n",
      "[[1.0, 1.0, 1.0, 1.0, 1.0, 1.0, 1.0, 1.0, 1.0, 1.0], [1.0, 1.0, 1.0, 1.0, 1.0, 1.0, 1.0, 1.0, 1.0, 1.0]]\n",
      "1.0\n",
      "1.0\n",
      "1.0\n",
      "1.0\n",
      "1.0\n",
      "[[1.0, 1.0, 1.0, 1.0, 1.0, 1.0, 1.0, 1.0, 1.0, 1.0, 1.0, 1.0, 1.0, 1.0, 1.0], [1.0, 1.0, 1.0, 1.0, 1.0, 1.0, 1.0, 1.0, 1.0, 1.0, 1.0, 1.0, 1.0, 1.0, 1.0], [1.0, 1.0, 1.0, 1.0, 1.0, 1.0, 1.0, 1.0, 1.0, 1.0, 1.0, 1.0, 1.0, 1.0, 1.0]]\n",
      "1.0\n",
      "1.0\n",
      "1.0\n",
      "1.0\n",
      "1.0\n",
      "[[1.0, 1.0, 1.0, 1.0, 1.0, 1.0, 1.0, 1.0, 1.0, 1.0, 1.0, 1.0, 1.0, 1.0, 1.0, 1.0, 1.0, 1.0, 1.0, 1.0], [1.0, 1.0, 1.0, 1.0, 1.0, 1.0, 1.0, 1.0, 1.0, 1.0, 1.0, 1.0, 1.0, 1.0, 1.0, 1.0, 1.0, 1.0, 1.0, 1.0], [1.0, 1.0, 1.0, 1.0, 1.0, 1.0, 1.0, 1.0, 1.0, 1.0, 1.0, 1.0, 1.0, 1.0, 1.0, 1.0, 1.0, 1.0, 1.0, 1.0], [1.0, 1.0, 1.0, 1.0, 1.0, 1.0, 1.0, 1.0, 1.0, 1.0, 1.0, 1.0, 1.0, 1.0, 1.0, 1.0, 1.0, 1.0, 1.0, 1.0]]\n",
      "1.0\n",
      "1.0\n",
      "1.0\n",
      "1.0\n",
      "1.0\n",
      "[[1.0, 1.0, 1.0, 1.0, 1.0, 1.0, 1.0, 1.0, 1.0, 1.0, 1.0, 1.0, 1.0, 1.0, 1.0, 1.0, 1.0, 1.0, 1.0, 1.0, 1.0, 1.0, 1.0, 1.0, 1.0], [1.0, 1.0, 1.0, 1.0, 1.0, 1.0, 1.0, 1.0, 1.0, 1.0, 1.0, 1.0, 1.0, 1.0, 1.0, 1.0, 1.0, 1.0, 1.0, 1.0, 1.0, 1.0, 1.0, 1.0, 1.0], [1.0, 1.0, 1.0, 1.0, 1.0, 1.0, 1.0, 1.0, 1.0, 1.0, 1.0, 1.0, 1.0, 1.0, 1.0, 1.0, 1.0, 1.0, 1.0, 1.0, 1.0, 1.0, 1.0, 1.0, 1.0], [1.0, 1.0, 1.0, 1.0, 1.0, 1.0, 1.0, 1.0, 1.0, 1.0, 1.0, 1.0, 1.0, 1.0, 1.0, 1.0, 1.0, 1.0, 1.0, 1.0, 1.0, 1.0, 1.0, 1.0, 1.0], [1.0, 1.0, 1.0, 1.0, 1.0, 1.0, 1.0, 1.0, 1.0, 1.0, 1.0, 1.0, 1.0, 1.0, 1.0, 1.0, 1.0, 1.0, 1.0, 1.0, 1.0, 1.0, 1.0, 1.0, 1.0]]\n",
      "1.0\n"
     ]
    }
   ],
   "source": [
    "# A matriz será uma lista de lista, então\n",
    "#teremos uma lista interna numero que será\n",
    "#agregada em outra lista chamada matriz\n",
    "numero_list = list()\n",
    "matriz = list()\n",
    "\n",
    "operacao = input()\n",
    "#for para capturar os 144 numeros\n",
    "for n1 in range(5):\n",
    "    for n2 in range(5):\n",
    "        numero = float(1)\n",
    "        #O + funciona como o extend, assim\n",
    "        #não fica lista dentro de lista\n",
    "        numero_list.extend([numero])\n",
    "        print(numero)\n",
    "    #Append nesse caso para não danificar a sua estrutura\n",
    "    #e criar uma lista dentro da lista\n",
    "    matriz.append(numero_list)\n",
    "    print(matriz)\n",
    "if(operacao == \"S\"):\n",
    "    soma = 0\n",
    "    for n1 in range(5):\n",
    "        for n2 in range(5):\n",
    "            #Se n1 for maior que n2\n",
    "            #estaremos dentro do espaço verde\n",
    "            if(n1<n2 and ((n1+n2) < 4)):\n",
    "                \n",
    "                print(\"Entrou\")\n",
    "                print(\"n1:\",n1)\n",
    "                print(\"n2:\", n2)\n",
    "                soma += matriz[n1][n2]\n",
    "    print(\"{:.1f}\".format(soma))\n",
    "\n",
    "if(operacao == \"M\"):\n",
    "    soma = 0\n",
    "    count = 0\n",
    "    for n1 in range(5):\n",
    "        for n2 in range(5):\n",
    "            #Se n1 for maior que n2\n",
    "            #estaremos dentro do espaço verde\n",
    "            if(n1<n2 and ((n1+n2) < 4)):\n",
    "                soma += matriz[n1][n2]\n",
    "                count +=1\n",
    "    media = soma/count\n",
    "    print(\"{:.1f}\".format(media))\n",
    "    "
   ]
  },
  {
   "cell_type": "code",
   "execution_count": 38,
   "id": "6648c432",
   "metadata": {},
   "outputs": [
    {
     "name": "stdout",
     "output_type": "stream",
     "text": [
      "0\n",
      "1\n",
      "2\n",
      "3\n",
      "4\n",
      "5\n",
      "6\n",
      "7\n",
      "8\n",
      "9\n",
      "10\n",
      "11\n"
     ]
    }
   ],
   "source": [
    "a = range(12)\n",
    "for b in a:\n",
    "    print(b)"
   ]
  },
  {
   "cell_type": "code",
   "execution_count": 42,
   "id": "e1c63c59",
   "metadata": {},
   "outputs": [
    {
     "data": {
      "text/plain": [
       "Decimal('1')"
      ]
     },
     "execution_count": 42,
     "metadata": {},
     "output_type": "execute_result"
    }
   ],
   "source": [
    "from decimal import *\n",
    "\n",
    "Decimal(1)"
   ]
  },
  {
   "cell_type": "code",
   "execution_count": 48,
   "id": "6885a1b7",
   "metadata": {},
   "outputs": [
    {
     "data": {
      "text/plain": [
       "1.0"
      ]
     },
     "execution_count": 48,
     "metadata": {},
     "output_type": "execute_result"
    }
   ],
   "source": [
    "matriz[n1][n2]"
   ]
  },
  {
   "cell_type": "code",
   "execution_count": null,
   "id": "f8a04053",
   "metadata": {},
   "outputs": [],
   "source": []
  }
 ],
 "metadata": {
  "kernelspec": {
   "display_name": "Python 3 (ipykernel)",
   "language": "python",
   "name": "python3"
  },
  "language_info": {
   "codemirror_mode": {
    "name": "ipython",
    "version": 3
   },
   "file_extension": ".py",
   "mimetype": "text/x-python",
   "name": "python",
   "nbconvert_exporter": "python",
   "pygments_lexer": "ipython3",
   "version": "3.9.9"
  }
 },
 "nbformat": 4,
 "nbformat_minor": 5
}
