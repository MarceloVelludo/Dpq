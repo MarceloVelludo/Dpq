{
 "cells": [
  {
   "cell_type": "code",
   "execution_count": 1,
   "id": "e240fec3-8dc6-4dcc-aa63-2d9bdbef9a93",
   "metadata": {},
   "outputs": [
    {
     "name": "stdout",
     "output_type": "stream",
     "text": [
      "\n",
      "0-Inicializando modelo classico...\n",
      "\n",
      "Data frame criado com sucesso!\n",
      "Tempo: 0.0017660430166870356\n",
      "\n",
      "1-Criando data frame...\n",
      "\n",
      "DataFrame processado anteriormente!\n",
      "\n",
      "Data frame criado com sucesso!\n",
      "Tempo: 0.19987956900149584\n",
      "2-Construindo modelo...\n",
      "\n",
      "Modelo treinado anteriormente!\n",
      "Modelo construido com sucesso!\n",
      "Tempo: 0.050603334908373654\n",
      "\n",
      "DataFrame processado anteriormente!\n"
     ]
    },
    {
     "name": "stderr",
     "output_type": "stream",
     "text": [
      "/home/codemaster/Desktop/backup/Dinamica Pontos Quanticos/code/model.py:71: RuntimeWarning: divide by zero encountered in double_scalars\n",
      "  relative_error_1 += np.abs(1-y_p)/y_t\n",
      "/home/codemaster/Desktop/backup/Dinamica Pontos Quanticos/code/model.py:72: RuntimeWarning: invalid value encountered in double_scalars\n",
      "  relative_error_2 += np.abs((y_t-y_p)/y_t)\n"
     ]
    },
    {
     "name": "stdout",
     "output_type": "stream",
     "text": [
      "Gráfico com menos de 150 pontos\n"
     ]
    },
    {
     "name": "stderr",
     "output_type": "stream",
     "text": [
      "/home/codemaster/Desktop/backup/Dinamica Pontos Quanticos/code/model.py:71: RuntimeWarning: divide by zero encountered in double_scalars\n",
      "  relative_error_1 += np.abs(1-y_p)/y_t\n",
      "/home/codemaster/Desktop/backup/Dinamica Pontos Quanticos/code/model.py:72: RuntimeWarning: divide by zero encountered in double_scalars\n",
      "  relative_error_2 += np.abs((y_t-y_p)/y_t)\n"
     ]
    },
    {
     "name": "stdout",
     "output_type": "stream",
     "text": [
      "Gráfico com menos de 150 pontos\n",
      "Gráfico com menos de 1600 pontos\n",
      "Gráfico com menos de 150 pontos\n"
     ]
    },
    {
     "name": "stderr",
     "output_type": "stream",
     "text": [
      "configrc.store_credentials:WARNING:2022-03-26 02:34:45,888: Credentials already present. Set overwrite=True to overwrite.\n"
     ]
    },
    {
     "name": "stdout",
     "output_type": "stream",
     "text": [
      "Predições realizadas!\n",
      "Tempo: 291.56453406298533\n",
      "3-Construindo simulação quântica...\n",
      "\n",
      "DataFrame processado anteriormente!\n",
      "\n",
      "DataFrame processado anteriormente!\n",
      "\n",
      "DataFrame processado anteriormente!\n",
      "\n",
      "Modelo treinado anteriormente!\n"
     ]
    },
    {
     "name": "stderr",
     "output_type": "stream",
     "text": [
      "/home/codemaster/anaconda3/envs/mestrado/lib/python3.9/site-packages/sklearn/base.py:450: UserWarning: X does not have valid feature names, but ExtraTreesRegressor was fitted with feature names\n",
      "  warnings.warn(\n",
      "/home/codemaster/anaconda3/envs/mestrado/lib/python3.9/site-packages/sklearn/metrics/_regression.py:796: UndefinedMetricWarning: R^2 score is not well-defined with less than two samples.\n",
      "  warnings.warn(msg, UndefinedMetricWarning)\n",
      "/home/codemaster/Desktop/backup/Dinamica Pontos Quanticos/code/model.py:71: RuntimeWarning: divide by zero encountered in double_scalars\n",
      "  relative_error_1 += np.abs(1-y_p)/y_t\n",
      "/home/codemaster/Desktop/backup/Dinamica Pontos Quanticos/code/model.py:72: RuntimeWarning: divide by zero encountered in double_scalars\n",
      "  relative_error_2 += np.abs((y_t-y_p)/y_t)\n"
     ]
    },
    {
     "name": "stdout",
     "output_type": "stream",
     "text": [
      "Gráfico com menos de 150 pontos\n",
      "Gráfico com menos de 1600 pontos\n"
     ]
    },
    {
     "name": "stderr",
     "output_type": "stream",
     "text": [
      "/home/codemaster/anaconda3/envs/mestrado/lib/python3.9/site-packages/sklearn/base.py:450: UserWarning: X does not have valid feature names, but ExtraTreesRegressor was fitted with feature names\n",
      "  warnings.warn(\n",
      "/home/codemaster/anaconda3/envs/mestrado/lib/python3.9/site-packages/sklearn/metrics/_regression.py:796: UndefinedMetricWarning: R^2 score is not well-defined with less than two samples.\n",
      "  warnings.warn(msg, UndefinedMetricWarning)\n",
      "/home/codemaster/Desktop/backup/Dinamica Pontos Quanticos/code/model.py:71: RuntimeWarning: divide by zero encountered in double_scalars\n",
      "  relative_error_1 += np.abs(1-y_p)/y_t\n",
      "/home/codemaster/Desktop/backup/Dinamica Pontos Quanticos/code/model.py:72: RuntimeWarning: divide by zero encountered in double_scalars\n",
      "  relative_error_2 += np.abs((y_t-y_p)/y_t)\n"
     ]
    },
    {
     "name": "stdout",
     "output_type": "stream",
     "text": [
      "Gráfico com menos de 150 pontos\n",
      "Gráfico com menos de 1600 pontos\n"
     ]
    },
    {
     "name": "stderr",
     "output_type": "stream",
     "text": [
      "/home/codemaster/anaconda3/envs/mestrado/lib/python3.9/site-packages/sklearn/base.py:450: UserWarning: X does not have valid feature names, but ExtraTreesRegressor was fitted with feature names\n",
      "  warnings.warn(\n",
      "/home/codemaster/anaconda3/envs/mestrado/lib/python3.9/site-packages/sklearn/metrics/_regression.py:796: UndefinedMetricWarning: R^2 score is not well-defined with less than two samples.\n",
      "  warnings.warn(msg, UndefinedMetricWarning)\n",
      "/home/codemaster/Desktop/backup/Dinamica Pontos Quanticos/code/model.py:71: RuntimeWarning: divide by zero encountered in double_scalars\n",
      "  relative_error_1 += np.abs(1-y_p)/y_t\n",
      "/home/codemaster/Desktop/backup/Dinamica Pontos Quanticos/code/model.py:72: RuntimeWarning: divide by zero encountered in double_scalars\n",
      "  relative_error_2 += np.abs((y_t-y_p)/y_t)\n"
     ]
    },
    {
     "name": "stdout",
     "output_type": "stream",
     "text": [
      "Gráfico com menos de 150 pontos\n",
      "Gráfico com menos de 1600 pontos\n"
     ]
    },
    {
     "name": "stderr",
     "output_type": "stream",
     "text": [
      "/home/codemaster/anaconda3/envs/mestrado/lib/python3.9/site-packages/sklearn/base.py:450: UserWarning: X does not have valid feature names, but ExtraTreesRegressor was fitted with feature names\n",
      "  warnings.warn(\n",
      "/home/codemaster/anaconda3/envs/mestrado/lib/python3.9/site-packages/sklearn/metrics/_regression.py:796: UndefinedMetricWarning: R^2 score is not well-defined with less than two samples.\n",
      "  warnings.warn(msg, UndefinedMetricWarning)\n",
      "/home/codemaster/Desktop/backup/Dinamica Pontos Quanticos/code/model.py:71: RuntimeWarning: divide by zero encountered in double_scalars\n",
      "  relative_error_1 += np.abs(1-y_p)/y_t\n",
      "/home/codemaster/Desktop/backup/Dinamica Pontos Quanticos/code/model.py:72: RuntimeWarning: divide by zero encountered in double_scalars\n",
      "  relative_error_2 += np.abs((y_t-y_p)/y_t)\n"
     ]
    },
    {
     "name": "stdout",
     "output_type": "stream",
     "text": [
      "Gráfico com menos de 150 pontos\n",
      "Gráfico com menos de 1600 pontos\n"
     ]
    },
    {
     "name": "stderr",
     "output_type": "stream",
     "text": [
      "/home/codemaster/anaconda3/envs/mestrado/lib/python3.9/site-packages/sklearn/base.py:450: UserWarning: X does not have valid feature names, but ExtraTreesRegressor was fitted with feature names\n",
      "  warnings.warn(\n",
      "/home/codemaster/anaconda3/envs/mestrado/lib/python3.9/site-packages/sklearn/metrics/_regression.py:796: UndefinedMetricWarning: R^2 score is not well-defined with less than two samples.\n",
      "  warnings.warn(msg, UndefinedMetricWarning)\n",
      "/home/codemaster/Desktop/backup/Dinamica Pontos Quanticos/code/model.py:71: RuntimeWarning: divide by zero encountered in double_scalars\n",
      "  relative_error_1 += np.abs(1-y_p)/y_t\n",
      "/home/codemaster/Desktop/backup/Dinamica Pontos Quanticos/code/model.py:72: RuntimeWarning: divide by zero encountered in double_scalars\n",
      "  relative_error_2 += np.abs((y_t-y_p)/y_t)\n"
     ]
    },
    {
     "name": "stdout",
     "output_type": "stream",
     "text": [
      "Gráfico com menos de 150 pontos\n",
      "Gráfico com menos de 1600 pontos\n"
     ]
    },
    {
     "name": "stderr",
     "output_type": "stream",
     "text": [
      "/home/codemaster/anaconda3/envs/mestrado/lib/python3.9/site-packages/sklearn/base.py:450: UserWarning: X does not have valid feature names, but ExtraTreesRegressor was fitted with feature names\n",
      "  warnings.warn(\n",
      "/home/codemaster/anaconda3/envs/mestrado/lib/python3.9/site-packages/sklearn/metrics/_regression.py:796: UndefinedMetricWarning: R^2 score is not well-defined with less than two samples.\n",
      "  warnings.warn(msg, UndefinedMetricWarning)\n",
      "/home/codemaster/Desktop/backup/Dinamica Pontos Quanticos/code/model.py:71: RuntimeWarning: divide by zero encountered in double_scalars\n",
      "  relative_error_1 += np.abs(1-y_p)/y_t\n",
      "/home/codemaster/Desktop/backup/Dinamica Pontos Quanticos/code/model.py:72: RuntimeWarning: divide by zero encountered in double_scalars\n",
      "  relative_error_2 += np.abs((y_t-y_p)/y_t)\n"
     ]
    },
    {
     "name": "stdout",
     "output_type": "stream",
     "text": [
      "Gráfico com menos de 150 pontos\n",
      "Gráfico com menos de 1600 pontos\n"
     ]
    },
    {
     "name": "stderr",
     "output_type": "stream",
     "text": [
      "/home/codemaster/anaconda3/envs/mestrado/lib/python3.9/site-packages/sklearn/base.py:450: UserWarning: X does not have valid feature names, but ExtraTreesRegressor was fitted with feature names\n",
      "  warnings.warn(\n",
      "/home/codemaster/anaconda3/envs/mestrado/lib/python3.9/site-packages/sklearn/metrics/_regression.py:796: UndefinedMetricWarning: R^2 score is not well-defined with less than two samples.\n",
      "  warnings.warn(msg, UndefinedMetricWarning)\n",
      "/home/codemaster/Desktop/backup/Dinamica Pontos Quanticos/code/model.py:71: RuntimeWarning: divide by zero encountered in double_scalars\n",
      "  relative_error_1 += np.abs(1-y_p)/y_t\n",
      "/home/codemaster/Desktop/backup/Dinamica Pontos Quanticos/code/model.py:72: RuntimeWarning: divide by zero encountered in double_scalars\n",
      "  relative_error_2 += np.abs((y_t-y_p)/y_t)\n"
     ]
    },
    {
     "name": "stdout",
     "output_type": "stream",
     "text": [
      "Gráfico com menos de 150 pontos\n",
      "Gráfico com menos de 1600 pontos\n"
     ]
    },
    {
     "name": "stderr",
     "output_type": "stream",
     "text": [
      "/home/codemaster/anaconda3/envs/mestrado/lib/python3.9/site-packages/sklearn/base.py:450: UserWarning: X does not have valid feature names, but ExtraTreesRegressor was fitted with feature names\n",
      "  warnings.warn(\n",
      "/home/codemaster/anaconda3/envs/mestrado/lib/python3.9/site-packages/sklearn/metrics/_regression.py:796: UndefinedMetricWarning: R^2 score is not well-defined with less than two samples.\n",
      "  warnings.warn(msg, UndefinedMetricWarning)\n",
      "/home/codemaster/Desktop/backup/Dinamica Pontos Quanticos/code/model.py:71: RuntimeWarning: divide by zero encountered in double_scalars\n",
      "  relative_error_1 += np.abs(1-y_p)/y_t\n",
      "/home/codemaster/Desktop/backup/Dinamica Pontos Quanticos/code/model.py:72: RuntimeWarning: divide by zero encountered in double_scalars\n",
      "  relative_error_2 += np.abs((y_t-y_p)/y_t)\n"
     ]
    },
    {
     "name": "stdout",
     "output_type": "stream",
     "text": [
      "Gráfico com menos de 150 pontos\n",
      "Gráfico com menos de 1600 pontos\n"
     ]
    },
    {
     "name": "stderr",
     "output_type": "stream",
     "text": [
      "/home/codemaster/anaconda3/envs/mestrado/lib/python3.9/site-packages/sklearn/base.py:450: UserWarning: X does not have valid feature names, but ExtraTreesRegressor was fitted with feature names\n",
      "  warnings.warn(\n",
      "/home/codemaster/anaconda3/envs/mestrado/lib/python3.9/site-packages/sklearn/metrics/_regression.py:796: UndefinedMetricWarning: R^2 score is not well-defined with less than two samples.\n",
      "  warnings.warn(msg, UndefinedMetricWarning)\n",
      "/home/codemaster/Desktop/backup/Dinamica Pontos Quanticos/code/model.py:71: RuntimeWarning: divide by zero encountered in double_scalars\n",
      "  relative_error_1 += np.abs(1-y_p)/y_t\n",
      "/home/codemaster/Desktop/backup/Dinamica Pontos Quanticos/code/model.py:72: RuntimeWarning: divide by zero encountered in double_scalars\n",
      "  relative_error_2 += np.abs((y_t-y_p)/y_t)\n"
     ]
    },
    {
     "name": "stdout",
     "output_type": "stream",
     "text": [
      "Gráfico com menos de 150 pontos\n",
      "Gráfico com menos de 1600 pontos\n"
     ]
    },
    {
     "name": "stderr",
     "output_type": "stream",
     "text": [
      "/home/codemaster/anaconda3/envs/mestrado/lib/python3.9/site-packages/sklearn/base.py:450: UserWarning: X does not have valid feature names, but ExtraTreesRegressor was fitted with feature names\n",
      "  warnings.warn(\n",
      "/home/codemaster/anaconda3/envs/mestrado/lib/python3.9/site-packages/sklearn/metrics/_regression.py:796: UndefinedMetricWarning: R^2 score is not well-defined with less than two samples.\n",
      "  warnings.warn(msg, UndefinedMetricWarning)\n",
      "/home/codemaster/Desktop/backup/Dinamica Pontos Quanticos/code/model.py:71: RuntimeWarning: divide by zero encountered in double_scalars\n",
      "  relative_error_1 += np.abs(1-y_p)/y_t\n",
      "/home/codemaster/Desktop/backup/Dinamica Pontos Quanticos/code/model.py:72: RuntimeWarning: divide by zero encountered in double_scalars\n",
      "  relative_error_2 += np.abs((y_t-y_p)/y_t)\n"
     ]
    },
    {
     "name": "stdout",
     "output_type": "stream",
     "text": [
      "Gráfico com menos de 150 pontos\n",
      "Gráfico com menos de 1600 pontos\n"
     ]
    },
    {
     "name": "stderr",
     "output_type": "stream",
     "text": [
      "/home/codemaster/anaconda3/envs/mestrado/lib/python3.9/site-packages/sklearn/base.py:450: UserWarning: X does not have valid feature names, but ExtraTreesRegressor was fitted with feature names\n",
      "  warnings.warn(\n",
      "/home/codemaster/anaconda3/envs/mestrado/lib/python3.9/site-packages/sklearn/metrics/_regression.py:796: UndefinedMetricWarning: R^2 score is not well-defined with less than two samples.\n",
      "  warnings.warn(msg, UndefinedMetricWarning)\n",
      "/home/codemaster/Desktop/backup/Dinamica Pontos Quanticos/code/model.py:71: RuntimeWarning: divide by zero encountered in double_scalars\n",
      "  relative_error_1 += np.abs(1-y_p)/y_t\n",
      "/home/codemaster/Desktop/backup/Dinamica Pontos Quanticos/code/model.py:72: RuntimeWarning: divide by zero encountered in double_scalars\n",
      "  relative_error_2 += np.abs((y_t-y_p)/y_t)\n"
     ]
    },
    {
     "name": "stdout",
     "output_type": "stream",
     "text": [
      "Gráfico com menos de 150 pontos\n",
      "Gráfico com menos de 1600 pontos\n"
     ]
    },
    {
     "name": "stderr",
     "output_type": "stream",
     "text": [
      "/home/codemaster/anaconda3/envs/mestrado/lib/python3.9/site-packages/sklearn/base.py:450: UserWarning: X does not have valid feature names, but ExtraTreesRegressor was fitted with feature names\n",
      "  warnings.warn(\n",
      "/home/codemaster/anaconda3/envs/mestrado/lib/python3.9/site-packages/sklearn/metrics/_regression.py:796: UndefinedMetricWarning: R^2 score is not well-defined with less than two samples.\n",
      "  warnings.warn(msg, UndefinedMetricWarning)\n",
      "/home/codemaster/Desktop/backup/Dinamica Pontos Quanticos/code/model.py:71: RuntimeWarning: divide by zero encountered in double_scalars\n",
      "  relative_error_1 += np.abs(1-y_p)/y_t\n",
      "/home/codemaster/Desktop/backup/Dinamica Pontos Quanticos/code/model.py:72: RuntimeWarning: divide by zero encountered in double_scalars\n",
      "  relative_error_2 += np.abs((y_t-y_p)/y_t)\n"
     ]
    },
    {
     "name": "stdout",
     "output_type": "stream",
     "text": [
      "Gráfico com menos de 150 pontos\n",
      "Gráfico com menos de 1600 pontos\n"
     ]
    },
    {
     "name": "stderr",
     "output_type": "stream",
     "text": [
      "/home/codemaster/anaconda3/envs/mestrado/lib/python3.9/site-packages/sklearn/base.py:450: UserWarning: X does not have valid feature names, but ExtraTreesRegressor was fitted with feature names\n",
      "  warnings.warn(\n",
      "/home/codemaster/anaconda3/envs/mestrado/lib/python3.9/site-packages/sklearn/metrics/_regression.py:796: UndefinedMetricWarning: R^2 score is not well-defined with less than two samples.\n",
      "  warnings.warn(msg, UndefinedMetricWarning)\n",
      "/home/codemaster/Desktop/backup/Dinamica Pontos Quanticos/code/model.py:71: RuntimeWarning: divide by zero encountered in double_scalars\n",
      "  relative_error_1 += np.abs(1-y_p)/y_t\n",
      "/home/codemaster/Desktop/backup/Dinamica Pontos Quanticos/code/model.py:72: RuntimeWarning: divide by zero encountered in double_scalars\n",
      "  relative_error_2 += np.abs((y_t-y_p)/y_t)\n"
     ]
    },
    {
     "name": "stdout",
     "output_type": "stream",
     "text": [
      "Gráfico com menos de 150 pontos\n",
      "Gráfico com menos de 1600 pontos\n"
     ]
    },
    {
     "name": "stderr",
     "output_type": "stream",
     "text": [
      "/home/codemaster/anaconda3/envs/mestrado/lib/python3.9/site-packages/sklearn/base.py:450: UserWarning: X does not have valid feature names, but ExtraTreesRegressor was fitted with feature names\n",
      "  warnings.warn(\n",
      "/home/codemaster/anaconda3/envs/mestrado/lib/python3.9/site-packages/sklearn/metrics/_regression.py:796: UndefinedMetricWarning: R^2 score is not well-defined with less than two samples.\n",
      "  warnings.warn(msg, UndefinedMetricWarning)\n",
      "/home/codemaster/Desktop/backup/Dinamica Pontos Quanticos/code/model.py:71: RuntimeWarning: divide by zero encountered in double_scalars\n",
      "  relative_error_1 += np.abs(1-y_p)/y_t\n",
      "/home/codemaster/Desktop/backup/Dinamica Pontos Quanticos/code/model.py:72: RuntimeWarning: divide by zero encountered in double_scalars\n",
      "  relative_error_2 += np.abs((y_t-y_p)/y_t)\n"
     ]
    },
    {
     "name": "stdout",
     "output_type": "stream",
     "text": [
      "Gráfico com menos de 150 pontos\n",
      "Gráfico com menos de 1600 pontos\n"
     ]
    },
    {
     "name": "stderr",
     "output_type": "stream",
     "text": [
      "/home/codemaster/anaconda3/envs/mestrado/lib/python3.9/site-packages/sklearn/base.py:450: UserWarning: X does not have valid feature names, but ExtraTreesRegressor was fitted with feature names\n",
      "  warnings.warn(\n",
      "/home/codemaster/anaconda3/envs/mestrado/lib/python3.9/site-packages/sklearn/metrics/_regression.py:796: UndefinedMetricWarning: R^2 score is not well-defined with less than two samples.\n",
      "  warnings.warn(msg, UndefinedMetricWarning)\n",
      "/home/codemaster/Desktop/backup/Dinamica Pontos Quanticos/code/model.py:71: RuntimeWarning: divide by zero encountered in double_scalars\n",
      "  relative_error_1 += np.abs(1-y_p)/y_t\n",
      "/home/codemaster/Desktop/backup/Dinamica Pontos Quanticos/code/model.py:72: RuntimeWarning: divide by zero encountered in double_scalars\n",
      "  relative_error_2 += np.abs((y_t-y_p)/y_t)\n"
     ]
    },
    {
     "name": "stdout",
     "output_type": "stream",
     "text": [
      "Gráfico com menos de 150 pontos\n",
      "Gráfico com menos de 1600 pontos\n"
     ]
    },
    {
     "name": "stderr",
     "output_type": "stream",
     "text": [
      "/home/codemaster/anaconda3/envs/mestrado/lib/python3.9/site-packages/sklearn/base.py:450: UserWarning: X does not have valid feature names, but ExtraTreesRegressor was fitted with feature names\n",
      "  warnings.warn(\n",
      "/home/codemaster/anaconda3/envs/mestrado/lib/python3.9/site-packages/sklearn/metrics/_regression.py:796: UndefinedMetricWarning: R^2 score is not well-defined with less than two samples.\n",
      "  warnings.warn(msg, UndefinedMetricWarning)\n",
      "/home/codemaster/Desktop/backup/Dinamica Pontos Quanticos/code/model.py:71: RuntimeWarning: divide by zero encountered in double_scalars\n",
      "  relative_error_1 += np.abs(1-y_p)/y_t\n",
      "/home/codemaster/Desktop/backup/Dinamica Pontos Quanticos/code/model.py:72: RuntimeWarning: divide by zero encountered in double_scalars\n",
      "  relative_error_2 += np.abs((y_t-y_p)/y_t)\n"
     ]
    },
    {
     "name": "stdout",
     "output_type": "stream",
     "text": [
      "Gráfico com menos de 150 pontos\n",
      "Gráfico com menos de 1600 pontos\n"
     ]
    },
    {
     "name": "stderr",
     "output_type": "stream",
     "text": [
      "/home/codemaster/anaconda3/envs/mestrado/lib/python3.9/site-packages/sklearn/base.py:450: UserWarning: X does not have valid feature names, but ExtraTreesRegressor was fitted with feature names\n",
      "  warnings.warn(\n",
      "/home/codemaster/anaconda3/envs/mestrado/lib/python3.9/site-packages/sklearn/metrics/_regression.py:796: UndefinedMetricWarning: R^2 score is not well-defined with less than two samples.\n",
      "  warnings.warn(msg, UndefinedMetricWarning)\n",
      "/home/codemaster/Desktop/backup/Dinamica Pontos Quanticos/code/model.py:71: RuntimeWarning: divide by zero encountered in double_scalars\n",
      "  relative_error_1 += np.abs(1-y_p)/y_t\n",
      "/home/codemaster/Desktop/backup/Dinamica Pontos Quanticos/code/model.py:72: RuntimeWarning: divide by zero encountered in double_scalars\n",
      "  relative_error_2 += np.abs((y_t-y_p)/y_t)\n"
     ]
    },
    {
     "name": "stdout",
     "output_type": "stream",
     "text": [
      "Gráfico com menos de 150 pontos\n",
      "Gráfico com menos de 1600 pontos\n"
     ]
    },
    {
     "name": "stderr",
     "output_type": "stream",
     "text": [
      "/home/codemaster/anaconda3/envs/mestrado/lib/python3.9/site-packages/sklearn/base.py:450: UserWarning: X does not have valid feature names, but ExtraTreesRegressor was fitted with feature names\n",
      "  warnings.warn(\n",
      "/home/codemaster/anaconda3/envs/mestrado/lib/python3.9/site-packages/sklearn/metrics/_regression.py:796: UndefinedMetricWarning: R^2 score is not well-defined with less than two samples.\n",
      "  warnings.warn(msg, UndefinedMetricWarning)\n",
      "/home/codemaster/Desktop/backup/Dinamica Pontos Quanticos/code/model.py:71: RuntimeWarning: divide by zero encountered in double_scalars\n",
      "  relative_error_1 += np.abs(1-y_p)/y_t\n",
      "/home/codemaster/Desktop/backup/Dinamica Pontos Quanticos/code/model.py:72: RuntimeWarning: divide by zero encountered in double_scalars\n",
      "  relative_error_2 += np.abs((y_t-y_p)/y_t)\n"
     ]
    },
    {
     "name": "stdout",
     "output_type": "stream",
     "text": [
      "Gráfico com menos de 150 pontos\n",
      "Gráfico com menos de 1600 pontos\n"
     ]
    },
    {
     "name": "stderr",
     "output_type": "stream",
     "text": [
      "/home/codemaster/anaconda3/envs/mestrado/lib/python3.9/site-packages/sklearn/base.py:450: UserWarning: X does not have valid feature names, but ExtraTreesRegressor was fitted with feature names\n",
      "  warnings.warn(\n",
      "/home/codemaster/anaconda3/envs/mestrado/lib/python3.9/site-packages/sklearn/metrics/_regression.py:796: UndefinedMetricWarning: R^2 score is not well-defined with less than two samples.\n",
      "  warnings.warn(msg, UndefinedMetricWarning)\n",
      "/home/codemaster/Desktop/backup/Dinamica Pontos Quanticos/code/model.py:71: RuntimeWarning: divide by zero encountered in double_scalars\n",
      "  relative_error_1 += np.abs(1-y_p)/y_t\n",
      "/home/codemaster/Desktop/backup/Dinamica Pontos Quanticos/code/model.py:72: RuntimeWarning: divide by zero encountered in double_scalars\n",
      "  relative_error_2 += np.abs((y_t-y_p)/y_t)\n"
     ]
    },
    {
     "name": "stdout",
     "output_type": "stream",
     "text": [
      "Gráfico com menos de 150 pontos\n",
      "Gráfico com menos de 1600 pontos\n"
     ]
    },
    {
     "name": "stderr",
     "output_type": "stream",
     "text": [
      "/home/codemaster/anaconda3/envs/mestrado/lib/python3.9/site-packages/sklearn/base.py:450: UserWarning: X does not have valid feature names, but ExtraTreesRegressor was fitted with feature names\n",
      "  warnings.warn(\n",
      "/home/codemaster/anaconda3/envs/mestrado/lib/python3.9/site-packages/sklearn/metrics/_regression.py:796: UndefinedMetricWarning: R^2 score is not well-defined with less than two samples.\n",
      "  warnings.warn(msg, UndefinedMetricWarning)\n",
      "/home/codemaster/Desktop/backup/Dinamica Pontos Quanticos/code/model.py:71: RuntimeWarning: divide by zero encountered in double_scalars\n",
      "  relative_error_1 += np.abs(1-y_p)/y_t\n",
      "/home/codemaster/Desktop/backup/Dinamica Pontos Quanticos/code/model.py:72: RuntimeWarning: divide by zero encountered in double_scalars\n",
      "  relative_error_2 += np.abs((y_t-y_p)/y_t)\n"
     ]
    },
    {
     "name": "stdout",
     "output_type": "stream",
     "text": [
      "Gráfico com menos de 150 pontos\n",
      "Gráfico com menos de 1600 pontos\n"
     ]
    },
    {
     "data": {
      "image/png": "[encoded data removed]",
      "text/plain": [
       "<Figure size 360x360 with 1 Axes>"
      ]
     },
     "metadata": {
      "needs_background": "light"
     },
     "output_type": "display_data"
    },
    {
     "name": "stderr",
     "output_type": "stream",
     "text": [
      "/home/codemaster/anaconda3/envs/mestrado/lib/python3.9/site-packages/sklearn/base.py:450: UserWarning: X does not have valid feature names, but ExtraTreesRegressor was fitted with feature names\n",
      "  warnings.warn(\n",
      "/home/codemaster/anaconda3/envs/mestrado/lib/python3.9/site-packages/sklearn/metrics/_regression.py:796: UndefinedMetricWarning: R^2 score is not well-defined with less than two samples.\n",
      "  warnings.warn(msg, UndefinedMetricWarning)\n"
     ]
    },
    {
     "name": "stdout",
     "output_type": "stream",
     "text": [
      "Gráfico com menos de 150 pontos\n",
      "Gráfico com menos de 1600 pontos\n"
     ]
    },
    {
     "name": "stderr",
     "output_type": "stream",
     "text": [
      "/home/codemaster/anaconda3/envs/mestrado/lib/python3.9/site-packages/sklearn/base.py:450: UserWarning: X does not have valid feature names, but ExtraTreesRegressor was fitted with feature names\n",
      "  warnings.warn(\n",
      "/home/codemaster/anaconda3/envs/mestrado/lib/python3.9/site-packages/sklearn/metrics/_regression.py:796: UndefinedMetricWarning: R^2 score is not well-defined with less than two samples.\n",
      "  warnings.warn(msg, UndefinedMetricWarning)\n"
     ]
    },
    {
     "name": "stdout",
     "output_type": "stream",
     "text": [
      "Gráfico com menos de 150 pontos\n",
      "Gráfico com menos de 1600 pontos\n",
      "Gráfico com menos de 150 pontos\n"
     ]
    },
    {
     "name": "stderr",
     "output_type": "stream",
     "text": [
      "/home/codemaster/anaconda3/envs/mestrado/lib/python3.9/site-packages/sklearn/base.py:450: UserWarning: X does not have valid feature names, but ExtraTreesRegressor was fitted with feature names\n",
      "  warnings.warn(\n",
      "/home/codemaster/anaconda3/envs/mestrado/lib/python3.9/site-packages/sklearn/metrics/_regression.py:796: UndefinedMetricWarning: R^2 score is not well-defined with less than two samples.\n",
      "  warnings.warn(msg, UndefinedMetricWarning)\n"
     ]
    },
    {
     "name": "stdout",
     "output_type": "stream",
     "text": [
      "Gráfico com menos de 1600 pontos\n"
     ]
    },
    {
     "name": "stderr",
     "output_type": "stream",
     "text": [
      "/home/codemaster/anaconda3/envs/mestrado/lib/python3.9/site-packages/sklearn/base.py:450: UserWarning: X does not have valid feature names, but ExtraTreesRegressor was fitted with feature names\n",
      "  warnings.warn(\n",
      "/home/codemaster/anaconda3/envs/mestrado/lib/python3.9/site-packages/sklearn/metrics/_regression.py:796: UndefinedMetricWarning: R^2 score is not well-defined with less than two samples.\n",
      "  warnings.warn(msg, UndefinedMetricWarning)\n"
     ]
    },
    {
     "name": "stdout",
     "output_type": "stream",
     "text": [
      "Gráfico com menos de 150 pontos\n",
      "Gráfico com menos de 1600 pontos\n"
     ]
    },
    {
     "name": "stderr",
     "output_type": "stream",
     "text": [
      "/home/codemaster/anaconda3/envs/mestrado/lib/python3.9/site-packages/sklearn/base.py:450: UserWarning: X does not have valid feature names, but ExtraTreesRegressor was fitted with feature names\n",
      "  warnings.warn(\n",
      "/home/codemaster/anaconda3/envs/mestrado/lib/python3.9/site-packages/sklearn/metrics/_regression.py:796: UndefinedMetricWarning: R^2 score is not well-defined with less than two samples.\n",
      "  warnings.warn(msg, UndefinedMetricWarning)\n"
     ]
    },
    {
     "name": "stdout",
     "output_type": "stream",
     "text": [
      "Gráfico com menos de 150 pontos\n",
      "Gráfico com menos de 1600 pontos\n",
      "Gráfico com menos de 150 pontos\n"
     ]
    },
    {
     "name": "stderr",
     "output_type": "stream",
     "text": [
      "/home/codemaster/anaconda3/envs/mestrado/lib/python3.9/site-packages/sklearn/base.py:450: UserWarning: X does not have valid feature names, but ExtraTreesRegressor was fitted with feature names\n",
      "  warnings.warn(\n",
      "/home/codemaster/anaconda3/envs/mestrado/lib/python3.9/site-packages/sklearn/metrics/_regression.py:796: UndefinedMetricWarning: R^2 score is not well-defined with less than two samples.\n",
      "  warnings.warn(msg, UndefinedMetricWarning)\n"
     ]
    },
    {
     "name": "stdout",
     "output_type": "stream",
     "text": [
      "Gráfico com menos de 1600 pontos\n"
     ]
    },
    {
     "name": "stderr",
     "output_type": "stream",
     "text": [
      "/home/codemaster/anaconda3/envs/mestrado/lib/python3.9/site-packages/sklearn/base.py:450: UserWarning: X does not have valid feature names, but ExtraTreesRegressor was fitted with feature names\n",
      "  warnings.warn(\n",
      "/home/codemaster/anaconda3/envs/mestrado/lib/python3.9/site-packages/sklearn/metrics/_regression.py:796: UndefinedMetricWarning: R^2 score is not well-defined with less than two samples.\n",
      "  warnings.warn(msg, UndefinedMetricWarning)\n"
     ]
    },
    {
     "name": "stdout",
     "output_type": "stream",
     "text": [
      "Gráfico com menos de 150 pontos\n",
      "Gráfico com menos de 1600 pontos\n"
     ]
    },
    {
     "name": "stderr",
     "output_type": "stream",
     "text": [
      "/home/codemaster/anaconda3/envs/mestrado/lib/python3.9/site-packages/sklearn/base.py:450: UserWarning: X does not have valid feature names, but ExtraTreesRegressor was fitted with feature names\n",
      "  warnings.warn(\n",
      "/home/codemaster/anaconda3/envs/mestrado/lib/python3.9/site-packages/sklearn/metrics/_regression.py:796: UndefinedMetricWarning: R^2 score is not well-defined with less than two samples.\n",
      "  warnings.warn(msg, UndefinedMetricWarning)\n"
     ]
    },
    {
     "name": "stdout",
     "output_type": "stream",
     "text": [
      "Gráfico com menos de 150 pontos\n",
      "Gráfico com menos de 1600 pontos\n",
      "Gráfico com menos de 150 pontos\n"
     ]
    },
    {
     "name": "stderr",
     "output_type": "stream",
     "text": [
      "/home/codemaster/anaconda3/envs/mestrado/lib/python3.9/site-packages/sklearn/base.py:450: UserWarning: X does not have valid feature names, but ExtraTreesRegressor was fitted with feature names\n",
      "  warnings.warn(\n",
      "/home/codemaster/anaconda3/envs/mestrado/lib/python3.9/site-packages/sklearn/metrics/_regression.py:796: UndefinedMetricWarning: R^2 score is not well-defined with less than two samples.\n",
      "  warnings.warn(msg, UndefinedMetricWarning)\n"
     ]
    },
    {
     "name": "stdout",
     "output_type": "stream",
     "text": [
      "Gráfico com menos de 1600 pontos\n"
     ]
    },
    {
     "name": "stderr",
     "output_type": "stream",
     "text": [
      "/home/codemaster/anaconda3/envs/mestrado/lib/python3.9/site-packages/sklearn/base.py:450: UserWarning: X does not have valid feature names, but ExtraTreesRegressor was fitted with feature names\n",
      "  warnings.warn(\n",
      "/home/codemaster/anaconda3/envs/mestrado/lib/python3.9/site-packages/sklearn/metrics/_regression.py:796: UndefinedMetricWarning: R^2 score is not well-defined with less than two samples.\n",
      "  warnings.warn(msg, UndefinedMetricWarning)\n"
     ]
    },
    {
     "name": "stdout",
     "output_type": "stream",
     "text": [
      "Gráfico com menos de 150 pontos\n",
      "Gráfico com menos de 1600 pontos\n"
     ]
    },
    {
     "name": "stderr",
     "output_type": "stream",
     "text": [
      "/home/codemaster/anaconda3/envs/mestrado/lib/python3.9/site-packages/sklearn/base.py:450: UserWarning: X does not have valid feature names, but ExtraTreesRegressor was fitted with feature names\n",
      "  warnings.warn(\n",
      "/home/codemaster/anaconda3/envs/mestrado/lib/python3.9/site-packages/sklearn/metrics/_regression.py:796: UndefinedMetricWarning: R^2 score is not well-defined with less than two samples.\n",
      "  warnings.warn(msg, UndefinedMetricWarning)\n"
     ]
    },
    {
     "name": "stdout",
     "output_type": "stream",
     "text": [
      "Gráfico com menos de 150 pontos\n",
      "Gráfico com menos de 1600 pontos\n",
      "Gráfico com menos de 150 pontos\n"
     ]
    },
    {
     "name": "stderr",
     "output_type": "stream",
     "text": [
      "/home/codemaster/anaconda3/envs/mestrado/lib/python3.9/site-packages/sklearn/base.py:450: UserWarning: X does not have valid feature names, but ExtraTreesRegressor was fitted with feature names\n",
      "  warnings.warn(\n",
      "/home/codemaster/anaconda3/envs/mestrado/lib/python3.9/site-packages/sklearn/metrics/_regression.py:796: UndefinedMetricWarning: R^2 score is not well-defined with less than two samples.\n",
      "  warnings.warn(msg, UndefinedMetricWarning)\n"
     ]
    },
    {
     "name": "stdout",
     "output_type": "stream",
     "text": [
      "Gráfico com menos de 1600 pontos\n"
     ]
    },
    {
     "name": "stderr",
     "output_type": "stream",
     "text": [
      "/home/codemaster/anaconda3/envs/mestrado/lib/python3.9/site-packages/sklearn/base.py:450: UserWarning: X does not have valid feature names, but ExtraTreesRegressor was fitted with feature names\n",
      "  warnings.warn(\n",
      "/home/codemaster/anaconda3/envs/mestrado/lib/python3.9/site-packages/sklearn/metrics/_regression.py:796: UndefinedMetricWarning: R^2 score is not well-defined with less than two samples.\n",
      "  warnings.warn(msg, UndefinedMetricWarning)\n"
     ]
    },
    {
     "name": "stdout",
     "output_type": "stream",
     "text": [
      "Gráfico com menos de 150 pontos\n",
      "Gráfico com menos de 1600 pontos\n"
     ]
    },
    {
     "name": "stderr",
     "output_type": "stream",
     "text": [
      "/home/codemaster/anaconda3/envs/mestrado/lib/python3.9/site-packages/sklearn/base.py:450: UserWarning: X does not have valid feature names, but ExtraTreesRegressor was fitted with feature names\n",
      "  warnings.warn(\n",
      "/home/codemaster/anaconda3/envs/mestrado/lib/python3.9/site-packages/sklearn/metrics/_regression.py:796: UndefinedMetricWarning: R^2 score is not well-defined with less than two samples.\n",
      "  warnings.warn(msg, UndefinedMetricWarning)\n"
     ]
    },
    {
     "name": "stdout",
     "output_type": "stream",
     "text": [
      "Gráfico com menos de 150 pontos\n",
      "Gráfico com menos de 1600 pontos\n"
     ]
    },
    {
     "name": "stderr",
     "output_type": "stream",
     "text": [
      "/home/codemaster/anaconda3/envs/mestrado/lib/python3.9/site-packages/sklearn/base.py:450: UserWarning: X does not have valid feature names, but ExtraTreesRegressor was fitted with feature names\n",
      "  warnings.warn(\n",
      "/home/codemaster/anaconda3/envs/mestrado/lib/python3.9/site-packages/sklearn/metrics/_regression.py:796: UndefinedMetricWarning: R^2 score is not well-defined with less than two samples.\n",
      "  warnings.warn(msg, UndefinedMetricWarning)\n"
     ]
    },
    {
     "name": "stdout",
     "output_type": "stream",
     "text": [
      "Gráfico com menos de 150 pontos\n",
      "Gráfico com menos de 1600 pontos\n",
      "Gráfico com menos de 150 pontos\n"
     ]
    },
    {
     "name": "stderr",
     "output_type": "stream",
     "text": [
      "/home/codemaster/anaconda3/envs/mestrado/lib/python3.9/site-packages/sklearn/base.py:450: UserWarning: X does not have valid feature names, but ExtraTreesRegressor was fitted with feature names\n",
      "  warnings.warn(\n",
      "/home/codemaster/anaconda3/envs/mestrado/lib/python3.9/site-packages/sklearn/metrics/_regression.py:796: UndefinedMetricWarning: R^2 score is not well-defined with less than two samples.\n",
      "  warnings.warn(msg, UndefinedMetricWarning)\n"
     ]
    },
    {
     "name": "stdout",
     "output_type": "stream",
     "text": [
      "Gráfico com menos de 1600 pontos\n",
      "Gráfico com menos de 150 pontos\n"
     ]
    },
    {
     "name": "stderr",
     "output_type": "stream",
     "text": [
      "/home/codemaster/anaconda3/envs/mestrado/lib/python3.9/site-packages/sklearn/base.py:450: UserWarning: X does not have valid feature names, but ExtraTreesRegressor was fitted with feature names\n",
      "  warnings.warn(\n",
      "/home/codemaster/anaconda3/envs/mestrado/lib/python3.9/site-packages/sklearn/metrics/_regression.py:796: UndefinedMetricWarning: R^2 score is not well-defined with less than two samples.\n",
      "  warnings.warn(msg, UndefinedMetricWarning)\n"
     ]
    },
    {
     "name": "stdout",
     "output_type": "stream",
     "text": [
      "Gráfico com menos de 1600 pontos\n",
      "Gráfico com menos de 150 pontos\n"
     ]
    },
    {
     "name": "stderr",
     "output_type": "stream",
     "text": [
      "/home/codemaster/anaconda3/envs/mestrado/lib/python3.9/site-packages/sklearn/base.py:450: UserWarning: X does not have valid feature names, but ExtraTreesRegressor was fitted with feature names\n",
      "  warnings.warn(\n",
      "/home/codemaster/anaconda3/envs/mestrado/lib/python3.9/site-packages/sklearn/metrics/_regression.py:796: UndefinedMetricWarning: R^2 score is not well-defined with less than two samples.\n",
      "  warnings.warn(msg, UndefinedMetricWarning)\n"
     ]
    },
    {
     "name": "stdout",
     "output_type": "stream",
     "text": [
      "Gráfico com menos de 1600 pontos\n",
      "Gráfico com menos de 150 pontos\n"
     ]
    },
    {
     "name": "stderr",
     "output_type": "stream",
     "text": [
      "/home/codemaster/anaconda3/envs/mestrado/lib/python3.9/site-packages/sklearn/base.py:450: UserWarning: X does not have valid feature names, but ExtraTreesRegressor was fitted with feature names\n",
      "  warnings.warn(\n",
      "/home/codemaster/anaconda3/envs/mestrado/lib/python3.9/site-packages/sklearn/metrics/_regression.py:796: UndefinedMetricWarning: R^2 score is not well-defined with less than two samples.\n",
      "  warnings.warn(msg, UndefinedMetricWarning)\n"
     ]
    },
    {
     "name": "stdout",
     "output_type": "stream",
     "text": [
      "Gráfico com menos de 1600 pontos\n",
      "Gráfico com menos de 150 pontos\n"
     ]
    },
    {
     "name": "stderr",
     "output_type": "stream",
     "text": [
      "/home/codemaster/anaconda3/envs/mestrado/lib/python3.9/site-packages/sklearn/base.py:450: UserWarning: X does not have valid feature names, but ExtraTreesRegressor was fitted with feature names\n",
      "  warnings.warn(\n",
      "/home/codemaster/anaconda3/envs/mestrado/lib/python3.9/site-packages/sklearn/metrics/_regression.py:796: UndefinedMetricWarning: R^2 score is not well-defined with less than two samples.\n",
      "  warnings.warn(msg, UndefinedMetricWarning)\n"
     ]
    },
    {
     "name": "stdout",
     "output_type": "stream",
     "text": [
      "Gráfico com menos de 1600 pontos\n"
     ]
    },
    {
     "data": {
      "image/png": "[encoded data removed]",
      "text/plain": [
       "<Figure size 360x360 with 1 Axes>"
      ]
     },
     "metadata": {
      "needs_background": "light"
     },
     "output_type": "display_data"
    },
    {
     "name": "stderr",
     "output_type": "stream",
     "text": [
      "/home/codemaster/anaconda3/envs/mestrado/lib/python3.9/site-packages/sklearn/base.py:450: UserWarning: X does not have valid feature names, but ExtraTreesRegressor was fitted with feature names\n",
      "  warnings.warn(\n",
      "/home/codemaster/anaconda3/envs/mestrado/lib/python3.9/site-packages/sklearn/metrics/_regression.py:796: UndefinedMetricWarning: R^2 score is not well-defined with less than two samples.\n",
      "  warnings.warn(msg, UndefinedMetricWarning)\n"
     ]
    },
    {
     "name": "stdout",
     "output_type": "stream",
     "text": [
      "Gráfico com menos de 150 pontos\n",
      "Gráfico com menos de 1600 pontos\n",
      "Gráfico com menos de 150 pontos\n"
     ]
    },
    {
     "name": "stderr",
     "output_type": "stream",
     "text": [
      "/home/codemaster/anaconda3/envs/mestrado/lib/python3.9/site-packages/sklearn/base.py:450: UserWarning: X does not have valid feature names, but ExtraTreesRegressor was fitted with feature names\n",
      "  warnings.warn(\n",
      "/home/codemaster/anaconda3/envs/mestrado/lib/python3.9/site-packages/sklearn/metrics/_regression.py:796: UndefinedMetricWarning: R^2 score is not well-defined with less than two samples.\n",
      "  warnings.warn(msg, UndefinedMetricWarning)\n"
     ]
    },
    {
     "name": "stdout",
     "output_type": "stream",
     "text": [
      "Gráfico com menos de 1600 pontos\n"
     ]
    },
    {
     "name": "stderr",
     "output_type": "stream",
     "text": [
      "/home/codemaster/anaconda3/envs/mestrado/lib/python3.9/site-packages/sklearn/base.py:450: UserWarning: X does not have valid feature names, but ExtraTreesRegressor was fitted with feature names\n",
      "  warnings.warn(\n",
      "/home/codemaster/anaconda3/envs/mestrado/lib/python3.9/site-packages/sklearn/metrics/_regression.py:796: UndefinedMetricWarning: R^2 score is not well-defined with less than two samples.\n",
      "  warnings.warn(msg, UndefinedMetricWarning)\n"
     ]
    },
    {
     "name": "stdout",
     "output_type": "stream",
     "text": [
      "Gráfico com menos de 150 pontos\n",
      "Gráfico com menos de 1600 pontos\n",
      "Gráfico com menos de 150 pontos\n"
     ]
    },
    {
     "name": "stderr",
     "output_type": "stream",
     "text": [
      "/home/codemaster/anaconda3/envs/mestrado/lib/python3.9/site-packages/sklearn/base.py:450: UserWarning: X does not have valid feature names, but ExtraTreesRegressor was fitted with feature names\n",
      "  warnings.warn(\n",
      "/home/codemaster/anaconda3/envs/mestrado/lib/python3.9/site-packages/sklearn/metrics/_regression.py:796: UndefinedMetricWarning: R^2 score is not well-defined with less than two samples.\n",
      "  warnings.warn(msg, UndefinedMetricWarning)\n"
     ]
    },
    {
     "name": "stdout",
     "output_type": "stream",
     "text": [
      "Gráfico com menos de 1600 pontos\n",
      "Gráfico com menos de 150 pontos\n"
     ]
    },
    {
     "name": "stderr",
     "output_type": "stream",
     "text": [
      "/home/codemaster/anaconda3/envs/mestrado/lib/python3.9/site-packages/sklearn/base.py:450: UserWarning: X does not have valid feature names, but ExtraTreesRegressor was fitted with feature names\n",
      "  warnings.warn(\n",
      "/home/codemaster/anaconda3/envs/mestrado/lib/python3.9/site-packages/sklearn/metrics/_regression.py:796: UndefinedMetricWarning: R^2 score is not well-defined with less than two samples.\n",
      "  warnings.warn(msg, UndefinedMetricWarning)\n"
     ]
    },
    {
     "name": "stdout",
     "output_type": "stream",
     "text": [
      "Gráfico com menos de 1600 pontos\n",
      "Gráfico com menos de 150 pontos\n"
     ]
    },
    {
     "name": "stderr",
     "output_type": "stream",
     "text": [
      "/home/codemaster/anaconda3/envs/mestrado/lib/python3.9/site-packages/sklearn/base.py:450: UserWarning: X does not have valid feature names, but ExtraTreesRegressor was fitted with feature names\n",
      "  warnings.warn(\n",
      "/home/codemaster/anaconda3/envs/mestrado/lib/python3.9/site-packages/sklearn/metrics/_regression.py:796: UndefinedMetricWarning: R^2 score is not well-defined with less than two samples.\n",
      "  warnings.warn(msg, UndefinedMetricWarning)\n"
     ]
    },
    {
     "name": "stdout",
     "output_type": "stream",
     "text": [
      "Gráfico com menos de 1600 pontos\n"
     ]
    },
    {
     "name": "stderr",
     "output_type": "stream",
     "text": [
      "/home/codemaster/anaconda3/envs/mestrado/lib/python3.9/site-packages/sklearn/base.py:450: UserWarning: X does not have valid feature names, but ExtraTreesRegressor was fitted with feature names\n",
      "  warnings.warn(\n",
      "/home/codemaster/anaconda3/envs/mestrado/lib/python3.9/site-packages/sklearn/metrics/_regression.py:796: UndefinedMetricWarning: R^2 score is not well-defined with less than two samples.\n",
      "  warnings.warn(msg, UndefinedMetricWarning)\n"
     ]
    },
    {
     "name": "stdout",
     "output_type": "stream",
     "text": [
      "Gráfico com menos de 150 pontos\n",
      "Gráfico com menos de 1600 pontos\n"
     ]
    },
    {
     "name": "stderr",
     "output_type": "stream",
     "text": [
      "/home/codemaster/anaconda3/envs/mestrado/lib/python3.9/site-packages/sklearn/base.py:450: UserWarning: X does not have valid feature names, but ExtraTreesRegressor was fitted with feature names\n",
      "  warnings.warn(\n",
      "/home/codemaster/anaconda3/envs/mestrado/lib/python3.9/site-packages/sklearn/metrics/_regression.py:796: UndefinedMetricWarning: R^2 score is not well-defined with less than two samples.\n",
      "  warnings.warn(msg, UndefinedMetricWarning)\n"
     ]
    },
    {
     "name": "stdout",
     "output_type": "stream",
     "text": [
      "Gráfico com menos de 150 pontos\n",
      "Gráfico com menos de 1600 pontos\n",
      "Gráfico com menos de 150 pontos\n"
     ]
    },
    {
     "name": "stderr",
     "output_type": "stream",
     "text": [
      "/home/codemaster/anaconda3/envs/mestrado/lib/python3.9/site-packages/sklearn/base.py:450: UserWarning: X does not have valid feature names, but ExtraTreesRegressor was fitted with feature names\n",
      "  warnings.warn(\n",
      "/home/codemaster/anaconda3/envs/mestrado/lib/python3.9/site-packages/sklearn/metrics/_regression.py:796: UndefinedMetricWarning: R^2 score is not well-defined with less than two samples.\n",
      "  warnings.warn(msg, UndefinedMetricWarning)\n"
     ]
    },
    {
     "name": "stdout",
     "output_type": "stream",
     "text": [
      "Gráfico com menos de 1600 pontos\n",
      "Gráfico com menos de 150 pontos\n"
     ]
    },
    {
     "name": "stderr",
     "output_type": "stream",
     "text": [
      "/home/codemaster/anaconda3/envs/mestrado/lib/python3.9/site-packages/sklearn/base.py:450: UserWarning: X does not have valid feature names, but ExtraTreesRegressor was fitted with feature names\n",
      "  warnings.warn(\n",
      "/home/codemaster/anaconda3/envs/mestrado/lib/python3.9/site-packages/sklearn/metrics/_regression.py:796: UndefinedMetricWarning: R^2 score is not well-defined with less than two samples.\n",
      "  warnings.warn(msg, UndefinedMetricWarning)\n"
     ]
    },
    {
     "name": "stdout",
     "output_type": "stream",
     "text": [
      "Gráfico com menos de 1600 pontos\n"
     ]
    },
    {
     "name": "stderr",
     "output_type": "stream",
     "text": [
      "/home/codemaster/anaconda3/envs/mestrado/lib/python3.9/site-packages/sklearn/base.py:450: UserWarning: X does not have valid feature names, but ExtraTreesRegressor was fitted with feature names\n",
      "  warnings.warn(\n",
      "/home/codemaster/anaconda3/envs/mestrado/lib/python3.9/site-packages/sklearn/metrics/_regression.py:796: UndefinedMetricWarning: R^2 score is not well-defined with less than two samples.\n",
      "  warnings.warn(msg, UndefinedMetricWarning)\n"
     ]
    },
    {
     "name": "stdout",
     "output_type": "stream",
     "text": [
      "Gráfico com menos de 150 pontos\n",
      "Gráfico com menos de 1600 pontos\n",
      "Gráfico com menos de 150 pontos\n"
     ]
    },
    {
     "name": "stderr",
     "output_type": "stream",
     "text": [
      "/home/codemaster/anaconda3/envs/mestrado/lib/python3.9/site-packages/sklearn/base.py:450: UserWarning: X does not have valid feature names, but ExtraTreesRegressor was fitted with feature names\n",
      "  warnings.warn(\n",
      "/home/codemaster/anaconda3/envs/mestrado/lib/python3.9/site-packages/sklearn/metrics/_regression.py:796: UndefinedMetricWarning: R^2 score is not well-defined with less than two samples.\n",
      "  warnings.warn(msg, UndefinedMetricWarning)\n"
     ]
    },
    {
     "name": "stdout",
     "output_type": "stream",
     "text": [
      "Gráfico com menos de 1600 pontos\n",
      "Gráfico com menos de 150 pontos\n"
     ]
    },
    {
     "name": "stderr",
     "output_type": "stream",
     "text": [
      "/home/codemaster/anaconda3/envs/mestrado/lib/python3.9/site-packages/sklearn/base.py:450: UserWarning: X does not have valid feature names, but ExtraTreesRegressor was fitted with feature names\n",
      "  warnings.warn(\n",
      "/home/codemaster/anaconda3/envs/mestrado/lib/python3.9/site-packages/sklearn/metrics/_regression.py:796: UndefinedMetricWarning: R^2 score is not well-defined with less than two samples.\n",
      "  warnings.warn(msg, UndefinedMetricWarning)\n"
     ]
    },
    {
     "name": "stdout",
     "output_type": "stream",
     "text": [
      "Gráfico com menos de 1600 pontos\n",
      "Gráfico com menos de 150 pontos\n"
     ]
    },
    {
     "name": "stderr",
     "output_type": "stream",
     "text": [
      "/home/codemaster/anaconda3/envs/mestrado/lib/python3.9/site-packages/sklearn/base.py:450: UserWarning: X does not have valid feature names, but ExtraTreesRegressor was fitted with feature names\n",
      "  warnings.warn(\n",
      "/home/codemaster/anaconda3/envs/mestrado/lib/python3.9/site-packages/sklearn/metrics/_regression.py:796: UndefinedMetricWarning: R^2 score is not well-defined with less than two samples.\n",
      "  warnings.warn(msg, UndefinedMetricWarning)\n"
     ]
    },
    {
     "name": "stdout",
     "output_type": "stream",
     "text": [
      "Gráfico com menos de 1600 pontos\n",
      "Gráfico com menos de 150 pontos\n"
     ]
    },
    {
     "name": "stderr",
     "output_type": "stream",
     "text": [
      "/home/codemaster/anaconda3/envs/mestrado/lib/python3.9/site-packages/sklearn/base.py:450: UserWarning: X does not have valid feature names, but ExtraTreesRegressor was fitted with feature names\n",
      "  warnings.warn(\n",
      "/home/codemaster/anaconda3/envs/mestrado/lib/python3.9/site-packages/sklearn/metrics/_regression.py:796: UndefinedMetricWarning: R^2 score is not well-defined with less than two samples.\n",
      "  warnings.warn(msg, UndefinedMetricWarning)\n"
     ]
    },
    {
     "name": "stdout",
     "output_type": "stream",
     "text": [
      "Gráfico com menos de 1600 pontos\n",
      "Gráfico com menos de 150 pontos\n"
     ]
    },
    {
     "name": "stderr",
     "output_type": "stream",
     "text": [
      "/home/codemaster/anaconda3/envs/mestrado/lib/python3.9/site-packages/sklearn/base.py:450: UserWarning: X does not have valid feature names, but ExtraTreesRegressor was fitted with feature names\n",
      "  warnings.warn(\n",
      "/home/codemaster/anaconda3/envs/mestrado/lib/python3.9/site-packages/sklearn/metrics/_regression.py:796: UndefinedMetricWarning: R^2 score is not well-defined with less than two samples.\n",
      "  warnings.warn(msg, UndefinedMetricWarning)\n"
     ]
    },
    {
     "name": "stdout",
     "output_type": "stream",
     "text": [
      "Gráfico com menos de 1600 pontos\n",
      "Gráfico com menos de 150 pontos\n"
     ]
    },
    {
     "name": "stderr",
     "output_type": "stream",
     "text": [
      "/home/codemaster/anaconda3/envs/mestrado/lib/python3.9/site-packages/sklearn/base.py:450: UserWarning: X does not have valid feature names, but ExtraTreesRegressor was fitted with feature names\n",
      "  warnings.warn(\n",
      "/home/codemaster/anaconda3/envs/mestrado/lib/python3.9/site-packages/sklearn/metrics/_regression.py:796: UndefinedMetricWarning: R^2 score is not well-defined with less than two samples.\n",
      "  warnings.warn(msg, UndefinedMetricWarning)\n"
     ]
    },
    {
     "name": "stdout",
     "output_type": "stream",
     "text": [
      "Gráfico com menos de 1600 pontos\n",
      "Gráfico com menos de 150 pontos\n"
     ]
    },
    {
     "name": "stderr",
     "output_type": "stream",
     "text": [
      "/home/codemaster/anaconda3/envs/mestrado/lib/python3.9/site-packages/sklearn/base.py:450: UserWarning: X does not have valid feature names, but ExtraTreesRegressor was fitted with feature names\n",
      "  warnings.warn(\n",
      "/home/codemaster/anaconda3/envs/mestrado/lib/python3.9/site-packages/sklearn/metrics/_regression.py:796: UndefinedMetricWarning: R^2 score is not well-defined with less than two samples.\n",
      "  warnings.warn(msg, UndefinedMetricWarning)\n"
     ]
    },
    {
     "name": "stdout",
     "output_type": "stream",
     "text": [
      "Gráfico com menos de 1600 pontos\n",
      "Gráfico com menos de 150 pontos\n"
     ]
    },
    {
     "name": "stderr",
     "output_type": "stream",
     "text": [
      "/home/codemaster/anaconda3/envs/mestrado/lib/python3.9/site-packages/sklearn/base.py:450: UserWarning: X does not have valid feature names, but ExtraTreesRegressor was fitted with feature names\n",
      "  warnings.warn(\n",
      "/home/codemaster/anaconda3/envs/mestrado/lib/python3.9/site-packages/sklearn/metrics/_regression.py:796: UndefinedMetricWarning: R^2 score is not well-defined with less than two samples.\n",
      "  warnings.warn(msg, UndefinedMetricWarning)\n"
     ]
    },
    {
     "name": "stdout",
     "output_type": "stream",
     "text": [
      "Gráfico com menos de 1600 pontos\n",
      "Gráfico com menos de 150 pontos\n"
     ]
    },
    {
     "name": "stderr",
     "output_type": "stream",
     "text": [
      "/home/codemaster/anaconda3/envs/mestrado/lib/python3.9/site-packages/sklearn/base.py:450: UserWarning: X does not have valid feature names, but ExtraTreesRegressor was fitted with feature names\n",
      "  warnings.warn(\n",
      "/home/codemaster/anaconda3/envs/mestrado/lib/python3.9/site-packages/sklearn/metrics/_regression.py:796: UndefinedMetricWarning: R^2 score is not well-defined with less than two samples.\n",
      "  warnings.warn(msg, UndefinedMetricWarning)\n"
     ]
    },
    {
     "name": "stdout",
     "output_type": "stream",
     "text": [
      "Gráfico com menos de 1600 pontos\n"
     ]
    },
    {
     "data": {
      "image/png": "[encoded data removed]",
      "text/plain": [
       "<Figure size 360x360 with 1 Axes>"
      ]
     },
     "metadata": {
      "needs_background": "light"
     },
     "output_type": "display_data"
    },
    {
     "data": {
      "image/png": "[encoded data removed]",
      "text/plain": [
       "<Figure size 360x360 with 1 Axes>"
      ]
     },
     "metadata": {
      "needs_background": "light"
     },
     "output_type": "display_data"
    },
    {
     "name": "stdout",
     "output_type": "stream",
     "text": [
      "Simulação construida com sucesso!\n",
      "Tempo: 168.947429830092\n",
      "Tempo Total: 460.7642128400039\n"
     ]
    }
   ],
   "source": [
    "from eq_classica import Eq_cl\n",
    "from quantum import Qt\n",
    "from model import Md\n",
    "from time import perf_counter\n",
    "\n",
    "temp_0 = perf_counter()\n",
    "print(\"\\n0-Inicializando modelo classico...\")\n",
    "classica = Eq_cl(j_1_inicial=1, j_1_final=2, passoJ_1 = 0.5,\n",
    "             j_2_inicial=1, j_2_final=2, passoJ_2 = 0.5,\n",
    "             bz_1_inicial=1, bz_1_final=2, passoBz_1 = 0.5,\n",
    "             bz_2_inicial=1, bz_2_final=2, passoBz_2 = 0.5,\n",
    "             j_12_inicial=0, j_12_final=10, passoJ_12 = 0.1,\n",
    "             tInicial=1, tFinal=20, passoT=1)\n",
    "temp_1 = perf_counter()\n",
    "print(\"\\nData frame criado com sucesso!\")\n",
    "print(\"Tempo:\", temp_1-temp_0)\n",
    "\n",
    "print(\"\\n1-Criando data frame...\")\n",
    "classica.criaDataFrame()\n",
    "temp_2 = perf_counter()\n",
    "print(\"\\nData frame criado com sucesso!\")\n",
    "print(\"Tempo:\", temp_2-temp_1)\n",
    "\n",
    "print(\"2-Construindo modelo...\")\n",
    "model = Md(df = classica.dataset, name=classica.name, k=10000)\n",
    "model.set_model()\n",
    "temp_3 = perf_counter()\n",
    "print(\"Modelo construido com sucesso!\")\n",
    "print(\"Tempo:\", temp_3-temp_2)\n",
    "\n",
    "model.model_results(df_ale = classica.test_aleatorio())\n",
    "temp_4 = perf_counter()\n",
    "print(\"Predições realizadas!\")\n",
    "print(\"Tempo:\", temp_4-temp_3)\n",
    "\n",
    "print(\"3-Construindo simulação quântica...\")\n",
    "results_min, results_max, results_median = classica.sample_min_max_median(n=\n",
    "                                                                          0)\n",
    "quantum = Qt(classica.name, model = model)\n",
    "quantum.elements_to_qt(results_min, results_max, results_median)\n",
    "temp_5 = perf_counter()\n",
    "print(\"Simulação construida com sucesso!\")\n",
    "print(\"Tempo:\", temp_5-temp_4)\n",
    "print(\"Tempo Total:\", temp_5-temp_0)"
   ]
  },
  {
   "cell_type": "code",
   "execution_count": 2,
   "id": "36c2cf69-b4b7-4dc9-bb5b-163069d9608b",
   "metadata": {},
   "outputs": [
    {
     "data": {
      "text/plain": [
       "[(1.5, 1.5, 0.0, 0.0, 5.0)]"
      ]
     },
     "execution_count": 2,
     "metadata": {},
     "output_type": "execute_result"
    }
   ],
   "source": [
    "#Cálculo de quantos circuitos terá!\n",
    "#Para cada tempo, temos 3 medidas.\n",
    "#Se temos 20 tempos, 3 medidas para cada tempo e 3 ponto de dados.\n",
    "#Isso nos dá um total de 3x20x3 = \n",
    "len(results_min[1].elementos_iter)\n",
    "results_median[1].elementos_iter"
   ]
  },
  {
   "cell_type": "code",
   "execution_count": 3,
   "id": "908eda1a-7023-4ce5-af0d-8958c8af24ac",
   "metadata": {},
   "outputs": [],
   "source": [
    "circs = [item for sublist in quantum for item in sublist]"
   ]
  },
  {
   "cell_type": "code",
   "execution_count": 5,
   "id": "fbe4ec83-b936-4eed-ae10-b963031daf95",
   "metadata": {},
   "outputs": [
    {
     "data": {
      "text/plain": [
       "<seaborn.axisgrid.FacetGrid at 0x7f17300f8370>"
      ]
     },
     "execution_count": 5,
     "metadata": {},
     "output_type": "execute_result"
    },
    {
     "data": {
      "image/png": "[encoded data removed]",
      "text/plain": [
       "<Figure size 360x360 with 1 Axes>"
      ]
     },
     "metadata": {
      "needs_background": "light"
     },
     "output_type": "display_data"
    }
   ],
   "source": [
    "import numpy as np\n",
    "import matplotlib.pyplot as plt\n",
    "import seaborn as sns\n",
    "import pandas as pd\n",
    "import matplotlib as mpl\n",
    "plt.style.use('_mpl-gallery')\n",
    "mpl.rcParams['axes.titlepad'] = 20\n",
    "mpl.rcParams['font.size'] = 15\n",
    "mpl.rcParams['text.usetex'] = True\n",
    "#mpl.rcParams['figure.figsize'] = 10.0,\n",
    "#mpl.rcParams['axes.titlesize'] = 15\n",
    "def get_reg_line(x,m, b): \n",
    "    return [m_*x_+b for m_, x_ in zip(m,x)]\n",
    "x = np.random.rand(20)\n",
    "y = np.random.rand(20)\n",
    "#ax.scatter(x, y)\n",
    "#ax.plot(x,poly(x))\n",
    "#ax.set(xlabel='Medidas Performadas', ylabel='Média do Erro ao Quadrado',\n",
    "#       title='Erro ao quadrado X Medidas Performadas:%s'%\"teste maroto numero 100000\")\n",
    "#ax.grid()\n",
    "#plt.show()\n",
    "dt = pd.DataFrame([], columns = [\"x\", \"y\"])\n",
    "dt[\"x\"] = x\n",
    "dt[\"y\"] = y\n",
    "\n",
    "ax = sns.lmplot(x=\"x\", y=\"y\", data=dt,order=10, ci=None, scatter_kws={\"s\": 80})\n",
    "\n",
    "ax.set(xlabel='Medidas Performadas', ylabel='Média do Erro ao Quadrado',\n",
    "       title='Erro conforme medidas performadas:')\n",
    "#mpl.rcParams['figure.figsize'] = [10.0, 8.0]\n"
   ]
  },
  {
   "cell_type": "code",
   "execution_count": null,
   "id": "238c20ed-f74c-43d7-beed-45a5305ae212",
   "metadata": {},
   "outputs": [],
   "source": [
    "help(sns.lmplot(x=\"x\", y=\"y\", data=dt,order=10, ci=None, scatter_kws={\"s\": 80}))"
   ]
  },
  {
   "cell_type": "code",
   "execution_count": 22,
   "id": "b5a03df2-dbb0-4344-a891-e09ad1cc93ca",
   "metadata": {},
   "outputs": [
    {
     "data": {
      "text/html": [
       "<pre style=\"word-wrap: normal;white-space: pre;background: #fff0;line-height: 1.1;font-family: &quot;Courier New&quot;,Courier,monospace\">     ┌───┐ ░              ░  ░ ┌──────────┐ ░  ░             ░  ░              »\n",
       "q_0: ┤ H ├─░──────────────░──░─┤ Rz(30.0) ├─░──░──■──────────░──░──────────────»\n",
       "     ├───┤ ░ ┌──────────┐ ░  ░ └──────────┘ ░  ░  │ZZ(50.0)  ░  ░ ┌───────────┐»\n",
       "q_1: ┤ H ├─░─┤ Rz(30.0) ├─░──░──────────────░──░──■──────────░──░─┤ Rz(-50.0) ├»\n",
       "     └───┘ ░ └──────────┘ ░  ░              ░  ░             ░  ░ └───────────┘»\n",
       "c: 2/══════════════════════════════════════════════════════════════════════════»\n",
       "                                                                               »\n",
       "«      ░  ░ ┌───────────┐ ░  ░ ┌─┐   \n",
       "«q_0: ─░──░─┤ Rz(-50.0) ├─░──░─┤M├───\n",
       "«      ░  ░ └───────────┘ ░  ░ └╥┘┌─┐\n",
       "«q_1: ─░──░───────────────░──░──╫─┤M├\n",
       "«      ░  ░               ░  ░  ║ └╥┘\n",
       "«c: 2/══════════════════════════╩══╩═\n",
       "«                               0  1 </pre>"
      ],
      "text/plain": [
       "     ┌───┐ ░              ░  ░ ┌──────────┐ ░  ░             ░  ░              »\n",
       "q_0: ┤ H ├─░──────────────░──░─┤ Rz(30.0) ├─░──░──■──────────░──░──────────────»\n",
       "     ├───┤ ░ ┌──────────┐ ░  ░ └──────────┘ ░  ░  │ZZ(50.0)  ░  ░ ┌───────────┐»\n",
       "q_1: ┤ H ├─░─┤ Rz(30.0) ├─░──░──────────────░──░──■──────────░──░─┤ Rz(-50.0) ├»\n",
       "     └───┘ ░ └──────────┘ ░  ░              ░  ░             ░  ░ └───────────┘»\n",
       "c: 2/══════════════════════════════════════════════════════════════════════════»\n",
       "                                                                               »\n",
       "«      ░  ░ ┌───────────┐ ░  ░ ┌─┐   \n",
       "«q_0: ─░──░─┤ Rz(-50.0) ├─░──░─┤M├───\n",
       "«      ░  ░ └───────────┘ ░  ░ └╥┘┌─┐\n",
       "«q_1: ─░──░───────────────░──░──╫─┤M├\n",
       "«      ░  ░               ░  ░  ║ └╥┘\n",
       "«c: 2/══════════════════════════╩══╩═\n",
       "«                               0  1 "
      ]
     },
     "execution_count": 22,
     "metadata": {},
     "output_type": "execute_result"
    }
   ],
   "source": [
    "quantum[2579].draw()"
   ]
  },
  {
   "cell_type": "code",
   "execution_count": 3,
   "id": "75f2ad0d-d97d-44a5-bf79-390181ec9ab9",
   "metadata": {},
   "outputs": [
    {
     "data": {
      "text/plain": [
       "0.0"
      ]
     },
     "execution_count": 3,
     "metadata": {},
     "output_type": "execute_result"
    }
   ],
   "source": [
    "0/2"
   ]
  },
  {
   "cell_type": "code",
   "execution_count": 8,
   "id": "a9cb0774-85c8-417e-8ab4-bd2ffef73b04",
   "metadata": {},
   "outputs": [],
   "source": [
    "import numpy as np\n",
    "import pandas as pd\n",
    "from qiskit.providers.ibmq import least_busy\n",
    "from math import pi\n",
    "from qiskit import IBMQ,transpile, execute\n",
    "from qiskit.quantum_info.operators import Operator\n",
    "from qiskit.circuit import QuantumCircuit, Parameter\n",
    "from qiskit.providers.ibmq.managed import IBMQJobManager\n",
    "from qiskit.providers import JobStatus, JobError\n"
   ]
  },
  {
   "cell_type": "code",
   "execution_count": 9,
   "id": "a83ae2ea-c900-42c0-b30f-7fe4885bd0f6",
   "metadata": {},
   "outputs": [],
   "source": [
    "#Seleciona dentre os backends pequenos o que estiver mais desocupado.\n",
    "def get_quantum_backend():\n",
    "    provider = IBMQ.get_provider(hub='ibm-q')\n",
    "    small_devices = provider.backends(filters=lambda x: x.configuration().n_qubits == 5\n",
    "                                      and not x.configuration().simulator)\n",
    "    backend = least_busy(small_devices)\n",
    "    return backend"
   ]
  },
  {
   "cell_type": "code",
   "execution_count": null,
   "id": "dcfb5465-3bc5-4798-8f5b-b955d9ab6e34",
   "metadata": {},
   "outputs": [],
   "source": [
    "quantum"
   ]
  },
  {
   "cell_type": "code",
   "execution_count": 70,
   "id": "eae3cb4f-2478-41f9-9610-efc56df79e13",
   "metadata": {},
   "outputs": [],
   "source": [
    "backend=get_quantum_backend()\n",
    "# Use Job Manager to break the circuits into multiple jobs.\n",
    "job_manager = IBMQJobManager()\n",
    "transpilado = transpile(quantum, backend=backend)\n",
    "job_set_DPQ = job_manager.run(transpilado, backend=backend, name='DPQ', shots = 20000, memory=True)\n",
    "#job = execute(quantum , get_quantum_backend())"
   ]
  },
  {
   "cell_type": "code",
   "execution_count": 40,
   "id": "9da8844c-1fc7-4162-b2cd-9d0a08c596ef",
   "metadata": {},
   "outputs": [],
   "source": [
    "#Espera até que o circuito seja executado\n",
    "while(all(jb != JobStatus.Done or JobStatus.Error for jb in job_set_DPQ.statuses())):\n",
    "    try:\n",
    "        job_status = job_set_DPQ.statuses()  # Query the backend server for job status.\n",
    "        if any(job_status) is (JobStatus.RUNNING):\n",
    "            print(\"The job is still running\")\n",
    "    except IBMQJobApiError as ex:\n",
    "        print(\"Something wrong happened!: {}\".format(ex))"
   ]
  },
  {
   "cell_type": "code",
   "execution_count": 102,
   "id": "d21154d4-0923-4d4f-9f64-55f9f0437cf8",
   "metadata": {},
   "outputs": [
    {
     "name": "stdout",
     "output_type": "stream",
     "text": [
      "[<JobStatus.DONE: 'job has successfully run'>, <JobStatus.DONE: 'job has successfully run'>]\n"
     ]
    }
   ],
   "source": [
    "print(job_set_DPQ.statuses())"
   ]
  },
  {
   "cell_type": "code",
   "execution_count": 87,
   "id": "cac8c9fb-56a7-4336-8cc9-a812c6b09da0",
   "metadata": {},
   "outputs": [],
   "source": [
    "results = job_set_DPQ.results()"
   ]
  },
  {
   "cell_type": "code",
   "execution_count": 159,
   "id": "d1aa9a5d-d3aa-4a8e-9bb0-52c31c6593af",
   "metadata": {},
   "outputs": [],
   "source": [
    "import pandas as pd\n",
    "import numpy as np\n",
    "from collections import Counter\n",
    "from itertools import count\n",
    "\n",
    "def get_samples(list,n):\n",
    "    return list[:n]\n",
    "\n",
    "shots = 20000\n",
    "passo_shots = 1000\n",
    "linhas = np.array([results_min[1].elementos_iter,results_max[1].elementos_iter, results_median[1].elementos_iter]).reshape((3,len(results_max[1].elementos_iter[0])))\n",
    "colunas = results_max[1].getNames()\n",
    "index = [\"min\", \"max\", \"median\"]\n",
    "#Combina os resultados dos jobs\n",
    "len_result = len(quantum)\n",
    "result = results.combine_results()\n",
    "df_l = []\n",
    "iterator =(count(start = 1000, step = 1000))\n",
    "for m_n in range(passo_shots, shots+passo_shots, passo_shots):\n",
    "    expec_l = [] \n",
    "    for r_i in range(len(quantum)):\n",
    "        #Lista de medidas para cada circuito\n",
    "        memory = result.get_memory(r_i)\n",
    "        #Para cada memoria do circuito, selecionamos n samples, com n crescendo a cada iteração.\n",
    "        samples = get_samples(memory, m_n)\n",
    "        #Conta as medidas\n",
    "        counts = Counter(samples)\n",
    "        #Captura as expectativas.\n",
    "        # expectation value\n",
    "        expec_l.append((counts['00']+counts['01']-counts['10']-counts['11'])/shots)\n",
    "        expec_l.append((counts['00']+counts['10']-counts['01']-counts['11'])/shots)\n",
    "    expec_a = np.array(expec_l).reshape((3,len(results_max[1].arrayT)*6))\n",
    "    expec_a = np.hstack((linhas,expec_a))\n",
    "    df_l.append(pd.DataFrame(expec_a, index=index, columns = colunas))\n",
    "\n",
    "        \n",
    "            \n",
    "#for result in results:\n",
    "#    print(result)"
   ]
  },
  {
   "cell_type": "code",
   "execution_count": 161,
   "id": "4e6cf8dd-783f-4917-bff7-beb7fa4e4f04",
   "metadata": {},
   "outputs": [
    {
     "data": {
      "text/plain": [
       "20"
      ]
     },
     "execution_count": 161,
     "metadata": {},
     "output_type": "execute_result"
    }
   ],
   "source": [
    "len(df_l)"
   ]
  },
  {
   "cell_type": "code",
   "execution_count": 136,
   "id": "7f426f27-13bf-4796-a8ab-6b7aec0d2f20",
   "metadata": {},
   "outputs": [
    {
     "data": {
      "text/plain": [
       "5"
      ]
     },
     "execution_count": 136,
     "metadata": {},
     "output_type": "execute_result"
    }
   ],
   "source": [
    "len(results_max[1].elementos_iter[0])"
   ]
  },
  {
   "cell_type": "code",
   "execution_count": null,
   "id": "23891538-a8ef-4c7c-b514-ff860c72c9e8",
   "metadata": {},
   "outputs": [],
   "source": [
    "df_l"
   ]
  },
  {
   "cell_type": "code",
   "execution_count": null,
   "id": "986d5209-ae1f-4b0d-a637-0bb97b59a677",
   "metadata": {},
   "outputs": [],
   "source": [
    "from graphics import *\n",
    "import matplotlib.pyplot as plt\n",
    "import numpy as np\n",
    "from sklearn.metrics import mean_absolute_error, mean_squared_error, r2_score\n",
    "\n",
    "def make_report(name, X_train, y_real, y_pred):\n",
    "    y_real = [y_real]\n",
    "    relative_error_1 = 0\n",
    "    relative_error_2 = 0\n",
    "    mae = mean_absolute_error(y_real, y_pred)\n",
    "    mse = mean_squared_error(y_real, y_pred)\n",
    "    r2 = r2_score(y_real,y_pred)\n",
    "\n",
    "    for y_p, y_t in zip(y_pred, y_real):\n",
    "        relative_error_1 += np.abs(1-y_p)/y_t\n",
    "        relative_error_2 += np.abs((y_t-y_p)/y_t)\n",
    "\n",
    "    #Font\n",
    "    #self.pdf.set_font(\"Times\", 'B', 15)\n",
    "    #Title\n",
    "    #self.pdf.cell(15,15, name,1,0, 'L')\n",
    "    #Line break\n",
    "    #self.pdf.ln(2)\n",
    "    #self.pdf.set_font(\"Times\", 'B', 13)\n",
    "\n",
    "    #String com os resultados\n",
    "    rst_string = ''.join([name, \"\\nMédia do erro absoluto: %f \\nMédia quadrada do erro: %f \\nR2: %f\\nrelative_error_1(np.abs(1-y_p)/y_t): %f \\nrelative_error_2(np.abs((y_t-y_p)/y_t)): %f\\n\" % (mae, mse, r2, relative_error_1, relative_error_2)])       \n",
    "    #self.pdf.cell(20,15,rst_string,1)\n",
    "    print(\"\\nRESULTADOS:\", rst_string)\n",
    "    #Graficos\n",
    "    plotGraph(y_real, y_pred, \"Extra Trees Regressor \"+name,\"teste\", mae=mae, mse=mse, r2=r2)\n",
    "    gen_acc_measures(pd.DataFrame(X_train),y_real, \"teste\")\n",
    "\n",
    "    return [mae, mse, r2]\n",
    "\n",
    "def quantum_report(mse, name):\n",
    "        passo_shots = 1000\n",
    "        shots = 20000\n",
    "        #Recebe a lista de 20 mse\n",
    "        x = range(passo_shots, shots+passo_shots, passo_shots)\n",
    "        #Plotar o grafico do erro x measures. cada mse corresponde a measures usadas para calcular o resultado, aumentando de mil em mil.\n",
    "        import matplotlib.pyplot as plt\n",
    "        import numpy as np\n",
    "\n",
    "        fig, ax = plt.subplots()\n",
    "        ax.plot(x, mse)\n",
    "\n",
    "        ax.set(xlabel='Medidas Performadas', ylabel='Média do Erro ao Quadrado',\n",
    "               title='Erro ao quadrado X Medidas Performadas:%s'%name)\n",
    "        ax.grid()\n",
    "\n",
    "        #fig.savefig(\"experimentos-%s.png\"%name)\n",
    "        plt.show()\n",
    "        return\n",
    "    \n",
    "def apply_quantum_data(df_l):\n",
    "    name_rows = [\"min\", \"max\", \"median\"]\n",
    "    mse_overall = []\n",
    "    for name in name_rows:\n",
    "        mse = []\n",
    "        for df in df_l:\n",
    "            X = df.loc[name][5:]\n",
    "            y = df.loc[name][4]\n",
    "            y_pred = model.model.predict(np.array(X).reshape(1, 120))\n",
    "            mse.append(make_report(name, X, y, y_pred)[1])\n",
    "        mse_all.append(mse)\n",
    "        quantum_report(mse, name)\n",
    "    mse_total = np.zeros(len(mse_all[0]))\n",
    "    for mse_ in mse_all:\n",
    "        mse_total = np.array(mse_)+ mse_total\n",
    "    quantum_report(mse_total, \"Minimos, Maximos e mediana\")\n",
    "    return \n",
    "\n",
    "apply_quantum_data(df_l)     "
   ]
  },
  {
   "cell_type": "code",
   "execution_count": 3,
   "id": "b7053d93-79c8-4a4c-a6ab-d70e501220a8",
   "metadata": {},
   "outputs": [
    {
     "data": {
      "text/plain": [
       "KeysView(RcParams({'_internal.classic_mode': False,\n",
       "          'agg.path.chunksize': 0,\n",
       "          'animation.bitrate': -1,\n",
       "          'animation.codec': 'h264',\n",
       "          'animation.convert_args': [],\n",
       "          'animation.convert_path': 'convert',\n",
       "          'animation.embed_limit': 20.0,\n",
       "          'animation.ffmpeg_args': [],\n",
       "          'animation.ffmpeg_path': 'ffmpeg',\n",
       "          'animation.frame_format': 'png',\n",
       "          'animation.html': 'none',\n",
       "          'animation.writer': 'ffmpeg',\n",
       "          'axes.autolimit_mode': 'data',\n",
       "          'axes.axisbelow': True,\n",
       "          'axes.edgecolor': 'black',\n",
       "          'axes.facecolor': 'white',\n",
       "          'axes.formatter.limits': [-5, 6],\n",
       "          'axes.formatter.min_exponent': 0,\n",
       "          'axes.formatter.offset_threshold': 4,\n",
       "          'axes.formatter.use_locale': False,\n",
       "          'axes.formatter.use_mathtext': False,\n",
       "          'axes.formatter.useoffset': True,\n",
       "          'axes.grid': True,\n",
       "          'axes.grid.axis': 'both',\n",
       "          'axes.grid.which': 'major',\n",
       "          'axes.labelcolor': 'black',\n",
       "          'axes.labelpad': 4.0,\n",
       "          'axes.labelsize': 'medium',\n",
       "          'axes.labelweight': 'normal',\n",
       "          'axes.linewidth': 0.8,\n",
       "          'axes.prop_cycle': cycler('color', ['#1f77b4', '#ff7f0e', '#2ca02c', '#d62728', '#9467bd', '#8c564b', '#e377c2', '#7f7f7f', '#bcbd22', '#17becf']),\n",
       "          'axes.spines.bottom': True,\n",
       "          'axes.spines.left': True,\n",
       "          'axes.spines.right': True,\n",
       "          'axes.spines.top': True,\n",
       "          'axes.titlecolor': 'auto',\n",
       "          'axes.titlelocation': 'center',\n",
       "          'axes.titlepad': 20.0,\n",
       "          'axes.titlesize': 'large',\n",
       "          'axes.titleweight': 'normal',\n",
       "          'axes.titley': None,\n",
       "          'axes.unicode_minus': True,\n",
       "          'axes.xmargin': 0.05,\n",
       "          'axes.ymargin': 0.05,\n",
       "          'axes.zmargin': 0.05,\n",
       "          'axes3d.grid': True,\n",
       "          'backend': 'module://matplotlib_inline.backend_inline',\n",
       "          'backend_fallback': True,\n",
       "          'boxplot.bootstrap': None,\n",
       "          'boxplot.boxprops.color': 'black',\n",
       "          'boxplot.boxprops.linestyle': '-',\n",
       "          'boxplot.boxprops.linewidth': 1.0,\n",
       "          'boxplot.capprops.color': 'black',\n",
       "          'boxplot.capprops.linestyle': '-',\n",
       "          'boxplot.capprops.linewidth': 1.0,\n",
       "          'boxplot.flierprops.color': 'black',\n",
       "          'boxplot.flierprops.linestyle': 'none',\n",
       "          'boxplot.flierprops.linewidth': 1.0,\n",
       "          'boxplot.flierprops.marker': 'o',\n",
       "          'boxplot.flierprops.markeredgecolor': 'black',\n",
       "          'boxplot.flierprops.markeredgewidth': 1.0,\n",
       "          'boxplot.flierprops.markerfacecolor': 'none',\n",
       "          'boxplot.flierprops.markersize': 6.0,\n",
       "          'boxplot.meanline': False,\n",
       "          'boxplot.meanprops.color': 'C2',\n",
       "          'boxplot.meanprops.linestyle': '--',\n",
       "          'boxplot.meanprops.linewidth': 1.0,\n",
       "          'boxplot.meanprops.marker': '^',\n",
       "          'boxplot.meanprops.markeredgecolor': 'C2',\n",
       "          'boxplot.meanprops.markerfacecolor': 'C2',\n",
       "          'boxplot.meanprops.markersize': 6.0,\n",
       "          'boxplot.medianprops.color': 'C1',\n",
       "          'boxplot.medianprops.linestyle': '-',\n",
       "          'boxplot.medianprops.linewidth': 1.0,\n",
       "          'boxplot.notch': False,\n",
       "          'boxplot.patchartist': False,\n",
       "          'boxplot.showbox': True,\n",
       "          'boxplot.showcaps': True,\n",
       "          'boxplot.showfliers': True,\n",
       "          'boxplot.showmeans': False,\n",
       "          'boxplot.vertical': True,\n",
       "          'boxplot.whiskerprops.color': 'black',\n",
       "          'boxplot.whiskerprops.linestyle': '-',\n",
       "          'boxplot.whiskerprops.linewidth': 1.0,\n",
       "          'boxplot.whiskers': 1.5,\n",
       "          'contour.corner_mask': True,\n",
       "          'contour.linewidth': None,\n",
       "          'contour.negative_linestyle': 'dashed',\n",
       "          'date.autoformatter.day': '%Y-%m-%d',\n",
       "          'date.autoformatter.hour': '%m-%d %H',\n",
       "          'date.autoformatter.microsecond': '%M:%S.%f',\n",
       "          'date.autoformatter.minute': '%d %H:%M',\n",
       "          'date.autoformatter.month': '%Y-%m',\n",
       "          'date.autoformatter.second': '%H:%M:%S',\n",
       "          'date.autoformatter.year': '%Y',\n",
       "          'date.converter': 'auto',\n",
       "          'date.epoch': '1970-01-01T00:00:00',\n",
       "          'date.interval_multiples': True,\n",
       "          'docstring.hardcopy': False,\n",
       "          'errorbar.capsize': 0.0,\n",
       "          'figure.autolayout': False,\n",
       "          'figure.constrained_layout.h_pad': 0.04167,\n",
       "          'figure.constrained_layout.hspace': 0.02,\n",
       "          'figure.constrained_layout.use': False,\n",
       "          'figure.constrained_layout.w_pad': 0.04167,\n",
       "          'figure.constrained_layout.wspace': 0.02,\n",
       "          'figure.dpi': 72.0,\n",
       "          'figure.edgecolor': (1, 1, 1, 0),\n",
       "          'figure.facecolor': (1, 1, 1, 0),\n",
       "          'figure.figsize': [2.0, 2.0],\n",
       "          'figure.frameon': True,\n",
       "          'figure.max_open_warning': 20,\n",
       "          'figure.raise_window': True,\n",
       "          'figure.subplot.bottom': 0.01,\n",
       "          'figure.subplot.hspace': 0.2,\n",
       "          'figure.subplot.left': 0.01,\n",
       "          'figure.subplot.right': 0.99,\n",
       "          'figure.subplot.top': 0.99,\n",
       "          'figure.subplot.wspace': 0.2,\n",
       "          'figure.titlesize': 'large',\n",
       "          'figure.titleweight': 'normal',\n",
       "          'font.cursive': ['Apple Chancery',\n",
       "                           'Textile',\n",
       "                           'Zapf Chancery',\n",
       "                           'Sand',\n",
       "                           'Script MT',\n",
       "                           'Felipa',\n",
       "                           'Comic Neue',\n",
       "                           'Comic Sans MS',\n",
       "                           'cursive'],\n",
       "          'font.family': ['sans-serif'],\n",
       "          'font.fantasy': ['Chicago',\n",
       "                           'Charcoal',\n",
       "                           'Impact',\n",
       "                           'Western',\n",
       "                           'Humor Sans',\n",
       "                           'xkcd',\n",
       "                           'fantasy'],\n",
       "          'font.monospace': ['DejaVu Sans Mono',\n",
       "                             'Bitstream Vera Sans Mono',\n",
       "                             'Computer Modern Typewriter',\n",
       "                             'Andale Mono',\n",
       "                             'Nimbus Mono L',\n",
       "                             'Courier New',\n",
       "                             'Courier',\n",
       "                             'Fixed',\n",
       "                             'Terminal',\n",
       "                             'monospace'],\n",
       "          'font.sans-serif': ['DejaVu Sans',\n",
       "                              'Bitstream Vera Sans',\n",
       "                              'Computer Modern Sans Serif',\n",
       "                              'Lucida Grande',\n",
       "                              'Verdana',\n",
       "                              'Geneva',\n",
       "                              'Lucid',\n",
       "                              'Arial',\n",
       "                              'Helvetica',\n",
       "                              'Avant Garde',\n",
       "                              'sans-serif'],\n",
       "          'font.serif': ['DejaVu Serif',\n",
       "                         'Bitstream Vera Serif',\n",
       "                         'Computer Modern Roman',\n",
       "                         'New Century Schoolbook',\n",
       "                         'Century Schoolbook L',\n",
       "                         'Utopia',\n",
       "                         'ITC Bookman',\n",
       "                         'Bookman',\n",
       "                         'Nimbus Roman No9 L',\n",
       "                         'Times New Roman',\n",
       "                         'Times',\n",
       "                         'Palatino',\n",
       "                         'Charter',\n",
       "                         'serif'],\n",
       "          'font.size': 15.0,\n",
       "          'font.stretch': 'normal',\n",
       "          'font.style': 'normal',\n",
       "          'font.variant': 'normal',\n",
       "          'font.weight': 'normal',\n",
       "          'grid.alpha': 1.0,\n",
       "          'grid.color': '#b0b0b0',\n",
       "          'grid.linestyle': '-',\n",
       "          'grid.linewidth': 0.8,\n",
       "          'hatch.color': 'black',\n",
       "          'hatch.linewidth': 1.0,\n",
       "          'hist.bins': 10,\n",
       "          'image.aspect': 'equal',\n",
       "          'image.cmap': 'Blues',\n",
       "          'image.composite_image': True,\n",
       "          'image.interpolation': 'antialiased',\n",
       "          'image.lut': 256,\n",
       "          'image.origin': 'upper',\n",
       "          'image.resample': True,\n",
       "          'interactive': True,\n",
       "          'keymap.back': ['left', 'c', 'backspace', 'MouseButton.BACK'],\n",
       "          'keymap.copy': ['ctrl+c', 'cmd+c'],\n",
       "          'keymap.forward': ['right', 'v', 'MouseButton.FORWARD'],\n",
       "          'keymap.fullscreen': ['f', 'ctrl+f'],\n",
       "          'keymap.grid': ['g'],\n",
       "          'keymap.grid_minor': ['G'],\n",
       "          'keymap.help': ['f1'],\n",
       "          'keymap.home': ['h', 'r', 'home'],\n",
       "          'keymap.pan': ['p'],\n",
       "          'keymap.quit': ['ctrl+w', 'cmd+w', 'q'],\n",
       "          'keymap.quit_all': [],\n",
       "          'keymap.save': ['s', 'ctrl+s'],\n",
       "          'keymap.xscale': ['k', 'L'],\n",
       "          'keymap.yscale': ['l'],\n",
       "          'keymap.zoom': ['o'],\n",
       "          'legend.borderaxespad': 0.5,\n",
       "          'legend.borderpad': 0.4,\n",
       "          'legend.columnspacing': 2.0,\n",
       "          'legend.edgecolor': '0.8',\n",
       "          'legend.facecolor': 'inherit',\n",
       "          'legend.fancybox': True,\n",
       "          'legend.fontsize': 'medium',\n",
       "          'legend.framealpha': 0.8,\n",
       "          'legend.frameon': True,\n",
       "          'legend.handleheight': 0.7,\n",
       "          'legend.handlelength': 2.0,\n",
       "          'legend.handletextpad': 0.8,\n",
       "          'legend.labelcolor': 'None',\n",
       "          'legend.labelspacing': 0.5,\n",
       "          'legend.loc': 'best',\n",
       "          'legend.markerscale': 1.0,\n",
       "          'legend.numpoints': 1,\n",
       "          'legend.scatterpoints': 1,\n",
       "          'legend.shadow': False,\n",
       "          'legend.title_fontsize': None,\n",
       "          'lines.antialiased': True,\n",
       "          'lines.color': 'C0',\n",
       "          'lines.dash_capstyle': <CapStyle.butt: 'butt'>,\n",
       "          'lines.dash_joinstyle': <JoinStyle.round: 'round'>,\n",
       "          'lines.dashdot_pattern': [6.4, 1.6, 1.0, 1.6],\n",
       "          'lines.dashed_pattern': [3.7, 1.6],\n",
       "          'lines.dotted_pattern': [1.0, 1.65],\n",
       "          'lines.linestyle': '-',\n",
       "          'lines.linewidth': 1.5,\n",
       "          'lines.marker': 'None',\n",
       "          'lines.markeredgecolor': 'auto',\n",
       "          'lines.markeredgewidth': 1.0,\n",
       "          'lines.markerfacecolor': 'auto',\n",
       "          'lines.markersize': 6.0,\n",
       "          'lines.scale_dashes': True,\n",
       "          'lines.solid_capstyle': <CapStyle.projecting: 'projecting'>,\n",
       "          'lines.solid_joinstyle': <JoinStyle.round: 'round'>,\n",
       "          'markers.fillstyle': 'full',\n",
       "          'mathtext.bf': 'sans:bold',\n",
       "          'mathtext.cal': 'cursive',\n",
       "          'mathtext.default': 'it',\n",
       "          'mathtext.fallback': 'cm',\n",
       "          'mathtext.fontset': 'dejavusans',\n",
       "          'mathtext.it': 'sans:italic',\n",
       "          'mathtext.rm': 'sans',\n",
       "          'mathtext.sf': 'sans',\n",
       "          'mathtext.tt': 'monospace',\n",
       "          'patch.antialiased': True,\n",
       "          'patch.edgecolor': 'black',\n",
       "          'patch.facecolor': 'C0',\n",
       "          'patch.force_edgecolor': False,\n",
       "          'patch.linewidth': 1.0,\n",
       "          'path.effects': [],\n",
       "          'path.simplify': True,\n",
       "          'path.simplify_threshold': 0.111111111111,\n",
       "          'path.sketch': None,\n",
       "          'path.snap': True,\n",
       "          'pcolor.shading': 'auto',\n",
       "          'pcolormesh.snap': True,\n",
       "          'pdf.compression': 6,\n",
       "          'pdf.fonttype': 3,\n",
       "          'pdf.inheritcolor': False,\n",
       "          'pdf.use14corefonts': False,\n",
       "          'pgf.preamble': '',\n",
       "          'pgf.rcfonts': True,\n",
       "          'pgf.texsystem': 'xelatex',\n",
       "          'polaraxes.grid': True,\n",
       "          'ps.distiller.res': 6000,\n",
       "          'ps.fonttype': 3,\n",
       "          'ps.papersize': 'letter',\n",
       "          'ps.useafm': False,\n",
       "          'ps.usedistiller': None,\n",
       "          'savefig.bbox': None,\n",
       "          'savefig.directory': '~',\n",
       "          'savefig.dpi': 'figure',\n",
       "          'savefig.edgecolor': 'auto',\n",
       "          'savefig.facecolor': 'auto',\n",
       "          'savefig.format': 'png',\n",
       "          'savefig.orientation': 'portrait',\n",
       "          'savefig.pad_inches': 0.1,\n",
       "          'savefig.transparent': False,\n",
       "          'scatter.edgecolors': 'face',\n",
       "          'scatter.marker': 'o',\n",
       "          'svg.fonttype': 'path',\n",
       "          'svg.hashsalt': None,\n",
       "          'svg.image_inline': True,\n",
       "          'text.antialiased': True,\n",
       "          'text.color': 'black',\n",
       "          'text.hinting': 'force_autohint',\n",
       "          'text.hinting_factor': 8,\n",
       "          'text.kerning_factor': 0,\n",
       "          'text.latex.preamble': '',\n",
       "          'text.usetex': True,\n",
       "          'timezone': 'UTC',\n",
       "          'tk.window_focus': False,\n",
       "          'toolbar': 'toolbar2',\n",
       "          'webagg.address': '127.0.0.1',\n",
       "          'webagg.open_in_browser': True,\n",
       "          'webagg.port': 8988,\n",
       "          'webagg.port_retries': 50,\n",
       "          'xaxis.labellocation': 'center',\n",
       "          'xtick.alignment': 'center',\n",
       "          'xtick.bottom': True,\n",
       "          'xtick.color': 'black',\n",
       "          'xtick.direction': 'out',\n",
       "          'xtick.labelbottom': True,\n",
       "          'xtick.labelcolor': 'inherit',\n",
       "          'xtick.labelsize': 'medium',\n",
       "          'xtick.labeltop': False,\n",
       "          'xtick.major.bottom': True,\n",
       "          'xtick.major.pad': 3.5,\n",
       "          'xtick.major.size': 0.0,\n",
       "          'xtick.major.top': True,\n",
       "          'xtick.major.width': 0.8,\n",
       "          'xtick.minor.bottom': True,\n",
       "          'xtick.minor.pad': 3.4,\n",
       "          'xtick.minor.size': 2.0,\n",
       "          'xtick.minor.top': True,\n",
       "          'xtick.minor.visible': False,\n",
       "          'xtick.minor.width': 0.6,\n",
       "          'xtick.top': False,\n",
       "          'yaxis.labellocation': 'center',\n",
       "          'ytick.alignment': 'center_baseline',\n",
       "          'ytick.color': 'black',\n",
       "          'ytick.direction': 'out',\n",
       "          'ytick.labelcolor': 'inherit',\n",
       "          'ytick.labelleft': True,\n",
       "          'ytick.labelright': False,\n",
       "          'ytick.labelsize': 'medium',\n",
       "          'ytick.left': True,\n",
       "          'ytick.major.left': True,\n",
       "          'ytick.major.pad': 3.5,\n",
       "          'ytick.major.right': True,\n",
       "          'ytick.major.size': 0.0,\n",
       "          'ytick.major.width': 0.8,\n",
       "          'ytick.minor.left': True,\n",
       "          'ytick.minor.pad': 3.4,\n",
       "          'ytick.minor.right': True,\n",
       "          'ytick.minor.size': 2.0,\n",
       "          'ytick.minor.visible': False,\n",
       "          'ytick.minor.width': 0.6,\n",
       "          'ytick.right': False}))"
      ]
     },
     "execution_count": 3,
     "metadata": {},
     "output_type": "execute_result"
    }
   ],
   "source": [
    "mpl.rcParams.keys()"
   ]
  },
  {
   "cell_type": "code",
   "execution_count": 176,
   "id": "eb52edbb-46a7-43c0-98eb-85e6c9a18a0c",
   "metadata": {},
   "outputs": [
    {
     "data": {
      "text/plain": [
       "0.0314"
      ]
     },
     "execution_count": 176,
     "metadata": {},
     "output_type": "execute_result"
    }
   ],
   "source": [
    "df_l[0].loc['min'][5]"
   ]
  },
  {
   "cell_type": "code",
   "execution_count": 187,
   "id": "67c43f31-2f0f-466e-bb57-567f1e42a087",
   "metadata": {},
   "outputs": [
    {
     "data": {
      "text/plain": [
       "1.0"
      ]
     },
     "execution_count": 187,
     "metadata": {},
     "output_type": "execute_result"
    }
   ],
   "source": [
    "y_true = [ 1]\n",
    "y_pred = [ 2]\n",
    "mean_squared_error(y_true, y_pred)"
   ]
  },
  {
   "cell_type": "code",
   "execution_count": 2,
   "id": "b58ca80a-bb56-4f9c-803c-0db986a37601",
   "metadata": {},
   "outputs": [],
   "source": [
    "def t():\n",
    "    return 1,2\n",
    "a = t()\n"
   ]
  },
  {
   "cell_type": "code",
   "execution_count": 4,
   "id": "35834e95-be45-4f7c-9600-8fb72513f08d",
   "metadata": {},
   "outputs": [
    {
     "data": {
      "text/plain": [
       "2"
      ]
     },
     "execution_count": 4,
     "metadata": {},
     "output_type": "execute_result"
    }
   ],
   "source": [
    "len(a)"
   ]
  },
  {
   "cell_type": "code",
   "execution_count": 7,
   "id": "0c081023-9472-4842-a345-21ddabecb816",
   "metadata": {},
   "outputs": [
    {
     "data": {
      "text/plain": [
       "2"
      ]
     },
     "execution_count": 7,
     "metadata": {},
     "output_type": "execute_result"
    }
   ],
   "source": [
    "d"
   ]
  },
  {
   "cell_type": "code",
   "execution_count": 6,
   "id": "f943440f-7dd6-44e9-aa65-56b3adb9de34",
   "metadata": {},
   "outputs": [
    {
     "name": "stdout",
     "output_type": "stream",
     "text": [
      "0.1\n",
      "1e-22\n",
      "1\n"
     ]
    }
   ],
   "source": [
    "list1 = [0.1,0.0000000000000000000001,0,0,1]\n",
    "for l in list1:\n",
    "    if l != 0:\n",
    "        print(l)"
   ]
  },
  {
   "cell_type": "code",
   "execution_count": null,
   "id": "5e35373e-e924-4abc-9919-882689279561",
   "metadata": {},
   "outputs": [],
   "source": []
  }
 ],
 "metadata": {
  "kernelspec": {
   "display_name": "Python 3 (ipykernel)",
   "language": "python",
   "name": "python3"
  },
  "language_info": {
   "codemirror_mode": {
    "name": "ipython",
    "version": 3
   },
   "file_extension": ".py",
   "mimetype": "text/x-python",
   "name": "python",
   "nbconvert_exporter": "python",
   "pygments_lexer": "ipython3",
   "version": "3.9.9"
  }
 },
 "nbformat": 4,
 "nbformat_minor": 5
}
