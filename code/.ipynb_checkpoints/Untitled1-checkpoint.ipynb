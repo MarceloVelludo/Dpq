{
 "cells": [
  {
   "cell_type": "code",
   "execution_count": 1,
   "id": "e240fec3-8dc6-4dcc-aa63-2d9bdbef9a93",
   "metadata": {},
   "outputs": [
    {
     "name": "stdout",
     "output_type": "stream",
     "text": [
      "\n",
      "0-Inicializando modelo classico...\n",
      "\n",
      "Data frame criado com sucesso!\n",
      "Tempo: 0.0017073559574782848\n",
      "\n",
      "1-Criando data frame...\n",
      "\n",
      "DataFrame processado anteriormente!\n",
      "\n",
      "Data frame criado com sucesso!\n",
      "Tempo: 0.1906540939817205\n",
      "2-Construindo modelo...\n",
      "\n",
      "Modelo treinado anteriormente!\n",
      "Modelo construido com sucesso!\n",
      "Tempo: 0.05965551396366209\n",
      "\n",
      "DataFrame processado anteriormente!\n"
     ]
    },
    {
     "name": "stderr",
     "output_type": "stream",
     "text": [
      "/home/codemaster/Desktop/backup/Dinamica Pontos Quanticos/code/model.py:71: RuntimeWarning: divide by zero encountered in double_scalars\n",
      "  relative_error_1 += np.abs(1-y_p)/y_t\n",
      "/home/codemaster/Desktop/backup/Dinamica Pontos Quanticos/code/model.py:72: RuntimeWarning: invalid value encountered in double_scalars\n",
      "  relative_error_2 += np.abs((y_t-y_p)/y_t)\n"
     ]
    },
    {
     "name": "stdout",
     "output_type": "stream",
     "text": [
      "Gráfico com menos de 150 pontos\n"
     ]
    },
    {
     "name": "stderr",
     "output_type": "stream",
     "text": [
      "/home/codemaster/Desktop/backup/Dinamica Pontos Quanticos/code/model.py:71: RuntimeWarning: divide by zero encountered in double_scalars\n",
      "  relative_error_1 += np.abs(1-y_p)/y_t\n",
      "/home/codemaster/Desktop/backup/Dinamica Pontos Quanticos/code/model.py:72: RuntimeWarning: divide by zero encountered in double_scalars\n",
      "  relative_error_2 += np.abs((y_t-y_p)/y_t)\n",
      "Traceback (most recent call last):\n",
      "  File \"/home/codemaster/Desktop/backup/Dinamica Pontos Quanticos/code/graphics.py\", line 109, in plotGraph_error\n",
      "    y_test, y_pred=zip(*random.sample(list(zip(y_test, y_pred)), 5000))\n",
      "  File \"/home/codemaster/anaconda3/envs/mestrado/lib/python3.9/random.py\", line 449, in sample\n",
      "    raise ValueError(\"Sample larger than population or is negative\")\n",
      "ValueError: Sample larger than population or is negative\n"
     ]
    },
    {
     "name": "stdout",
     "output_type": "stream",
     "text": [
      "Gráfico com menos de 150 pontos\n",
      "<class 'Exception'>\n",
      "Gráfico com menos de 1600 pontos\n",
      "Gráfico com menos de 150 pontos\n"
     ]
    },
    {
     "name": "stderr",
     "output_type": "stream",
     "text": [
      "configrc.store_credentials:WARNING:2022-03-25 23:23:19,041: Credentials already present. Set overwrite=True to overwrite.\n"
     ]
    },
    {
     "name": "stdout",
     "output_type": "stream",
     "text": [
      "Predições realizadas!\n",
      "Tempo: 285.23209497809876\n",
      "3-Construindo simulação quântica...\n",
      "\n",
      "DataFrame processado anteriormente!\n",
      "\n",
      "DataFrame processado anteriormente!\n",
      "\n",
      "DataFrame processado anteriormente!\n",
      "\n",
      "Modelo treinado anteriormente!\n"
     ]
    },
    {
     "name": "stderr",
     "output_type": "stream",
     "text": [
      "/home/codemaster/anaconda3/envs/mestrado/lib/python3.9/site-packages/sklearn/base.py:450: UserWarning: X does not have valid feature names, but ExtraTreesRegressor was fitted with feature names\n",
      "  warnings.warn(\n",
      "/home/codemaster/anaconda3/envs/mestrado/lib/python3.9/site-packages/sklearn/metrics/_regression.py:796: UndefinedMetricWarning: R^2 score is not well-defined with less than two samples.\n",
      "  warnings.warn(msg, UndefinedMetricWarning)\n",
      "/home/codemaster/Desktop/backup/Dinamica Pontos Quanticos/code/model.py:71: RuntimeWarning: divide by zero encountered in double_scalars\n",
      "  relative_error_1 += np.abs(1-y_p)/y_t\n",
      "/home/codemaster/Desktop/backup/Dinamica Pontos Quanticos/code/model.py:72: RuntimeWarning: divide by zero encountered in double_scalars\n",
      "  relative_error_2 += np.abs((y_t-y_p)/y_t)\n",
      "Traceback (most recent call last):\n",
      "  File \"/home/codemaster/Desktop/backup/Dinamica Pontos Quanticos/code/graphics.py\", line 109, in plotGraph_error\n",
      "    y_test, y_pred=zip(*random.sample(list(zip(y_test, y_pred)), 5000))\n",
      "  File \"/home/codemaster/anaconda3/envs/mestrado/lib/python3.9/random.py\", line 449, in sample\n",
      "    raise ValueError(\"Sample larger than population or is negative\")\n",
      "ValueError: Sample larger than population or is negative\n"
     ]
    },
    {
     "name": "stdout",
     "output_type": "stream",
     "text": [
      "Gráfico com menos de 150 pontos\n",
      "<class 'Exception'>\n",
      "Gráfico com menos de 1600 pontos\n"
     ]
    },
    {
     "name": "stderr",
     "output_type": "stream",
     "text": [
      "/home/codemaster/anaconda3/envs/mestrado/lib/python3.9/site-packages/sklearn/base.py:450: UserWarning: X does not have valid feature names, but ExtraTreesRegressor was fitted with feature names\n",
      "  warnings.warn(\n",
      "/home/codemaster/anaconda3/envs/mestrado/lib/python3.9/site-packages/sklearn/metrics/_regression.py:796: UndefinedMetricWarning: R^2 score is not well-defined with less than two samples.\n",
      "  warnings.warn(msg, UndefinedMetricWarning)\n",
      "/home/codemaster/Desktop/backup/Dinamica Pontos Quanticos/code/model.py:71: RuntimeWarning: divide by zero encountered in double_scalars\n",
      "  relative_error_1 += np.abs(1-y_p)/y_t\n",
      "/home/codemaster/Desktop/backup/Dinamica Pontos Quanticos/code/model.py:72: RuntimeWarning: divide by zero encountered in double_scalars\n",
      "  relative_error_2 += np.abs((y_t-y_p)/y_t)\n",
      "Traceback (most recent call last):\n",
      "  File \"/home/codemaster/Desktop/backup/Dinamica Pontos Quanticos/code/graphics.py\", line 109, in plotGraph_error\n",
      "    y_test, y_pred=zip(*random.sample(list(zip(y_test, y_pred)), 5000))\n",
      "  File \"/home/codemaster/anaconda3/envs/mestrado/lib/python3.9/random.py\", line 449, in sample\n",
      "    raise ValueError(\"Sample larger than population or is negative\")\n",
      "ValueError: Sample larger than population or is negative\n"
     ]
    },
    {
     "name": "stdout",
     "output_type": "stream",
     "text": [
      "Gráfico com menos de 150 pontos\n",
      "<class 'Exception'>\n",
      "Gráfico com menos de 1600 pontos\n"
     ]
    },
    {
     "name": "stderr",
     "output_type": "stream",
     "text": [
      "/home/codemaster/anaconda3/envs/mestrado/lib/python3.9/site-packages/sklearn/base.py:450: UserWarning: X does not have valid feature names, but ExtraTreesRegressor was fitted with feature names\n",
      "  warnings.warn(\n",
      "/home/codemaster/anaconda3/envs/mestrado/lib/python3.9/site-packages/sklearn/metrics/_regression.py:796: UndefinedMetricWarning: R^2 score is not well-defined with less than two samples.\n",
      "  warnings.warn(msg, UndefinedMetricWarning)\n",
      "/home/codemaster/Desktop/backup/Dinamica Pontos Quanticos/code/model.py:71: RuntimeWarning: divide by zero encountered in double_scalars\n",
      "  relative_error_1 += np.abs(1-y_p)/y_t\n",
      "/home/codemaster/Desktop/backup/Dinamica Pontos Quanticos/code/model.py:72: RuntimeWarning: divide by zero encountered in double_scalars\n",
      "  relative_error_2 += np.abs((y_t-y_p)/y_t)\n",
      "Traceback (most recent call last):\n",
      "  File \"/home/codemaster/Desktop/backup/Dinamica Pontos Quanticos/code/graphics.py\", line 109, in plotGraph_error\n",
      "    y_test, y_pred=zip(*random.sample(list(zip(y_test, y_pred)), 5000))\n",
      "  File \"/home/codemaster/anaconda3/envs/mestrado/lib/python3.9/random.py\", line 449, in sample\n",
      "    raise ValueError(\"Sample larger than population or is negative\")\n",
      "ValueError: Sample larger than population or is negative\n"
     ]
    },
    {
     "name": "stdout",
     "output_type": "stream",
     "text": [
      "Gráfico com menos de 150 pontos\n",
      "<class 'Exception'>\n",
      "Gráfico com menos de 1600 pontos\n"
     ]
    },
    {
     "name": "stderr",
     "output_type": "stream",
     "text": [
      "/home/codemaster/anaconda3/envs/mestrado/lib/python3.9/site-packages/sklearn/base.py:450: UserWarning: X does not have valid feature names, but ExtraTreesRegressor was fitted with feature names\n",
      "  warnings.warn(\n",
      "/home/codemaster/anaconda3/envs/mestrado/lib/python3.9/site-packages/sklearn/metrics/_regression.py:796: UndefinedMetricWarning: R^2 score is not well-defined with less than two samples.\n",
      "  warnings.warn(msg, UndefinedMetricWarning)\n",
      "/home/codemaster/Desktop/backup/Dinamica Pontos Quanticos/code/model.py:71: RuntimeWarning: divide by zero encountered in double_scalars\n",
      "  relative_error_1 += np.abs(1-y_p)/y_t\n",
      "/home/codemaster/Desktop/backup/Dinamica Pontos Quanticos/code/model.py:72: RuntimeWarning: divide by zero encountered in double_scalars\n",
      "  relative_error_2 += np.abs((y_t-y_p)/y_t)\n",
      "Traceback (most recent call last):\n",
      "  File \"/home/codemaster/Desktop/backup/Dinamica Pontos Quanticos/code/graphics.py\", line 109, in plotGraph_error\n",
      "    y_test, y_pred=zip(*random.sample(list(zip(y_test, y_pred)), 5000))\n",
      "  File \"/home/codemaster/anaconda3/envs/mestrado/lib/python3.9/random.py\", line 449, in sample\n",
      "    raise ValueError(\"Sample larger than population or is negative\")\n",
      "ValueError: Sample larger than population or is negative\n"
     ]
    },
    {
     "name": "stdout",
     "output_type": "stream",
     "text": [
      "Gráfico com menos de 150 pontos\n",
      "<class 'Exception'>\n",
      "Gráfico com menos de 1600 pontos\n"
     ]
    },
    {
     "name": "stderr",
     "output_type": "stream",
     "text": [
      "/home/codemaster/anaconda3/envs/mestrado/lib/python3.9/site-packages/sklearn/base.py:450: UserWarning: X does not have valid feature names, but ExtraTreesRegressor was fitted with feature names\n",
      "  warnings.warn(\n",
      "/home/codemaster/anaconda3/envs/mestrado/lib/python3.9/site-packages/sklearn/metrics/_regression.py:796: UndefinedMetricWarning: R^2 score is not well-defined with less than two samples.\n",
      "  warnings.warn(msg, UndefinedMetricWarning)\n",
      "/home/codemaster/Desktop/backup/Dinamica Pontos Quanticos/code/model.py:71: RuntimeWarning: divide by zero encountered in double_scalars\n",
      "  relative_error_1 += np.abs(1-y_p)/y_t\n",
      "/home/codemaster/Desktop/backup/Dinamica Pontos Quanticos/code/model.py:72: RuntimeWarning: divide by zero encountered in double_scalars\n",
      "  relative_error_2 += np.abs((y_t-y_p)/y_t)\n",
      "Traceback (most recent call last):\n",
      "  File \"/home/codemaster/Desktop/backup/Dinamica Pontos Quanticos/code/graphics.py\", line 109, in plotGraph_error\n",
      "    y_test, y_pred=zip(*random.sample(list(zip(y_test, y_pred)), 5000))\n",
      "  File \"/home/codemaster/anaconda3/envs/mestrado/lib/python3.9/random.py\", line 449, in sample\n",
      "    raise ValueError(\"Sample larger than population or is negative\")\n",
      "ValueError: Sample larger than population or is negative\n"
     ]
    },
    {
     "name": "stdout",
     "output_type": "stream",
     "text": [
      "Gráfico com menos de 150 pontos\n",
      "<class 'Exception'>\n",
      "Gráfico com menos de 1600 pontos\n"
     ]
    },
    {
     "name": "stderr",
     "output_type": "stream",
     "text": [
      "/home/codemaster/anaconda3/envs/mestrado/lib/python3.9/site-packages/sklearn/base.py:450: UserWarning: X does not have valid feature names, but ExtraTreesRegressor was fitted with feature names\n",
      "  warnings.warn(\n",
      "/home/codemaster/anaconda3/envs/mestrado/lib/python3.9/site-packages/sklearn/metrics/_regression.py:796: UndefinedMetricWarning: R^2 score is not well-defined with less than two samples.\n",
      "  warnings.warn(msg, UndefinedMetricWarning)\n",
      "/home/codemaster/Desktop/backup/Dinamica Pontos Quanticos/code/model.py:71: RuntimeWarning: divide by zero encountered in double_scalars\n",
      "  relative_error_1 += np.abs(1-y_p)/y_t\n",
      "/home/codemaster/Desktop/backup/Dinamica Pontos Quanticos/code/model.py:72: RuntimeWarning: divide by zero encountered in double_scalars\n",
      "  relative_error_2 += np.abs((y_t-y_p)/y_t)\n",
      "Traceback (most recent call last):\n",
      "  File \"/home/codemaster/Desktop/backup/Dinamica Pontos Quanticos/code/graphics.py\", line 109, in plotGraph_error\n",
      "    y_test, y_pred=zip(*random.sample(list(zip(y_test, y_pred)), 5000))\n",
      "  File \"/home/codemaster/anaconda3/envs/mestrado/lib/python3.9/random.py\", line 449, in sample\n",
      "    raise ValueError(\"Sample larger than population or is negative\")\n",
      "ValueError: Sample larger than population or is negative\n"
     ]
    },
    {
     "name": "stdout",
     "output_type": "stream",
     "text": [
      "Gráfico com menos de 150 pontos\n",
      "<class 'Exception'>\n",
      "Gráfico com menos de 1600 pontos\n"
     ]
    },
    {
     "name": "stderr",
     "output_type": "stream",
     "text": [
      "/home/codemaster/anaconda3/envs/mestrado/lib/python3.9/site-packages/sklearn/base.py:450: UserWarning: X does not have valid feature names, but ExtraTreesRegressor was fitted with feature names\n",
      "  warnings.warn(\n",
      "/home/codemaster/anaconda3/envs/mestrado/lib/python3.9/site-packages/sklearn/metrics/_regression.py:796: UndefinedMetricWarning: R^2 score is not well-defined with less than two samples.\n",
      "  warnings.warn(msg, UndefinedMetricWarning)\n",
      "/home/codemaster/Desktop/backup/Dinamica Pontos Quanticos/code/model.py:71: RuntimeWarning: divide by zero encountered in double_scalars\n",
      "  relative_error_1 += np.abs(1-y_p)/y_t\n",
      "/home/codemaster/Desktop/backup/Dinamica Pontos Quanticos/code/model.py:72: RuntimeWarning: divide by zero encountered in double_scalars\n",
      "  relative_error_2 += np.abs((y_t-y_p)/y_t)\n",
      "Traceback (most recent call last):\n",
      "  File \"/home/codemaster/Desktop/backup/Dinamica Pontos Quanticos/code/graphics.py\", line 109, in plotGraph_error\n",
      "    y_test, y_pred=zip(*random.sample(list(zip(y_test, y_pred)), 5000))\n",
      "  File \"/home/codemaster/anaconda3/envs/mestrado/lib/python3.9/random.py\", line 449, in sample\n",
      "    raise ValueError(\"Sample larger than population or is negative\")\n",
      "ValueError: Sample larger than population or is negative\n"
     ]
    },
    {
     "name": "stdout",
     "output_type": "stream",
     "text": [
      "Gráfico com menos de 150 pontos\n",
      "<class 'Exception'>\n",
      "Gráfico com menos de 1600 pontos\n"
     ]
    },
    {
     "name": "stderr",
     "output_type": "stream",
     "text": [
      "/home/codemaster/anaconda3/envs/mestrado/lib/python3.9/site-packages/sklearn/base.py:450: UserWarning: X does not have valid feature names, but ExtraTreesRegressor was fitted with feature names\n",
      "  warnings.warn(\n",
      "/home/codemaster/anaconda3/envs/mestrado/lib/python3.9/site-packages/sklearn/metrics/_regression.py:796: UndefinedMetricWarning: R^2 score is not well-defined with less than two samples.\n",
      "  warnings.warn(msg, UndefinedMetricWarning)\n",
      "/home/codemaster/Desktop/backup/Dinamica Pontos Quanticos/code/model.py:71: RuntimeWarning: divide by zero encountered in double_scalars\n",
      "  relative_error_1 += np.abs(1-y_p)/y_t\n",
      "/home/codemaster/Desktop/backup/Dinamica Pontos Quanticos/code/model.py:72: RuntimeWarning: divide by zero encountered in double_scalars\n",
      "  relative_error_2 += np.abs((y_t-y_p)/y_t)\n"
     ]
    },
    {
     "name": "stdout",
     "output_type": "stream",
     "text": [
      "Gráfico com menos de 150 pontos\n",
      "<class 'Exception'>\n",
      "Gráfico com menos de 1600 pontos\n"
     ]
    },
    {
     "name": "stderr",
     "output_type": "stream",
     "text": [
      "Traceback (most recent call last):\n",
      "  File \"/home/codemaster/Desktop/backup/Dinamica Pontos Quanticos/code/graphics.py\", line 109, in plotGraph_error\n",
      "    y_test, y_pred=zip(*random.sample(list(zip(y_test, y_pred)), 5000))\n",
      "  File \"/home/codemaster/anaconda3/envs/mestrado/lib/python3.9/random.py\", line 449, in sample\n",
      "    raise ValueError(\"Sample larger than population or is negative\")\n",
      "ValueError: Sample larger than population or is negative\n",
      "/home/codemaster/anaconda3/envs/mestrado/lib/python3.9/site-packages/sklearn/base.py:450: UserWarning: X does not have valid feature names, but ExtraTreesRegressor was fitted with feature names\n",
      "  warnings.warn(\n",
      "/home/codemaster/anaconda3/envs/mestrado/lib/python3.9/site-packages/sklearn/metrics/_regression.py:796: UndefinedMetricWarning: R^2 score is not well-defined with less than two samples.\n",
      "  warnings.warn(msg, UndefinedMetricWarning)\n",
      "/home/codemaster/Desktop/backup/Dinamica Pontos Quanticos/code/model.py:71: RuntimeWarning: divide by zero encountered in double_scalars\n",
      "  relative_error_1 += np.abs(1-y_p)/y_t\n",
      "/home/codemaster/Desktop/backup/Dinamica Pontos Quanticos/code/model.py:72: RuntimeWarning: divide by zero encountered in double_scalars\n",
      "  relative_error_2 += np.abs((y_t-y_p)/y_t)\n"
     ]
    },
    {
     "name": "stdout",
     "output_type": "stream",
     "text": [
      "Gráfico com menos de 150 pontos\n",
      "<class 'Exception'>\n",
      "Gráfico com menos de 1600 pontos\n"
     ]
    },
    {
     "name": "stderr",
     "output_type": "stream",
     "text": [
      "Traceback (most recent call last):\n",
      "  File \"/home/codemaster/Desktop/backup/Dinamica Pontos Quanticos/code/graphics.py\", line 109, in plotGraph_error\n",
      "    y_test, y_pred=zip(*random.sample(list(zip(y_test, y_pred)), 5000))\n",
      "  File \"/home/codemaster/anaconda3/envs/mestrado/lib/python3.9/random.py\", line 449, in sample\n",
      "    raise ValueError(\"Sample larger than population or is negative\")\n",
      "ValueError: Sample larger than population or is negative\n",
      "/home/codemaster/anaconda3/envs/mestrado/lib/python3.9/site-packages/sklearn/base.py:450: UserWarning: X does not have valid feature names, but ExtraTreesRegressor was fitted with feature names\n",
      "  warnings.warn(\n",
      "/home/codemaster/anaconda3/envs/mestrado/lib/python3.9/site-packages/sklearn/metrics/_regression.py:796: UndefinedMetricWarning: R^2 score is not well-defined with less than two samples.\n",
      "  warnings.warn(msg, UndefinedMetricWarning)\n",
      "/home/codemaster/Desktop/backup/Dinamica Pontos Quanticos/code/model.py:71: RuntimeWarning: divide by zero encountered in double_scalars\n",
      "  relative_error_1 += np.abs(1-y_p)/y_t\n",
      "/home/codemaster/Desktop/backup/Dinamica Pontos Quanticos/code/model.py:72: RuntimeWarning: divide by zero encountered in double_scalars\n",
      "  relative_error_2 += np.abs((y_t-y_p)/y_t)\n"
     ]
    },
    {
     "name": "stdout",
     "output_type": "stream",
     "text": [
      "Gráfico com menos de 150 pontos\n",
      "<class 'Exception'>\n",
      "Gráfico com menos de 1600 pontos\n"
     ]
    },
    {
     "name": "stderr",
     "output_type": "stream",
     "text": [
      "Traceback (most recent call last):\n",
      "  File \"/home/codemaster/Desktop/backup/Dinamica Pontos Quanticos/code/graphics.py\", line 109, in plotGraph_error\n",
      "    y_test, y_pred=zip(*random.sample(list(zip(y_test, y_pred)), 5000))\n",
      "  File \"/home/codemaster/anaconda3/envs/mestrado/lib/python3.9/random.py\", line 449, in sample\n",
      "    raise ValueError(\"Sample larger than population or is negative\")\n",
      "ValueError: Sample larger than population or is negative\n",
      "/home/codemaster/anaconda3/envs/mestrado/lib/python3.9/site-packages/sklearn/base.py:450: UserWarning: X does not have valid feature names, but ExtraTreesRegressor was fitted with feature names\n",
      "  warnings.warn(\n",
      "/home/codemaster/anaconda3/envs/mestrado/lib/python3.9/site-packages/sklearn/metrics/_regression.py:796: UndefinedMetricWarning: R^2 score is not well-defined with less than two samples.\n",
      "  warnings.warn(msg, UndefinedMetricWarning)\n",
      "/home/codemaster/Desktop/backup/Dinamica Pontos Quanticos/code/model.py:71: RuntimeWarning: divide by zero encountered in double_scalars\n",
      "  relative_error_1 += np.abs(1-y_p)/y_t\n",
      "/home/codemaster/Desktop/backup/Dinamica Pontos Quanticos/code/model.py:72: RuntimeWarning: divide by zero encountered in double_scalars\n",
      "  relative_error_2 += np.abs((y_t-y_p)/y_t)\n"
     ]
    },
    {
     "name": "stdout",
     "output_type": "stream",
     "text": [
      "Gráfico com menos de 150 pontos\n",
      "<class 'Exception'>\n",
      "Gráfico com menos de 1600 pontos\n"
     ]
    },
    {
     "name": "stderr",
     "output_type": "stream",
     "text": [
      "Traceback (most recent call last):\n",
      "  File \"/home/codemaster/Desktop/backup/Dinamica Pontos Quanticos/code/graphics.py\", line 109, in plotGraph_error\n",
      "    y_test, y_pred=zip(*random.sample(list(zip(y_test, y_pred)), 5000))\n",
      "  File \"/home/codemaster/anaconda3/envs/mestrado/lib/python3.9/random.py\", line 449, in sample\n",
      "    raise ValueError(\"Sample larger than population or is negative\")\n",
      "ValueError: Sample larger than population or is negative\n",
      "/home/codemaster/anaconda3/envs/mestrado/lib/python3.9/site-packages/sklearn/base.py:450: UserWarning: X does not have valid feature names, but ExtraTreesRegressor was fitted with feature names\n",
      "  warnings.warn(\n",
      "/home/codemaster/anaconda3/envs/mestrado/lib/python3.9/site-packages/sklearn/metrics/_regression.py:796: UndefinedMetricWarning: R^2 score is not well-defined with less than two samples.\n",
      "  warnings.warn(msg, UndefinedMetricWarning)\n",
      "/home/codemaster/Desktop/backup/Dinamica Pontos Quanticos/code/model.py:71: RuntimeWarning: divide by zero encountered in double_scalars\n",
      "  relative_error_1 += np.abs(1-y_p)/y_t\n",
      "/home/codemaster/Desktop/backup/Dinamica Pontos Quanticos/code/model.py:72: RuntimeWarning: divide by zero encountered in double_scalars\n",
      "  relative_error_2 += np.abs((y_t-y_p)/y_t)\n"
     ]
    },
    {
     "name": "stdout",
     "output_type": "stream",
     "text": [
      "Gráfico com menos de 150 pontos\n",
      "<class 'Exception'>\n",
      "Gráfico com menos de 1600 pontos\n"
     ]
    },
    {
     "name": "stderr",
     "output_type": "stream",
     "text": [
      "Traceback (most recent call last):\n",
      "  File \"/home/codemaster/Desktop/backup/Dinamica Pontos Quanticos/code/graphics.py\", line 109, in plotGraph_error\n",
      "    y_test, y_pred=zip(*random.sample(list(zip(y_test, y_pred)), 5000))\n",
      "  File \"/home/codemaster/anaconda3/envs/mestrado/lib/python3.9/random.py\", line 449, in sample\n",
      "    raise ValueError(\"Sample larger than population or is negative\")\n",
      "ValueError: Sample larger than population or is negative\n",
      "/home/codemaster/anaconda3/envs/mestrado/lib/python3.9/site-packages/sklearn/base.py:450: UserWarning: X does not have valid feature names, but ExtraTreesRegressor was fitted with feature names\n",
      "  warnings.warn(\n",
      "/home/codemaster/anaconda3/envs/mestrado/lib/python3.9/site-packages/sklearn/metrics/_regression.py:796: UndefinedMetricWarning: R^2 score is not well-defined with less than two samples.\n",
      "  warnings.warn(msg, UndefinedMetricWarning)\n",
      "/home/codemaster/Desktop/backup/Dinamica Pontos Quanticos/code/model.py:71: RuntimeWarning: divide by zero encountered in double_scalars\n",
      "  relative_error_1 += np.abs(1-y_p)/y_t\n",
      "/home/codemaster/Desktop/backup/Dinamica Pontos Quanticos/code/model.py:72: RuntimeWarning: divide by zero encountered in double_scalars\n",
      "  relative_error_2 += np.abs((y_t-y_p)/y_t)\n"
     ]
    },
    {
     "name": "stdout",
     "output_type": "stream",
     "text": [
      "Gráfico com menos de 150 pontos\n",
      "<class 'Exception'>\n",
      "Gráfico com menos de 1600 pontos\n"
     ]
    },
    {
     "name": "stderr",
     "output_type": "stream",
     "text": [
      "Traceback (most recent call last):\n",
      "  File \"/home/codemaster/Desktop/backup/Dinamica Pontos Quanticos/code/graphics.py\", line 109, in plotGraph_error\n",
      "    y_test, y_pred=zip(*random.sample(list(zip(y_test, y_pred)), 5000))\n",
      "  File \"/home/codemaster/anaconda3/envs/mestrado/lib/python3.9/random.py\", line 449, in sample\n",
      "    raise ValueError(\"Sample larger than population or is negative\")\n",
      "ValueError: Sample larger than population or is negative\n",
      "/home/codemaster/anaconda3/envs/mestrado/lib/python3.9/site-packages/sklearn/base.py:450: UserWarning: X does not have valid feature names, but ExtraTreesRegressor was fitted with feature names\n",
      "  warnings.warn(\n",
      "/home/codemaster/anaconda3/envs/mestrado/lib/python3.9/site-packages/sklearn/metrics/_regression.py:796: UndefinedMetricWarning: R^2 score is not well-defined with less than two samples.\n",
      "  warnings.warn(msg, UndefinedMetricWarning)\n",
      "/home/codemaster/Desktop/backup/Dinamica Pontos Quanticos/code/model.py:71: RuntimeWarning: divide by zero encountered in double_scalars\n",
      "  relative_error_1 += np.abs(1-y_p)/y_t\n",
      "/home/codemaster/Desktop/backup/Dinamica Pontos Quanticos/code/model.py:72: RuntimeWarning: divide by zero encountered in double_scalars\n",
      "  relative_error_2 += np.abs((y_t-y_p)/y_t)\n"
     ]
    },
    {
     "name": "stdout",
     "output_type": "stream",
     "text": [
      "Gráfico com menos de 150 pontos\n",
      "<class 'Exception'>\n",
      "Gráfico com menos de 1600 pontos\n"
     ]
    },
    {
     "name": "stderr",
     "output_type": "stream",
     "text": [
      "Traceback (most recent call last):\n",
      "  File \"/home/codemaster/Desktop/backup/Dinamica Pontos Quanticos/code/graphics.py\", line 109, in plotGraph_error\n",
      "    y_test, y_pred=zip(*random.sample(list(zip(y_test, y_pred)), 5000))\n",
      "  File \"/home/codemaster/anaconda3/envs/mestrado/lib/python3.9/random.py\", line 449, in sample\n",
      "    raise ValueError(\"Sample larger than population or is negative\")\n",
      "ValueError: Sample larger than population or is negative\n",
      "/home/codemaster/anaconda3/envs/mestrado/lib/python3.9/site-packages/sklearn/base.py:450: UserWarning: X does not have valid feature names, but ExtraTreesRegressor was fitted with feature names\n",
      "  warnings.warn(\n",
      "/home/codemaster/anaconda3/envs/mestrado/lib/python3.9/site-packages/sklearn/metrics/_regression.py:796: UndefinedMetricWarning: R^2 score is not well-defined with less than two samples.\n",
      "  warnings.warn(msg, UndefinedMetricWarning)\n",
      "/home/codemaster/Desktop/backup/Dinamica Pontos Quanticos/code/model.py:71: RuntimeWarning: divide by zero encountered in double_scalars\n",
      "  relative_error_1 += np.abs(1-y_p)/y_t\n",
      "/home/codemaster/Desktop/backup/Dinamica Pontos Quanticos/code/model.py:72: RuntimeWarning: divide by zero encountered in double_scalars\n",
      "  relative_error_2 += np.abs((y_t-y_p)/y_t)\n"
     ]
    },
    {
     "name": "stdout",
     "output_type": "stream",
     "text": [
      "Gráfico com menos de 150 pontos\n",
      "<class 'Exception'>\n",
      "Gráfico com menos de 1600 pontos\n"
     ]
    },
    {
     "name": "stderr",
     "output_type": "stream",
     "text": [
      "Traceback (most recent call last):\n",
      "  File \"/home/codemaster/Desktop/backup/Dinamica Pontos Quanticos/code/graphics.py\", line 109, in plotGraph_error\n",
      "    y_test, y_pred=zip(*random.sample(list(zip(y_test, y_pred)), 5000))\n",
      "  File \"/home/codemaster/anaconda3/envs/mestrado/lib/python3.9/random.py\", line 449, in sample\n",
      "    raise ValueError(\"Sample larger than population or is negative\")\n",
      "ValueError: Sample larger than population or is negative\n",
      "/home/codemaster/anaconda3/envs/mestrado/lib/python3.9/site-packages/sklearn/base.py:450: UserWarning: X does not have valid feature names, but ExtraTreesRegressor was fitted with feature names\n",
      "  warnings.warn(\n",
      "/home/codemaster/anaconda3/envs/mestrado/lib/python3.9/site-packages/sklearn/metrics/_regression.py:796: UndefinedMetricWarning: R^2 score is not well-defined with less than two samples.\n",
      "  warnings.warn(msg, UndefinedMetricWarning)\n",
      "/home/codemaster/Desktop/backup/Dinamica Pontos Quanticos/code/model.py:71: RuntimeWarning: divide by zero encountered in double_scalars\n",
      "  relative_error_1 += np.abs(1-y_p)/y_t\n",
      "/home/codemaster/Desktop/backup/Dinamica Pontos Quanticos/code/model.py:72: RuntimeWarning: divide by zero encountered in double_scalars\n",
      "  relative_error_2 += np.abs((y_t-y_p)/y_t)\n"
     ]
    },
    {
     "name": "stdout",
     "output_type": "stream",
     "text": [
      "Gráfico com menos de 150 pontos\n",
      "<class 'Exception'>\n",
      "Gráfico com menos de 1600 pontos\n"
     ]
    },
    {
     "name": "stderr",
     "output_type": "stream",
     "text": [
      "Traceback (most recent call last):\n",
      "  File \"/home/codemaster/Desktop/backup/Dinamica Pontos Quanticos/code/graphics.py\", line 109, in plotGraph_error\n",
      "    y_test, y_pred=zip(*random.sample(list(zip(y_test, y_pred)), 5000))\n",
      "  File \"/home/codemaster/anaconda3/envs/mestrado/lib/python3.9/random.py\", line 449, in sample\n",
      "    raise ValueError(\"Sample larger than population or is negative\")\n",
      "ValueError: Sample larger than population or is negative\n",
      "/home/codemaster/anaconda3/envs/mestrado/lib/python3.9/site-packages/sklearn/base.py:450: UserWarning: X does not have valid feature names, but ExtraTreesRegressor was fitted with feature names\n",
      "  warnings.warn(\n",
      "/home/codemaster/anaconda3/envs/mestrado/lib/python3.9/site-packages/sklearn/metrics/_regression.py:796: UndefinedMetricWarning: R^2 score is not well-defined with less than two samples.\n",
      "  warnings.warn(msg, UndefinedMetricWarning)\n",
      "/home/codemaster/Desktop/backup/Dinamica Pontos Quanticos/code/model.py:71: RuntimeWarning: divide by zero encountered in double_scalars\n",
      "  relative_error_1 += np.abs(1-y_p)/y_t\n",
      "/home/codemaster/Desktop/backup/Dinamica Pontos Quanticos/code/model.py:72: RuntimeWarning: divide by zero encountered in double_scalars\n",
      "  relative_error_2 += np.abs((y_t-y_p)/y_t)\n"
     ]
    },
    {
     "name": "stdout",
     "output_type": "stream",
     "text": [
      "Gráfico com menos de 150 pontos\n",
      "<class 'Exception'>\n",
      "Gráfico com menos de 1600 pontos\n"
     ]
    },
    {
     "name": "stderr",
     "output_type": "stream",
     "text": [
      "Traceback (most recent call last):\n",
      "  File \"/home/codemaster/Desktop/backup/Dinamica Pontos Quanticos/code/graphics.py\", line 109, in plotGraph_error\n",
      "    y_test, y_pred=zip(*random.sample(list(zip(y_test, y_pred)), 5000))\n",
      "  File \"/home/codemaster/anaconda3/envs/mestrado/lib/python3.9/random.py\", line 449, in sample\n",
      "    raise ValueError(\"Sample larger than population or is negative\")\n",
      "ValueError: Sample larger than population or is negative\n",
      "/home/codemaster/anaconda3/envs/mestrado/lib/python3.9/site-packages/sklearn/base.py:450: UserWarning: X does not have valid feature names, but ExtraTreesRegressor was fitted with feature names\n",
      "  warnings.warn(\n",
      "/home/codemaster/anaconda3/envs/mestrado/lib/python3.9/site-packages/sklearn/metrics/_regression.py:796: UndefinedMetricWarning: R^2 score is not well-defined with less than two samples.\n",
      "  warnings.warn(msg, UndefinedMetricWarning)\n",
      "/home/codemaster/Desktop/backup/Dinamica Pontos Quanticos/code/model.py:71: RuntimeWarning: divide by zero encountered in double_scalars\n",
      "  relative_error_1 += np.abs(1-y_p)/y_t\n",
      "/home/codemaster/Desktop/backup/Dinamica Pontos Quanticos/code/model.py:72: RuntimeWarning: divide by zero encountered in double_scalars\n",
      "  relative_error_2 += np.abs((y_t-y_p)/y_t)\n",
      "Traceback (most recent call last):\n",
      "  File \"/home/codemaster/Desktop/backup/Dinamica Pontos Quanticos/code/graphics.py\", line 109, in plotGraph_error\n",
      "    y_test, y_pred=zip(*random.sample(list(zip(y_test, y_pred)), 5000))\n",
      "  File \"/home/codemaster/anaconda3/envs/mestrado/lib/python3.9/random.py\", line 449, in sample\n",
      "    raise ValueError(\"Sample larger than population or is negative\")\n",
      "ValueError: Sample larger than population or is negative\n"
     ]
    },
    {
     "name": "stdout",
     "output_type": "stream",
     "text": [
      "Gráfico com menos de 150 pontos\n",
      "<class 'Exception'>\n",
      "Gráfico com menos de 1600 pontos\n"
     ]
    },
    {
     "name": "stderr",
     "output_type": "stream",
     "text": [
      "/home/codemaster/anaconda3/envs/mestrado/lib/python3.9/site-packages/sklearn/base.py:450: UserWarning: X does not have valid feature names, but ExtraTreesRegressor was fitted with feature names\n",
      "  warnings.warn(\n",
      "/home/codemaster/anaconda3/envs/mestrado/lib/python3.9/site-packages/sklearn/metrics/_regression.py:796: UndefinedMetricWarning: R^2 score is not well-defined with less than two samples.\n",
      "  warnings.warn(msg, UndefinedMetricWarning)\n",
      "/home/codemaster/Desktop/backup/Dinamica Pontos Quanticos/code/model.py:71: RuntimeWarning: divide by zero encountered in double_scalars\n",
      "  relative_error_1 += np.abs(1-y_p)/y_t\n",
      "/home/codemaster/Desktop/backup/Dinamica Pontos Quanticos/code/model.py:72: RuntimeWarning: divide by zero encountered in double_scalars\n",
      "  relative_error_2 += np.abs((y_t-y_p)/y_t)\n",
      "Traceback (most recent call last):\n",
      "  File \"/home/codemaster/Desktop/backup/Dinamica Pontos Quanticos/code/graphics.py\", line 109, in plotGraph_error\n",
      "    y_test, y_pred=zip(*random.sample(list(zip(y_test, y_pred)), 5000))\n",
      "  File \"/home/codemaster/anaconda3/envs/mestrado/lib/python3.9/random.py\", line 449, in sample\n",
      "    raise ValueError(\"Sample larger than population or is negative\")\n",
      "ValueError: Sample larger than population or is negative\n"
     ]
    },
    {
     "name": "stdout",
     "output_type": "stream",
     "text": [
      "Gráfico com menos de 150 pontos\n",
      "<class 'Exception'>\n",
      "Gráfico com menos de 1600 pontos\n"
     ]
    },
    {
     "name": "stderr",
     "output_type": "stream",
     "text": [
      "/home/codemaster/anaconda3/envs/mestrado/lib/python3.9/site-packages/sklearn/base.py:450: UserWarning: X does not have valid feature names, but ExtraTreesRegressor was fitted with feature names\n",
      "  warnings.warn(\n",
      "/home/codemaster/anaconda3/envs/mestrado/lib/python3.9/site-packages/sklearn/metrics/_regression.py:796: UndefinedMetricWarning: R^2 score is not well-defined with less than two samples.\n",
      "  warnings.warn(msg, UndefinedMetricWarning)\n",
      "/home/codemaster/Desktop/backup/Dinamica Pontos Quanticos/code/model.py:71: RuntimeWarning: divide by zero encountered in double_scalars\n",
      "  relative_error_1 += np.abs(1-y_p)/y_t\n",
      "/home/codemaster/Desktop/backup/Dinamica Pontos Quanticos/code/model.py:72: RuntimeWarning: divide by zero encountered in double_scalars\n",
      "  relative_error_2 += np.abs((y_t-y_p)/y_t)\n",
      "Traceback (most recent call last):\n",
      "  File \"/home/codemaster/Desktop/backup/Dinamica Pontos Quanticos/code/graphics.py\", line 109, in plotGraph_error\n",
      "    y_test, y_pred=zip(*random.sample(list(zip(y_test, y_pred)), 5000))\n",
      "  File \"/home/codemaster/anaconda3/envs/mestrado/lib/python3.9/random.py\", line 449, in sample\n",
      "    raise ValueError(\"Sample larger than population or is negative\")\n",
      "ValueError: Sample larger than population or is negative\n"
     ]
    },
    {
     "name": "stdout",
     "output_type": "stream",
     "text": [
      "Gráfico com menos de 150 pontos\n",
      "<class 'Exception'>\n",
      "Gráfico com menos de 1600 pontos\n"
     ]
    },
    {
     "ename": "ValueError",
     "evalue": "x and y must have same first dimension, but have shapes (20,) and (10,)",
     "output_type": "error",
     "traceback": [
      "\u001b[0;31m---------------------------------------------------------------------------\u001b[0m",
      "\u001b[0;31mValueError\u001b[0m                                Traceback (most recent call last)",
      "\u001b[0;32m/tmp/ipykernel_1786443/3052566606.py\u001b[0m in \u001b[0;36m<module>\u001b[0;34m\u001b[0m\n\u001b[1;32m     38\u001b[0m                                                                           0)\n\u001b[1;32m     39\u001b[0m \u001b[0mquantum\u001b[0m \u001b[0;34m=\u001b[0m \u001b[0mQt\u001b[0m\u001b[0;34m(\u001b[0m\u001b[0mclassica\u001b[0m\u001b[0;34m.\u001b[0m\u001b[0mname\u001b[0m\u001b[0;34m,\u001b[0m \u001b[0mmodel\u001b[0m \u001b[0;34m=\u001b[0m \u001b[0mmodel\u001b[0m\u001b[0;34m)\u001b[0m\u001b[0;34m\u001b[0m\u001b[0;34m\u001b[0m\u001b[0m\n\u001b[0;32m---> 40\u001b[0;31m \u001b[0mquantum\u001b[0m\u001b[0;34m.\u001b[0m\u001b[0melements_to_qt\u001b[0m\u001b[0;34m(\u001b[0m\u001b[0mresults_min\u001b[0m\u001b[0;34m,\u001b[0m \u001b[0mresults_max\u001b[0m\u001b[0;34m,\u001b[0m \u001b[0mresults_median\u001b[0m\u001b[0;34m)\u001b[0m\u001b[0;34m\u001b[0m\u001b[0;34m\u001b[0m\u001b[0m\n\u001b[0m\u001b[1;32m     41\u001b[0m \u001b[0mtemp_5\u001b[0m \u001b[0;34m=\u001b[0m \u001b[0mperf_counter\u001b[0m\u001b[0;34m(\u001b[0m\u001b[0;34m)\u001b[0m\u001b[0;34m\u001b[0m\u001b[0;34m\u001b[0m\u001b[0m\n\u001b[1;32m     42\u001b[0m \u001b[0mprint\u001b[0m\u001b[0;34m(\u001b[0m\u001b[0;34m\"Simulação construida com sucesso!\"\u001b[0m\u001b[0;34m)\u001b[0m\u001b[0;34m\u001b[0m\u001b[0;34m\u001b[0m\u001b[0m\n",
      "\u001b[0;32m~/Desktop/backup/Dinamica Pontos Quanticos/code/quantum.py\u001b[0m in \u001b[0;36melements_to_qt\u001b[0;34m(self, min_tup, max_tup, median_tup)\u001b[0m\n\u001b[1;32m    344\u001b[0m \u001b[0;34m\u001b[0m\u001b[0m\n\u001b[1;32m    345\u001b[0m         \u001b[0;31m#Aplica modelo e extrai as métricas\u001b[0m\u001b[0;34m\u001b[0m\u001b[0;34m\u001b[0m\u001b[0m\n\u001b[0;32m--> 346\u001b[0;31m         \u001b[0mself\u001b[0m\u001b[0;34m.\u001b[0m\u001b[0mapply_quantum_data\u001b[0m\u001b[0;34m(\u001b[0m\u001b[0mdf_l\u001b[0m\u001b[0;34m)\u001b[0m\u001b[0;34m\u001b[0m\u001b[0;34m\u001b[0m\u001b[0m\n\u001b[0m\u001b[1;32m    347\u001b[0m \u001b[0;34m\u001b[0m\u001b[0m\n\u001b[1;32m    348\u001b[0m         \u001b[0;32mreturn\u001b[0m\u001b[0;34m\u001b[0m\u001b[0;34m\u001b[0m\u001b[0m\n",
      "\u001b[0;32m~/Desktop/backup/Dinamica Pontos Quanticos/code/quantum.py\u001b[0m in \u001b[0;36mapply_quantum_data\u001b[0;34m(self, df_l)\u001b[0m\n\u001b[1;32m    315\u001b[0m                 \u001b[0mmse\u001b[0m\u001b[0;34m.\u001b[0m\u001b[0mappend\u001b[0m\u001b[0;34m(\u001b[0m\u001b[0mself\u001b[0m\u001b[0;34m.\u001b[0m\u001b[0mmodel\u001b[0m\u001b[0;34m.\u001b[0m\u001b[0mmake_report\u001b[0m\u001b[0;34m(\u001b[0m\u001b[0mname\u001b[0m\u001b[0;34m,\u001b[0m \u001b[0mX\u001b[0m\u001b[0;34m,\u001b[0m \u001b[0;34m[\u001b[0m\u001b[0my\u001b[0m\u001b[0;34m]\u001b[0m\u001b[0;34m,\u001b[0m \u001b[0my_pred\u001b[0m\u001b[0;34m)\u001b[0m\u001b[0;34m[\u001b[0m\u001b[0;36m1\u001b[0m\u001b[0;34m]\u001b[0m\u001b[0;34m)\u001b[0m\u001b[0;34m\u001b[0m\u001b[0;34m\u001b[0m\u001b[0m\n\u001b[1;32m    316\u001b[0m             \u001b[0mmse_all\u001b[0m\u001b[0;34m.\u001b[0m\u001b[0mappend\u001b[0m\u001b[0;34m(\u001b[0m\u001b[0mmse\u001b[0m\u001b[0;34m)\u001b[0m\u001b[0;34m\u001b[0m\u001b[0;34m\u001b[0m\u001b[0m\n\u001b[0;32m--> 317\u001b[0;31m             \u001b[0mquantum_report\u001b[0m\u001b[0;34m(\u001b[0m\u001b[0mmse\u001b[0m\u001b[0;34m,\u001b[0m \u001b[0mname\u001b[0m\u001b[0;34m,\u001b[0m \u001b[0mself\u001b[0m\u001b[0;34m.\u001b[0m\u001b[0mname\u001b[0m\u001b[0;34m,\u001b[0m \u001b[0mshots\u001b[0m\u001b[0;34m=\u001b[0m\u001b[0mself\u001b[0m\u001b[0;34m.\u001b[0m\u001b[0mshots\u001b[0m\u001b[0;34m)\u001b[0m\u001b[0;34m\u001b[0m\u001b[0;34m\u001b[0m\u001b[0m\n\u001b[0m\u001b[1;32m    318\u001b[0m         \u001b[0mmse_total\u001b[0m \u001b[0;34m=\u001b[0m \u001b[0mnp\u001b[0m\u001b[0;34m.\u001b[0m\u001b[0mzeros\u001b[0m\u001b[0;34m(\u001b[0m\u001b[0mlen\u001b[0m\u001b[0;34m(\u001b[0m\u001b[0mmse_all\u001b[0m\u001b[0;34m[\u001b[0m\u001b[0;36m0\u001b[0m\u001b[0;34m]\u001b[0m\u001b[0;34m)\u001b[0m\u001b[0;34m)\u001b[0m\u001b[0;34m\u001b[0m\u001b[0;34m\u001b[0m\u001b[0m\n\u001b[1;32m    319\u001b[0m         \u001b[0;32mfor\u001b[0m \u001b[0mmse_\u001b[0m \u001b[0;32min\u001b[0m \u001b[0mmse_all\u001b[0m\u001b[0;34m:\u001b[0m\u001b[0;34m\u001b[0m\u001b[0;34m\u001b[0m\u001b[0m\n",
      "\u001b[0;32m~/Desktop/backup/Dinamica Pontos Quanticos/code/graphics.py\u001b[0m in \u001b[0;36mquantum_report\u001b[0;34m(mse, name, dpq_name, passo_shots, shots)\u001b[0m\n\u001b[1;32m     95\u001b[0m         \u001b[0mfig\u001b[0m\u001b[0;34m,\u001b[0m \u001b[0max\u001b[0m \u001b[0;34m=\u001b[0m \u001b[0mplt\u001b[0m\u001b[0;34m.\u001b[0m\u001b[0msubplots\u001b[0m\u001b[0;34m(\u001b[0m\u001b[0;34m)\u001b[0m\u001b[0;34m\u001b[0m\u001b[0;34m\u001b[0m\u001b[0m\n\u001b[1;32m     96\u001b[0m         \u001b[0max\u001b[0m\u001b[0;34m.\u001b[0m\u001b[0mplot\u001b[0m\u001b[0;34m(\u001b[0m\u001b[0mx\u001b[0m\u001b[0;34m,\u001b[0m \u001b[0mmse\u001b[0m\u001b[0;34m,\u001b[0m \u001b[0;34m\"o\"\u001b[0m\u001b[0;34m)\u001b[0m\u001b[0;34m\u001b[0m\u001b[0;34m\u001b[0m\u001b[0m\n\u001b[0;32m---> 97\u001b[0;31m         \u001b[0max\u001b[0m\u001b[0;34m.\u001b[0m\u001b[0mplot\u001b[0m\u001b[0;34m(\u001b[0m\u001b[0mx\u001b[0m\u001b[0;34m,\u001b[0m \u001b[0mline_list\u001b[0m\u001b[0;34m)\u001b[0m\u001b[0;34m\u001b[0m\u001b[0;34m\u001b[0m\u001b[0m\n\u001b[0m\u001b[1;32m     98\u001b[0m         ax.set(xlabel='Medidas Performadas', ylabel='Média do Erro ao Quadrado',\n\u001b[1;32m     99\u001b[0m                title='Erro ao quadrado X Medidas Performadas:%s'%name)\n",
      "\u001b[0;32m~/anaconda3/envs/mestrado/lib/python3.9/site-packages/matplotlib/axes/_axes.py\u001b[0m in \u001b[0;36mplot\u001b[0;34m(self, scalex, scaley, data, *args, **kwargs)\u001b[0m\n\u001b[1;32m   1630\u001b[0m         \"\"\"\n\u001b[1;32m   1631\u001b[0m         \u001b[0mkwargs\u001b[0m \u001b[0;34m=\u001b[0m \u001b[0mcbook\u001b[0m\u001b[0;34m.\u001b[0m\u001b[0mnormalize_kwargs\u001b[0m\u001b[0;34m(\u001b[0m\u001b[0mkwargs\u001b[0m\u001b[0;34m,\u001b[0m \u001b[0mmlines\u001b[0m\u001b[0;34m.\u001b[0m\u001b[0mLine2D\u001b[0m\u001b[0;34m)\u001b[0m\u001b[0;34m\u001b[0m\u001b[0;34m\u001b[0m\u001b[0m\n\u001b[0;32m-> 1632\u001b[0;31m         \u001b[0mlines\u001b[0m \u001b[0;34m=\u001b[0m \u001b[0;34m[\u001b[0m\u001b[0;34m*\u001b[0m\u001b[0mself\u001b[0m\u001b[0;34m.\u001b[0m\u001b[0m_get_lines\u001b[0m\u001b[0;34m(\u001b[0m\u001b[0;34m*\u001b[0m\u001b[0margs\u001b[0m\u001b[0;34m,\u001b[0m \u001b[0mdata\u001b[0m\u001b[0;34m=\u001b[0m\u001b[0mdata\u001b[0m\u001b[0;34m,\u001b[0m \u001b[0;34m**\u001b[0m\u001b[0mkwargs\u001b[0m\u001b[0;34m)\u001b[0m\u001b[0;34m]\u001b[0m\u001b[0;34m\u001b[0m\u001b[0;34m\u001b[0m\u001b[0m\n\u001b[0m\u001b[1;32m   1633\u001b[0m         \u001b[0;32mfor\u001b[0m \u001b[0mline\u001b[0m \u001b[0;32min\u001b[0m \u001b[0mlines\u001b[0m\u001b[0;34m:\u001b[0m\u001b[0;34m\u001b[0m\u001b[0;34m\u001b[0m\u001b[0m\n\u001b[1;32m   1634\u001b[0m             \u001b[0mself\u001b[0m\u001b[0;34m.\u001b[0m\u001b[0madd_line\u001b[0m\u001b[0;34m(\u001b[0m\u001b[0mline\u001b[0m\u001b[0;34m)\u001b[0m\u001b[0;34m\u001b[0m\u001b[0;34m\u001b[0m\u001b[0m\n",
      "\u001b[0;32m~/anaconda3/envs/mestrado/lib/python3.9/site-packages/matplotlib/axes/_base.py\u001b[0m in \u001b[0;36m__call__\u001b[0;34m(self, data, *args, **kwargs)\u001b[0m\n\u001b[1;32m    310\u001b[0m                 \u001b[0mthis\u001b[0m \u001b[0;34m+=\u001b[0m \u001b[0margs\u001b[0m\u001b[0;34m[\u001b[0m\u001b[0;36m0\u001b[0m\u001b[0;34m]\u001b[0m\u001b[0;34m,\u001b[0m\u001b[0;34m\u001b[0m\u001b[0;34m\u001b[0m\u001b[0m\n\u001b[1;32m    311\u001b[0m                 \u001b[0margs\u001b[0m \u001b[0;34m=\u001b[0m \u001b[0margs\u001b[0m\u001b[0;34m[\u001b[0m\u001b[0;36m1\u001b[0m\u001b[0;34m:\u001b[0m\u001b[0;34m]\u001b[0m\u001b[0;34m\u001b[0m\u001b[0;34m\u001b[0m\u001b[0m\n\u001b[0;32m--> 312\u001b[0;31m             \u001b[0;32myield\u001b[0m \u001b[0;32mfrom\u001b[0m \u001b[0mself\u001b[0m\u001b[0;34m.\u001b[0m\u001b[0m_plot_args\u001b[0m\u001b[0;34m(\u001b[0m\u001b[0mthis\u001b[0m\u001b[0;34m,\u001b[0m \u001b[0mkwargs\u001b[0m\u001b[0;34m)\u001b[0m\u001b[0;34m\u001b[0m\u001b[0;34m\u001b[0m\u001b[0m\n\u001b[0m\u001b[1;32m    313\u001b[0m \u001b[0;34m\u001b[0m\u001b[0m\n\u001b[1;32m    314\u001b[0m     \u001b[0;32mdef\u001b[0m \u001b[0mget_next_color\u001b[0m\u001b[0;34m(\u001b[0m\u001b[0mself\u001b[0m\u001b[0;34m)\u001b[0m\u001b[0;34m:\u001b[0m\u001b[0;34m\u001b[0m\u001b[0;34m\u001b[0m\u001b[0m\n",
      "\u001b[0;32m~/anaconda3/envs/mestrado/lib/python3.9/site-packages/matplotlib/axes/_base.py\u001b[0m in \u001b[0;36m_plot_args\u001b[0;34m(self, tup, kwargs, return_kwargs)\u001b[0m\n\u001b[1;32m    496\u001b[0m \u001b[0;34m\u001b[0m\u001b[0m\n\u001b[1;32m    497\u001b[0m         \u001b[0;32mif\u001b[0m \u001b[0mx\u001b[0m\u001b[0;34m.\u001b[0m\u001b[0mshape\u001b[0m\u001b[0;34m[\u001b[0m\u001b[0;36m0\u001b[0m\u001b[0;34m]\u001b[0m \u001b[0;34m!=\u001b[0m \u001b[0my\u001b[0m\u001b[0;34m.\u001b[0m\u001b[0mshape\u001b[0m\u001b[0;34m[\u001b[0m\u001b[0;36m0\u001b[0m\u001b[0;34m]\u001b[0m\u001b[0;34m:\u001b[0m\u001b[0;34m\u001b[0m\u001b[0;34m\u001b[0m\u001b[0m\n\u001b[0;32m--> 498\u001b[0;31m             raise ValueError(f\"x and y must have same first dimension, but \"\n\u001b[0m\u001b[1;32m    499\u001b[0m                              f\"have shapes {x.shape} and {y.shape}\")\n\u001b[1;32m    500\u001b[0m         \u001b[0;32mif\u001b[0m \u001b[0mx\u001b[0m\u001b[0;34m.\u001b[0m\u001b[0mndim\u001b[0m \u001b[0;34m>\u001b[0m \u001b[0;36m2\u001b[0m \u001b[0;32mor\u001b[0m \u001b[0my\u001b[0m\u001b[0;34m.\u001b[0m\u001b[0mndim\u001b[0m \u001b[0;34m>\u001b[0m \u001b[0;36m2\u001b[0m\u001b[0;34m:\u001b[0m\u001b[0;34m\u001b[0m\u001b[0;34m\u001b[0m\u001b[0m\n",
      "\u001b[0;31mValueError\u001b[0m: x and y must have same first dimension, but have shapes (20,) and (10,)"
     ]
    },
    {
     "data": {
      "image/png": "[encoded data removed]",
      "text/plain": [
       "<Figure size 432x288 with 1 Axes>"
      ]
     },
     "metadata": {
      "needs_background": "light"
     },
     "output_type": "display_data"
    }
   ],
   "source": [
    "from eq_classica import Eq_cl\n",
    "from quantum import Qt\n",
    "from model import Md\n",
    "from time import perf_counter\n",
    "\n",
    "temp_0 = perf_counter()\n",
    "print(\"\\n0-Inicializando modelo classico...\")\n",
    "classica = Eq_cl(j_1_inicial=1, j_1_final=2, passoJ_1 = 0.5,\n",
    "             j_2_inicial=1, j_2_final=2, passoJ_2 = 0.5,\n",
    "             bz_1_inicial=1, bz_1_final=2, passoBz_1 = 0.5,\n",
    "             bz_2_inicial=1, bz_2_final=2, passoBz_2 = 0.5,\n",
    "             j_12_inicial=0, j_12_final=10, passoJ_12 = 0.1,\n",
    "             tInicial=1, tFinal=20, passoT=1)\n",
    "temp_1 = perf_counter()\n",
    "print(\"\\nData frame criado com sucesso!\")\n",
    "print(\"Tempo:\", temp_1-temp_0)\n",
    "\n",
    "print(\"\\n1-Criando data frame...\")\n",
    "classica.criaDataFrame()\n",
    "temp_2 = perf_counter()\n",
    "print(\"\\nData frame criado com sucesso!\")\n",
    "print(\"Tempo:\", temp_2-temp_1)\n",
    "\n",
    "print(\"2-Construindo modelo...\")\n",
    "model = Md(df = classica.dataset, name=classica.name, k=10000)\n",
    "model.set_model()\n",
    "temp_3 = perf_counter()\n",
    "print(\"Modelo construido com sucesso!\")\n",
    "print(\"Tempo:\", temp_3-temp_2)\n",
    "\n",
    "model.model_results(df_ale = classica.test_aleatorio())\n",
    "temp_4 = perf_counter()\n",
    "print(\"Predições realizadas!\")\n",
    "print(\"Tempo:\", temp_4-temp_3)\n",
    "\n",
    "print(\"3-Construindo simulação quântica...\")\n",
    "results_min, results_max, results_median = classica.sample_min_max_median(n=\n",
    "                                                                          0)\n",
    "quantum = Qt(classica.name, model = model)\n",
    "quantum.elements_to_qt(results_min, results_max, results_median)\n",
    "temp_5 = perf_counter()\n",
    "print(\"Simulação construida com sucesso!\")\n",
    "print(\"Tempo:\", temp_5-temp_4)\n",
    "print(\"Tempo Total:\", temp_5-temp_0)"
   ]
  },
  {
   "cell_type": "code",
   "execution_count": 2,
   "id": "36c2cf69-b4b7-4dc9-bb5b-163069d9608b",
   "metadata": {},
   "outputs": [
    {
     "data": {
      "text/plain": [
       "[(1.5, 1.5, 0.0, 0.0, 5.0)]"
      ]
     },
     "execution_count": 2,
     "metadata": {},
     "output_type": "execute_result"
    }
   ],
   "source": [
    "#Cálculo de quantos circuitos terá!\n",
    "#Para cada tempo, temos 3 medidas.\n",
    "#Se temos 20 tempos, 3 medidas para cada tempo e 3 ponto de dados.\n",
    "#Isso nos dá um total de 3x20x3 = \n",
    "len(results_min[1].elementos_iter)\n",
    "results_median[1].elementos_iter"
   ]
  },
  {
   "cell_type": "code",
   "execution_count": 3,
   "id": "908eda1a-7023-4ce5-af0d-8958c8af24ac",
   "metadata": {},
   "outputs": [],
   "source": [
    "circs = [item for sublist in quantum for item in sublist]"
   ]
  },
  {
   "cell_type": "code",
   "execution_count": 10,
   "id": "fbe4ec83-b936-4eed-ae10-b963031daf95",
   "metadata": {},
   "outputs": [
    {
     "ename": "TypeError",
     "evalue": "expected 1D vector for x",
     "output_type": "error",
     "traceback": [
      "\u001b[0;31m---------------------------------------------------------------------------\u001b[0m",
      "\u001b[0;31mTypeError\u001b[0m                                 Traceback (most recent call last)",
      "\u001b[0;32m/tmp/ipykernel_1786443/4191237078.py\u001b[0m in \u001b[0;36m<module>\u001b[0;34m\u001b[0m\n\u001b[1;32m      6\u001b[0m \u001b[0;31m#Ajustando uma linha de regressão com 10 graus de liberdade.\u001b[0m\u001b[0;34m\u001b[0m\u001b[0;34m\u001b[0m\u001b[0m\n\u001b[1;32m      7\u001b[0m \u001b[0mdeg_freedom\u001b[0m \u001b[0;34m=\u001b[0m \u001b[0;36m10\u001b[0m\u001b[0;34m\u001b[0m\u001b[0;34m\u001b[0m\u001b[0m\n\u001b[0;32m----> 8\u001b[0;31m \u001b[0mm\u001b[0m \u001b[0;34m=\u001b[0m \u001b[0mnp\u001b[0m\u001b[0;34m.\u001b[0m\u001b[0mpolyfit\u001b[0m\u001b[0;34m(\u001b[0m\u001b[0mx\u001b[0m\u001b[0;34m,\u001b[0m \u001b[0my\u001b[0m\u001b[0;34m,\u001b[0m\u001b[0mdeg\u001b[0m \u001b[0;34m=\u001b[0m \u001b[0mdeg_freedom\u001b[0m\u001b[0;34m)\u001b[0m\u001b[0;34m\u001b[0m\u001b[0;34m\u001b[0m\u001b[0m\n\u001b[0m\u001b[1;32m      9\u001b[0m \u001b[0;31m#line_list = get_reg_line(x, m[:-1], m[deg_freedom])\u001b[0m\u001b[0;34m\u001b[0m\u001b[0;34m\u001b[0m\u001b[0m\n\u001b[1;32m     10\u001b[0m \u001b[0mb\u001b[0m \u001b[0;34m=\u001b[0m\u001b[0mm\u001b[0m\u001b[0;34m[\u001b[0m\u001b[0mdeg_freedom\u001b[0m\u001b[0;34m]\u001b[0m\u001b[0;34m\u001b[0m\u001b[0;34m\u001b[0m\u001b[0m\n",
      "\u001b[0;32m<__array_function__ internals>\u001b[0m in \u001b[0;36mpolyfit\u001b[0;34m(*args, **kwargs)\u001b[0m\n",
      "\u001b[0;32m~/anaconda3/envs/mestrado/lib/python3.9/site-packages/numpy/lib/polynomial.py\u001b[0m in \u001b[0;36mpolyfit\u001b[0;34m(x, y, deg, rcond, full, w, cov)\u001b[0m\n\u001b[1;32m    626\u001b[0m         \u001b[0;32mraise\u001b[0m \u001b[0mValueError\u001b[0m\u001b[0;34m(\u001b[0m\u001b[0;34m\"expected deg >= 0\"\u001b[0m\u001b[0;34m)\u001b[0m\u001b[0;34m\u001b[0m\u001b[0;34m\u001b[0m\u001b[0m\n\u001b[1;32m    627\u001b[0m     \u001b[0;32mif\u001b[0m \u001b[0mx\u001b[0m\u001b[0;34m.\u001b[0m\u001b[0mndim\u001b[0m \u001b[0;34m!=\u001b[0m \u001b[0;36m1\u001b[0m\u001b[0;34m:\u001b[0m\u001b[0;34m\u001b[0m\u001b[0;34m\u001b[0m\u001b[0m\n\u001b[0;32m--> 628\u001b[0;31m         \u001b[0;32mraise\u001b[0m \u001b[0mTypeError\u001b[0m\u001b[0;34m(\u001b[0m\u001b[0;34m\"expected 1D vector for x\"\u001b[0m\u001b[0;34m)\u001b[0m\u001b[0;34m\u001b[0m\u001b[0;34m\u001b[0m\u001b[0m\n\u001b[0m\u001b[1;32m    629\u001b[0m     \u001b[0;32mif\u001b[0m \u001b[0mx\u001b[0m\u001b[0;34m.\u001b[0m\u001b[0msize\u001b[0m \u001b[0;34m==\u001b[0m \u001b[0;36m0\u001b[0m\u001b[0;34m:\u001b[0m\u001b[0;34m\u001b[0m\u001b[0;34m\u001b[0m\u001b[0m\n\u001b[1;32m    630\u001b[0m         \u001b[0;32mraise\u001b[0m \u001b[0mTypeError\u001b[0m\u001b[0;34m(\u001b[0m\u001b[0;34m\"expected non-empty vector for x\"\u001b[0m\u001b[0;34m)\u001b[0m\u001b[0;34m\u001b[0m\u001b[0;34m\u001b[0m\u001b[0m\n",
      "\u001b[0;31mTypeError\u001b[0m: expected 1D vector for x"
     ]
    }
   ],
   "source": [
    "import numpy as np\n",
    "def get_reg_line(x,m, b): \n",
    "    return [m_*x_+b for m_, x_ in zip(m,x)]\n",
    "x = np.random.rand(20)\n",
    "y = np.random.rand(20)\n",
    "#Ajustando uma linha de regressão com 10 graus de liberdade.\n",
    "deg_freedom = 10\n",
    "m = np.polyfit(x, y,deg = deg_freedom)\n",
    "#line_list = get_reg_line(x, m[:-1], m[deg_freedom])\n",
    "b =m[deg_freedom]\n",
    "m =m[:-1]\n",
    "\n",
    "#Plotar o grafico do erro x measures. cada mse corresponde a measures usadas para calcular o resultado, aumentando de mil em mil.\n",
    "fig, ax = plt.subplots()\n",
    "ax.plot(x, mse, \"o\")\n",
    "ax.plot(x, m*x+b)\n",
    "ax.set(xlabel='Medidas Performadas', ylabel='Média do Erro ao Quadrado',\n",
    "       title='Erro ao quadrado X Medidas Performadas:%s'%name)\n",
    "ax.grid()\n",
    "plt.show()"
   ]
  },
  {
   "cell_type": "code",
   "execution_count": 7,
   "id": "238c20ed-f74c-43d7-beed-45a5305ae212",
   "metadata": {},
   "outputs": [
    {
     "name": "stdout",
     "output_type": "stream",
     "text": [
      "180\n"
     ]
    }
   ],
   "source": [
    "print(len(quantum))\n",
    "\n"
   ]
  },
  {
   "cell_type": "code",
   "execution_count": 22,
   "id": "b5a03df2-dbb0-4344-a891-e09ad1cc93ca",
   "metadata": {},
   "outputs": [
    {
     "data": {
      "text/html": [
       "<pre style=\"word-wrap: normal;white-space: pre;background: #fff0;line-height: 1.1;font-family: &quot;Courier New&quot;,Courier,monospace\">     ┌───┐ ░              ░  ░ ┌──────────┐ ░  ░             ░  ░              »\n",
       "q_0: ┤ H ├─░──────────────░──░─┤ Rz(30.0) ├─░──░──■──────────░──░──────────────»\n",
       "     ├───┤ ░ ┌──────────┐ ░  ░ └──────────┘ ░  ░  │ZZ(50.0)  ░  ░ ┌───────────┐»\n",
       "q_1: ┤ H ├─░─┤ Rz(30.0) ├─░──░──────────────░──░──■──────────░──░─┤ Rz(-50.0) ├»\n",
       "     └───┘ ░ └──────────┘ ░  ░              ░  ░             ░  ░ └───────────┘»\n",
       "c: 2/══════════════════════════════════════════════════════════════════════════»\n",
       "                                                                               »\n",
       "«      ░  ░ ┌───────────┐ ░  ░ ┌─┐   \n",
       "«q_0: ─░──░─┤ Rz(-50.0) ├─░──░─┤M├───\n",
       "«      ░  ░ └───────────┘ ░  ░ └╥┘┌─┐\n",
       "«q_1: ─░──░───────────────░──░──╫─┤M├\n",
       "«      ░  ░               ░  ░  ║ └╥┘\n",
       "«c: 2/══════════════════════════╩══╩═\n",
       "«                               0  1 </pre>"
      ],
      "text/plain": [
       "     ┌───┐ ░              ░  ░ ┌──────────┐ ░  ░             ░  ░              »\n",
       "q_0: ┤ H ├─░──────────────░──░─┤ Rz(30.0) ├─░──░──■──────────░──░──────────────»\n",
       "     ├───┤ ░ ┌──────────┐ ░  ░ └──────────┘ ░  ░  │ZZ(50.0)  ░  ░ ┌───────────┐»\n",
       "q_1: ┤ H ├─░─┤ Rz(30.0) ├─░──░──────────────░──░──■──────────░──░─┤ Rz(-50.0) ├»\n",
       "     └───┘ ░ └──────────┘ ░  ░              ░  ░             ░  ░ └───────────┘»\n",
       "c: 2/══════════════════════════════════════════════════════════════════════════»\n",
       "                                                                               »\n",
       "«      ░  ░ ┌───────────┐ ░  ░ ┌─┐   \n",
       "«q_0: ─░──░─┤ Rz(-50.0) ├─░──░─┤M├───\n",
       "«      ░  ░ └───────────┘ ░  ░ └╥┘┌─┐\n",
       "«q_1: ─░──░───────────────░──░──╫─┤M├\n",
       "«      ░  ░               ░  ░  ║ └╥┘\n",
       "«c: 2/══════════════════════════╩══╩═\n",
       "«                               0  1 "
      ]
     },
     "execution_count": 22,
     "metadata": {},
     "output_type": "execute_result"
    }
   ],
   "source": [
    "quantum[2579].draw()"
   ]
  },
  {
   "cell_type": "code",
   "execution_count": 3,
   "id": "75f2ad0d-d97d-44a5-bf79-390181ec9ab9",
   "metadata": {},
   "outputs": [
    {
     "data": {
      "text/plain": [
       "0.0"
      ]
     },
     "execution_count": 3,
     "metadata": {},
     "output_type": "execute_result"
    }
   ],
   "source": [
    "0/2"
   ]
  },
  {
   "cell_type": "code",
   "execution_count": 8,
   "id": "a9cb0774-85c8-417e-8ab4-bd2ffef73b04",
   "metadata": {},
   "outputs": [],
   "source": [
    "import numpy as np\n",
    "import pandas as pd\n",
    "from qiskit.providers.ibmq import least_busy\n",
    "from math import pi\n",
    "from qiskit import IBMQ,transpile, execute\n",
    "from qiskit.quantum_info.operators import Operator\n",
    "from qiskit.circuit import QuantumCircuit, Parameter\n",
    "from qiskit.providers.ibmq.managed import IBMQJobManager\n",
    "from qiskit.providers import JobStatus, JobError\n"
   ]
  },
  {
   "cell_type": "code",
   "execution_count": 9,
   "id": "a83ae2ea-c900-42c0-b30f-7fe4885bd0f6",
   "metadata": {},
   "outputs": [],
   "source": [
    "#Seleciona dentre os backends pequenos o que estiver mais desocupado.\n",
    "def get_quantum_backend():\n",
    "    provider = IBMQ.get_provider(hub='ibm-q')\n",
    "    small_devices = provider.backends(filters=lambda x: x.configuration().n_qubits == 5\n",
    "                                      and not x.configuration().simulator)\n",
    "    backend = least_busy(small_devices)\n",
    "    return backend"
   ]
  },
  {
   "cell_type": "code",
   "execution_count": null,
   "id": "dcfb5465-3bc5-4798-8f5b-b955d9ab6e34",
   "metadata": {},
   "outputs": [],
   "source": [
    "quantum"
   ]
  },
  {
   "cell_type": "code",
   "execution_count": 70,
   "id": "eae3cb4f-2478-41f9-9610-efc56df79e13",
   "metadata": {},
   "outputs": [],
   "source": [
    "backend=get_quantum_backend()\n",
    "# Use Job Manager to break the circuits into multiple jobs.\n",
    "job_manager = IBMQJobManager()\n",
    "transpilado = transpile(quantum, backend=backend)\n",
    "job_set_DPQ = job_manager.run(transpilado, backend=backend, name='DPQ', shots = 20000, memory=True)\n",
    "#job = execute(quantum , get_quantum_backend())"
   ]
  },
  {
   "cell_type": "code",
   "execution_count": 40,
   "id": "9da8844c-1fc7-4162-b2cd-9d0a08c596ef",
   "metadata": {},
   "outputs": [],
   "source": [
    "#Espera até que o circuito seja executado\n",
    "while(all(jb != JobStatus.Done or JobStatus.Error for jb in job_set_DPQ.statuses())):\n",
    "    try:\n",
    "        job_status = job_set_DPQ.statuses()  # Query the backend server for job status.\n",
    "        if any(job_status) is (JobStatus.RUNNING):\n",
    "            print(\"The job is still running\")\n",
    "    except IBMQJobApiError as ex:\n",
    "        print(\"Something wrong happened!: {}\".format(ex))"
   ]
  },
  {
   "cell_type": "code",
   "execution_count": 102,
   "id": "d21154d4-0923-4d4f-9f64-55f9f0437cf8",
   "metadata": {},
   "outputs": [
    {
     "name": "stdout",
     "output_type": "stream",
     "text": [
      "[<JobStatus.DONE: 'job has successfully run'>, <JobStatus.DONE: 'job has successfully run'>]\n"
     ]
    }
   ],
   "source": [
    "print(job_set_DPQ.statuses())"
   ]
  },
  {
   "cell_type": "code",
   "execution_count": 87,
   "id": "cac8c9fb-56a7-4336-8cc9-a812c6b09da0",
   "metadata": {},
   "outputs": [],
   "source": [
    "results = job_set_DPQ.results()"
   ]
  },
  {
   "cell_type": "code",
   "execution_count": 159,
   "id": "d1aa9a5d-d3aa-4a8e-9bb0-52c31c6593af",
   "metadata": {},
   "outputs": [],
   "source": [
    "import pandas as pd\n",
    "import numpy as np\n",
    "from collections import Counter\n",
    "from itertools import count\n",
    "\n",
    "def get_samples(list,n):\n",
    "    return list[:n]\n",
    "\n",
    "shots = 20000\n",
    "passo_shots = 1000\n",
    "linhas = np.array([results_min[1].elementos_iter,results_max[1].elementos_iter, results_median[1].elementos_iter]).reshape((3,len(results_max[1].elementos_iter[0])))\n",
    "colunas = results_max[1].getNames()\n",
    "index = [\"min\", \"max\", \"median\"]\n",
    "#Combina os resultados dos jobs\n",
    "len_result = len(quantum)\n",
    "result = results.combine_results()\n",
    "df_l = []\n",
    "iterator =(count(start = 1000, step = 1000))\n",
    "for m_n in range(passo_shots, shots+passo_shots, passo_shots):\n",
    "    expec_l = [] \n",
    "    for r_i in range(len(quantum)):\n",
    "        #Lista de medidas para cada circuito\n",
    "        memory = result.get_memory(r_i)\n",
    "        #Para cada memoria do circuito, selecionamos n samples, com n crescendo a cada iteração.\n",
    "        samples = get_samples(memory, m_n)\n",
    "        #Conta as medidas\n",
    "        counts = Counter(samples)\n",
    "        #Captura as expectativas.\n",
    "        # expectation value\n",
    "        expec_l.append((counts['00']+counts['01']-counts['10']-counts['11'])/shots)\n",
    "        expec_l.append((counts['00']+counts['10']-counts['01']-counts['11'])/shots)\n",
    "    expec_a = np.array(expec_l).reshape((3,len(results_max[1].arrayT)*6))\n",
    "    expec_a = np.hstack((linhas,expec_a))\n",
    "    df_l.append(pd.DataFrame(expec_a, index=index, columns = colunas))\n",
    "\n",
    "        \n",
    "            \n",
    "#for result in results:\n",
    "#    print(result)"
   ]
  },
  {
   "cell_type": "code",
   "execution_count": 161,
   "id": "4e6cf8dd-783f-4917-bff7-beb7fa4e4f04",
   "metadata": {},
   "outputs": [
    {
     "data": {
      "text/plain": [
       "20"
      ]
     },
     "execution_count": 161,
     "metadata": {},
     "output_type": "execute_result"
    }
   ],
   "source": [
    "len(df_l)"
   ]
  },
  {
   "cell_type": "code",
   "execution_count": 136,
   "id": "7f426f27-13bf-4796-a8ab-6b7aec0d2f20",
   "metadata": {},
   "outputs": [
    {
     "data": {
      "text/plain": [
       "5"
      ]
     },
     "execution_count": 136,
     "metadata": {},
     "output_type": "execute_result"
    }
   ],
   "source": [
    "len(results_max[1].elementos_iter[0])"
   ]
  },
  {
   "cell_type": "code",
   "execution_count": null,
   "id": "23891538-a8ef-4c7c-b514-ff860c72c9e8",
   "metadata": {},
   "outputs": [],
   "source": [
    "df_l"
   ]
  },
  {
   "cell_type": "code",
   "execution_count": 195,
   "id": "986d5209-ae1f-4b0d-a637-0bb97b59a677",
   "metadata": {},
   "outputs": [
    {
     "name": "stderr",
     "output_type": "stream",
     "text": [
      "/home/codemaster/anaconda3/envs/mestrado/lib/python3.9/site-packages/sklearn/base.py:450: UserWarning: X does not have valid feature names, but ExtraTreesRegressor was fitted with feature names\n",
      "  warnings.warn(\n",
      "/home/codemaster/anaconda3/envs/mestrado/lib/python3.9/site-packages/sklearn/metrics/_regression.py:796: UndefinedMetricWarning: R^2 score is not well-defined with less than two samples.\n",
      "  warnings.warn(msg, UndefinedMetricWarning)\n",
      "/tmp/ipykernel_1254922/502823241.py:15: RuntimeWarning: divide by zero encountered in double_scalars\n",
      "  relative_error_1 += np.abs(1-y_p)/y_t\n",
      "/tmp/ipykernel_1254922/502823241.py:16: RuntimeWarning: divide by zero encountered in double_scalars\n",
      "  relative_error_2 += np.abs((y_t-y_p)/y_t)\n",
      "Traceback (most recent call last):\n",
      "  File \"/home/codemaster/Desktop/backup/Dinamica Pontos Quanticos/code/graphics.py\", line 81, in plotGraph_error\n",
      "    path = '../experimentos/%s/graficos/%s-%s.png'%(dpq_name,name, dpq_name)\n",
      "  File \"/home/codemaster/anaconda3/envs/mestrado/lib/python3.9/random.py\", line 449, in sample\n",
      "    raise ValueError(\"Sample larger than population or is negative\")\n",
      "ValueError: Sample larger than population or is negative\n"
     ]
    },
    {
     "name": "stdout",
     "output_type": "stream",
     "text": [
      "\n",
      "RESULTADOS: min\n",
      "Média do erro absoluto: 6.514000 \n",
      "Média quadrada do erro: 42.432196 \n",
      "R2: nan\n",
      "relative_error_1(np.abs(1-y_p)/y_t): inf \n",
      "relative_error_2(np.abs((y_t-y_p)/y_t)): inf\n",
      "\n",
      "Não foi possível criar o diretório\n",
      "Gráfico com menos de 150 pontos\n",
      "<class 'Exception'>\n",
      "Gráfico com menos de 1600 pontos\n"
     ]
    },
    {
     "name": "stderr",
     "output_type": "stream",
     "text": [
      "/home/codemaster/anaconda3/envs/mestrado/lib/python3.9/site-packages/sklearn/base.py:450: UserWarning: X does not have valid feature names, but ExtraTreesRegressor was fitted with feature names\n",
      "  warnings.warn(\n",
      "/home/codemaster/anaconda3/envs/mestrado/lib/python3.9/site-packages/sklearn/metrics/_regression.py:796: UndefinedMetricWarning: R^2 score is not well-defined with less than two samples.\n",
      "  warnings.warn(msg, UndefinedMetricWarning)\n",
      "/tmp/ipykernel_1254922/502823241.py:15: RuntimeWarning: divide by zero encountered in double_scalars\n",
      "  relative_error_1 += np.abs(1-y_p)/y_t\n",
      "/tmp/ipykernel_1254922/502823241.py:16: RuntimeWarning: divide by zero encountered in double_scalars\n",
      "  relative_error_2 += np.abs((y_t-y_p)/y_t)\n",
      "Traceback (most recent call last):\n",
      "  File \"/home/codemaster/Desktop/backup/Dinamica Pontos Quanticos/code/graphics.py\", line 81, in plotGraph_error\n",
      "    path = '../experimentos/%s/graficos/%s-%s.png'%(dpq_name,name, dpq_name)\n",
      "  File \"/home/codemaster/anaconda3/envs/mestrado/lib/python3.9/random.py\", line 449, in sample\n",
      "    raise ValueError(\"Sample larger than population or is negative\")\n",
      "ValueError: Sample larger than population or is negative\n"
     ]
    },
    {
     "name": "stdout",
     "output_type": "stream",
     "text": [
      "\n",
      "RESULTADOS: min\n",
      "Média do erro absoluto: 6.415000 \n",
      "Média quadrada do erro: 41.152225 \n",
      "R2: nan\n",
      "relative_error_1(np.abs(1-y_p)/y_t): inf \n",
      "relative_error_2(np.abs((y_t-y_p)/y_t)): inf\n",
      "\n",
      "Não foi possível criar o diretório\n",
      "Gráfico com menos de 150 pontos\n",
      "<class 'Exception'>\n",
      "Gráfico com menos de 1600 pontos\n"
     ]
    },
    {
     "name": "stderr",
     "output_type": "stream",
     "text": [
      "/home/codemaster/anaconda3/envs/mestrado/lib/python3.9/site-packages/sklearn/base.py:450: UserWarning: X does not have valid feature names, but ExtraTreesRegressor was fitted with feature names\n",
      "  warnings.warn(\n",
      "/home/codemaster/anaconda3/envs/mestrado/lib/python3.9/site-packages/sklearn/metrics/_regression.py:796: UndefinedMetricWarning: R^2 score is not well-defined with less than two samples.\n",
      "  warnings.warn(msg, UndefinedMetricWarning)\n",
      "/tmp/ipykernel_1254922/502823241.py:15: RuntimeWarning: divide by zero encountered in double_scalars\n",
      "  relative_error_1 += np.abs(1-y_p)/y_t\n",
      "/tmp/ipykernel_1254922/502823241.py:16: RuntimeWarning: divide by zero encountered in double_scalars\n",
      "  relative_error_2 += np.abs((y_t-y_p)/y_t)\n",
      "Traceback (most recent call last):\n",
      "  File \"/home/codemaster/Desktop/backup/Dinamica Pontos Quanticos/code/graphics.py\", line 81, in plotGraph_error\n",
      "    path = '../experimentos/%s/graficos/%s-%s.png'%(dpq_name,name, dpq_name)\n",
      "  File \"/home/codemaster/anaconda3/envs/mestrado/lib/python3.9/random.py\", line 449, in sample\n",
      "    raise ValueError(\"Sample larger than population or is negative\")\n",
      "ValueError: Sample larger than population or is negative\n"
     ]
    },
    {
     "name": "stdout",
     "output_type": "stream",
     "text": [
      "\n",
      "RESULTADOS: min\n",
      "Média do erro absoluto: 6.295000 \n",
      "Média quadrada do erro: 39.627025 \n",
      "R2: nan\n",
      "relative_error_1(np.abs(1-y_p)/y_t): inf \n",
      "relative_error_2(np.abs((y_t-y_p)/y_t)): inf\n",
      "\n",
      "Não foi possível criar o diretório\n",
      "Gráfico com menos de 150 pontos\n",
      "<class 'Exception'>\n",
      "Gráfico com menos de 1600 pontos\n"
     ]
    },
    {
     "name": "stderr",
     "output_type": "stream",
     "text": [
      "/home/codemaster/anaconda3/envs/mestrado/lib/python3.9/site-packages/sklearn/base.py:450: UserWarning: X does not have valid feature names, but ExtraTreesRegressor was fitted with feature names\n",
      "  warnings.warn(\n",
      "/home/codemaster/anaconda3/envs/mestrado/lib/python3.9/site-packages/sklearn/metrics/_regression.py:796: UndefinedMetricWarning: R^2 score is not well-defined with less than two samples.\n",
      "  warnings.warn(msg, UndefinedMetricWarning)\n",
      "/tmp/ipykernel_1254922/502823241.py:15: RuntimeWarning: divide by zero encountered in double_scalars\n",
      "  relative_error_1 += np.abs(1-y_p)/y_t\n",
      "/tmp/ipykernel_1254922/502823241.py:16: RuntimeWarning: divide by zero encountered in double_scalars\n",
      "  relative_error_2 += np.abs((y_t-y_p)/y_t)\n",
      "Traceback (most recent call last):\n",
      "  File \"/home/codemaster/Desktop/backup/Dinamica Pontos Quanticos/code/graphics.py\", line 81, in plotGraph_error\n",
      "    path = '../experimentos/%s/graficos/%s-%s.png'%(dpq_name,name, dpq_name)\n",
      "  File \"/home/codemaster/anaconda3/envs/mestrado/lib/python3.9/random.py\", line 449, in sample\n",
      "    raise ValueError(\"Sample larger than population or is negative\")\n",
      "ValueError: Sample larger than population or is negative\n"
     ]
    },
    {
     "name": "stdout",
     "output_type": "stream",
     "text": [
      "\n",
      "RESULTADOS: min\n",
      "Média do erro absoluto: 6.279000 \n",
      "Média quadrada do erro: 39.425841 \n",
      "R2: nan\n",
      "relative_error_1(np.abs(1-y_p)/y_t): inf \n",
      "relative_error_2(np.abs((y_t-y_p)/y_t)): inf\n",
      "\n",
      "Não foi possível criar o diretório\n",
      "Gráfico com menos de 150 pontos\n",
      "<class 'Exception'>\n",
      "Gráfico com menos de 1600 pontos\n"
     ]
    },
    {
     "name": "stderr",
     "output_type": "stream",
     "text": [
      "/home/codemaster/anaconda3/envs/mestrado/lib/python3.9/site-packages/sklearn/base.py:450: UserWarning: X does not have valid feature names, but ExtraTreesRegressor was fitted with feature names\n",
      "  warnings.warn(\n",
      "/home/codemaster/anaconda3/envs/mestrado/lib/python3.9/site-packages/sklearn/metrics/_regression.py:796: UndefinedMetricWarning: R^2 score is not well-defined with less than two samples.\n",
      "  warnings.warn(msg, UndefinedMetricWarning)\n",
      "/tmp/ipykernel_1254922/502823241.py:15: RuntimeWarning: divide by zero encountered in double_scalars\n",
      "  relative_error_1 += np.abs(1-y_p)/y_t\n",
      "/tmp/ipykernel_1254922/502823241.py:16: RuntimeWarning: divide by zero encountered in double_scalars\n",
      "  relative_error_2 += np.abs((y_t-y_p)/y_t)\n",
      "Traceback (most recent call last):\n",
      "  File \"/home/codemaster/Desktop/backup/Dinamica Pontos Quanticos/code/graphics.py\", line 81, in plotGraph_error\n",
      "    path = '../experimentos/%s/graficos/%s-%s.png'%(dpq_name,name, dpq_name)\n",
      "  File \"/home/codemaster/anaconda3/envs/mestrado/lib/python3.9/random.py\", line 449, in sample\n",
      "    raise ValueError(\"Sample larger than population or is negative\")\n",
      "ValueError: Sample larger than population or is negative\n"
     ]
    },
    {
     "name": "stdout",
     "output_type": "stream",
     "text": [
      "\n",
      "RESULTADOS: min\n",
      "Média do erro absoluto: 6.301000 \n",
      "Média quadrada do erro: 39.702601 \n",
      "R2: nan\n",
      "relative_error_1(np.abs(1-y_p)/y_t): inf \n",
      "relative_error_2(np.abs((y_t-y_p)/y_t)): inf\n",
      "\n",
      "Não foi possível criar o diretório\n",
      "Gráfico com menos de 150 pontos\n",
      "<class 'Exception'>\n",
      "Gráfico com menos de 1600 pontos\n"
     ]
    },
    {
     "name": "stderr",
     "output_type": "stream",
     "text": [
      "/home/codemaster/anaconda3/envs/mestrado/lib/python3.9/site-packages/sklearn/base.py:450: UserWarning: X does not have valid feature names, but ExtraTreesRegressor was fitted with feature names\n",
      "  warnings.warn(\n",
      "/home/codemaster/anaconda3/envs/mestrado/lib/python3.9/site-packages/sklearn/metrics/_regression.py:796: UndefinedMetricWarning: R^2 score is not well-defined with less than two samples.\n",
      "  warnings.warn(msg, UndefinedMetricWarning)\n",
      "/tmp/ipykernel_1254922/502823241.py:15: RuntimeWarning: divide by zero encountered in double_scalars\n",
      "  relative_error_1 += np.abs(1-y_p)/y_t\n",
      "/tmp/ipykernel_1254922/502823241.py:16: RuntimeWarning: divide by zero encountered in double_scalars\n",
      "  relative_error_2 += np.abs((y_t-y_p)/y_t)\n",
      "Traceback (most recent call last):\n",
      "  File \"/home/codemaster/Desktop/backup/Dinamica Pontos Quanticos/code/graphics.py\", line 81, in plotGraph_error\n",
      "    path = '../experimentos/%s/graficos/%s-%s.png'%(dpq_name,name, dpq_name)\n",
      "  File \"/home/codemaster/anaconda3/envs/mestrado/lib/python3.9/random.py\", line 449, in sample\n",
      "    raise ValueError(\"Sample larger than population or is negative\")\n",
      "ValueError: Sample larger than population or is negative\n"
     ]
    },
    {
     "name": "stdout",
     "output_type": "stream",
     "text": [
      "\n",
      "RESULTADOS: min\n",
      "Média do erro absoluto: 6.312000 \n",
      "Média quadrada do erro: 39.841344 \n",
      "R2: nan\n",
      "relative_error_1(np.abs(1-y_p)/y_t): inf \n",
      "relative_error_2(np.abs((y_t-y_p)/y_t)): inf\n",
      "\n",
      "Não foi possível criar o diretório\n",
      "Gráfico com menos de 150 pontos\n",
      "<class 'Exception'>\n",
      "Gráfico com menos de 1600 pontos\n"
     ]
    },
    {
     "name": "stderr",
     "output_type": "stream",
     "text": [
      "/home/codemaster/anaconda3/envs/mestrado/lib/python3.9/site-packages/sklearn/base.py:450: UserWarning: X does not have valid feature names, but ExtraTreesRegressor was fitted with feature names\n",
      "  warnings.warn(\n",
      "/home/codemaster/anaconda3/envs/mestrado/lib/python3.9/site-packages/sklearn/metrics/_regression.py:796: UndefinedMetricWarning: R^2 score is not well-defined with less than two samples.\n",
      "  warnings.warn(msg, UndefinedMetricWarning)\n",
      "/tmp/ipykernel_1254922/502823241.py:15: RuntimeWarning: divide by zero encountered in double_scalars\n",
      "  relative_error_1 += np.abs(1-y_p)/y_t\n",
      "/tmp/ipykernel_1254922/502823241.py:16: RuntimeWarning: divide by zero encountered in double_scalars\n",
      "  relative_error_2 += np.abs((y_t-y_p)/y_t)\n",
      "Traceback (most recent call last):\n",
      "  File \"/home/codemaster/Desktop/backup/Dinamica Pontos Quanticos/code/graphics.py\", line 81, in plotGraph_error\n",
      "    path = '../experimentos/%s/graficos/%s-%s.png'%(dpq_name,name, dpq_name)\n",
      "  File \"/home/codemaster/anaconda3/envs/mestrado/lib/python3.9/random.py\", line 449, in sample\n",
      "    raise ValueError(\"Sample larger than population or is negative\")\n",
      "ValueError: Sample larger than population or is negative\n"
     ]
    },
    {
     "name": "stdout",
     "output_type": "stream",
     "text": [
      "\n",
      "RESULTADOS: min\n",
      "Média do erro absoluto: 6.299000 \n",
      "Média quadrada do erro: 39.677401 \n",
      "R2: nan\n",
      "relative_error_1(np.abs(1-y_p)/y_t): inf \n",
      "relative_error_2(np.abs((y_t-y_p)/y_t)): inf\n",
      "\n",
      "Não foi possível criar o diretório\n",
      "Gráfico com menos de 150 pontos\n",
      "<class 'Exception'>\n",
      "Gráfico com menos de 1600 pontos\n"
     ]
    },
    {
     "name": "stderr",
     "output_type": "stream",
     "text": [
      "/home/codemaster/anaconda3/envs/mestrado/lib/python3.9/site-packages/sklearn/base.py:450: UserWarning: X does not have valid feature names, but ExtraTreesRegressor was fitted with feature names\n",
      "  warnings.warn(\n",
      "/home/codemaster/anaconda3/envs/mestrado/lib/python3.9/site-packages/sklearn/metrics/_regression.py:796: UndefinedMetricWarning: R^2 score is not well-defined with less than two samples.\n",
      "  warnings.warn(msg, UndefinedMetricWarning)\n",
      "/tmp/ipykernel_1254922/502823241.py:15: RuntimeWarning: divide by zero encountered in double_scalars\n",
      "  relative_error_1 += np.abs(1-y_p)/y_t\n",
      "/tmp/ipykernel_1254922/502823241.py:16: RuntimeWarning: divide by zero encountered in double_scalars\n",
      "  relative_error_2 += np.abs((y_t-y_p)/y_t)\n",
      "Traceback (most recent call last):\n",
      "  File \"/home/codemaster/Desktop/backup/Dinamica Pontos Quanticos/code/graphics.py\", line 81, in plotGraph_error\n",
      "    path = '../experimentos/%s/graficos/%s-%s.png'%(dpq_name,name, dpq_name)\n",
      "  File \"/home/codemaster/anaconda3/envs/mestrado/lib/python3.9/random.py\", line 449, in sample\n",
      "    raise ValueError(\"Sample larger than population or is negative\")\n",
      "ValueError: Sample larger than population or is negative\n"
     ]
    },
    {
     "name": "stdout",
     "output_type": "stream",
     "text": [
      "\n",
      "RESULTADOS: min\n",
      "Média do erro absoluto: 6.256000 \n",
      "Média quadrada do erro: 39.137536 \n",
      "R2: nan\n",
      "relative_error_1(np.abs(1-y_p)/y_t): inf \n",
      "relative_error_2(np.abs((y_t-y_p)/y_t)): inf\n",
      "\n",
      "Não foi possível criar o diretório\n",
      "Gráfico com menos de 150 pontos\n",
      "<class 'Exception'>\n",
      "Gráfico com menos de 1600 pontos\n"
     ]
    },
    {
     "name": "stderr",
     "output_type": "stream",
     "text": [
      "/home/codemaster/anaconda3/envs/mestrado/lib/python3.9/site-packages/sklearn/base.py:450: UserWarning: X does not have valid feature names, but ExtraTreesRegressor was fitted with feature names\n",
      "  warnings.warn(\n",
      "/home/codemaster/anaconda3/envs/mestrado/lib/python3.9/site-packages/sklearn/metrics/_regression.py:796: UndefinedMetricWarning: R^2 score is not well-defined with less than two samples.\n",
      "  warnings.warn(msg, UndefinedMetricWarning)\n",
      "/tmp/ipykernel_1254922/502823241.py:15: RuntimeWarning: divide by zero encountered in double_scalars\n",
      "  relative_error_1 += np.abs(1-y_p)/y_t\n",
      "/tmp/ipykernel_1254922/502823241.py:16: RuntimeWarning: divide by zero encountered in double_scalars\n",
      "  relative_error_2 += np.abs((y_t-y_p)/y_t)\n",
      "Traceback (most recent call last):\n",
      "  File \"/home/codemaster/Desktop/backup/Dinamica Pontos Quanticos/code/graphics.py\", line 81, in plotGraph_error\n",
      "    path = '../experimentos/%s/graficos/%s-%s.png'%(dpq_name,name, dpq_name)\n",
      "  File \"/home/codemaster/anaconda3/envs/mestrado/lib/python3.9/random.py\", line 449, in sample\n",
      "    raise ValueError(\"Sample larger than population or is negative\")\n",
      "ValueError: Sample larger than population or is negative\n"
     ]
    },
    {
     "name": "stdout",
     "output_type": "stream",
     "text": [
      "\n",
      "RESULTADOS: min\n",
      "Média do erro absoluto: 6.194000 \n",
      "Média quadrada do erro: 38.365636 \n",
      "R2: nan\n",
      "relative_error_1(np.abs(1-y_p)/y_t): inf \n",
      "relative_error_2(np.abs((y_t-y_p)/y_t)): inf\n",
      "\n",
      "Não foi possível criar o diretório\n",
      "Gráfico com menos de 150 pontos\n",
      "<class 'Exception'>\n",
      "Gráfico com menos de 1600 pontos\n"
     ]
    },
    {
     "name": "stderr",
     "output_type": "stream",
     "text": [
      "/home/codemaster/anaconda3/envs/mestrado/lib/python3.9/site-packages/sklearn/base.py:450: UserWarning: X does not have valid feature names, but ExtraTreesRegressor was fitted with feature names\n",
      "  warnings.warn(\n",
      "/home/codemaster/anaconda3/envs/mestrado/lib/python3.9/site-packages/sklearn/metrics/_regression.py:796: UndefinedMetricWarning: R^2 score is not well-defined with less than two samples.\n",
      "  warnings.warn(msg, UndefinedMetricWarning)\n",
      "/tmp/ipykernel_1254922/502823241.py:15: RuntimeWarning: divide by zero encountered in double_scalars\n",
      "  relative_error_1 += np.abs(1-y_p)/y_t\n",
      "/tmp/ipykernel_1254922/502823241.py:16: RuntimeWarning: divide by zero encountered in double_scalars\n",
      "  relative_error_2 += np.abs((y_t-y_p)/y_t)\n",
      "Traceback (most recent call last):\n",
      "  File \"/home/codemaster/Desktop/backup/Dinamica Pontos Quanticos/code/graphics.py\", line 81, in plotGraph_error\n",
      "    path = '../experimentos/%s/graficos/%s-%s.png'%(dpq_name,name, dpq_name)\n",
      "  File \"/home/codemaster/anaconda3/envs/mestrado/lib/python3.9/random.py\", line 449, in sample\n",
      "    raise ValueError(\"Sample larger than population or is negative\")\n",
      "ValueError: Sample larger than population or is negative\n"
     ]
    },
    {
     "name": "stdout",
     "output_type": "stream",
     "text": [
      "\n",
      "RESULTADOS: min\n",
      "Média do erro absoluto: 6.123000 \n",
      "Média quadrada do erro: 37.491129 \n",
      "R2: nan\n",
      "relative_error_1(np.abs(1-y_p)/y_t): inf \n",
      "relative_error_2(np.abs((y_t-y_p)/y_t)): inf\n",
      "\n",
      "Não foi possível criar o diretório\n",
      "Gráfico com menos de 150 pontos\n",
      "<class 'Exception'>\n",
      "Gráfico com menos de 1600 pontos\n"
     ]
    },
    {
     "name": "stderr",
     "output_type": "stream",
     "text": [
      "/home/codemaster/anaconda3/envs/mestrado/lib/python3.9/site-packages/sklearn/base.py:450: UserWarning: X does not have valid feature names, but ExtraTreesRegressor was fitted with feature names\n",
      "  warnings.warn(\n",
      "/home/codemaster/anaconda3/envs/mestrado/lib/python3.9/site-packages/sklearn/metrics/_regression.py:796: UndefinedMetricWarning: R^2 score is not well-defined with less than two samples.\n",
      "  warnings.warn(msg, UndefinedMetricWarning)\n",
      "/tmp/ipykernel_1254922/502823241.py:15: RuntimeWarning: divide by zero encountered in double_scalars\n",
      "  relative_error_1 += np.abs(1-y_p)/y_t\n",
      "/tmp/ipykernel_1254922/502823241.py:16: RuntimeWarning: divide by zero encountered in double_scalars\n",
      "  relative_error_2 += np.abs((y_t-y_p)/y_t)\n",
      "Traceback (most recent call last):\n",
      "  File \"/home/codemaster/Desktop/backup/Dinamica Pontos Quanticos/code/graphics.py\", line 81, in plotGraph_error\n",
      "    path = '../experimentos/%s/graficos/%s-%s.png'%(dpq_name,name, dpq_name)\n",
      "  File \"/home/codemaster/anaconda3/envs/mestrado/lib/python3.9/random.py\", line 449, in sample\n",
      "    raise ValueError(\"Sample larger than population or is negative\")\n",
      "ValueError: Sample larger than population or is negative\n"
     ]
    },
    {
     "name": "stdout",
     "output_type": "stream",
     "text": [
      "\n",
      "RESULTADOS: min\n",
      "Média do erro absoluto: 6.069000 \n",
      "Média quadrada do erro: 36.832761 \n",
      "R2: nan\n",
      "relative_error_1(np.abs(1-y_p)/y_t): inf \n",
      "relative_error_2(np.abs((y_t-y_p)/y_t)): inf\n",
      "\n",
      "Não foi possível criar o diretório\n",
      "Gráfico com menos de 150 pontos\n",
      "<class 'Exception'>\n",
      "Gráfico com menos de 1600 pontos\n"
     ]
    },
    {
     "name": "stderr",
     "output_type": "stream",
     "text": [
      "/home/codemaster/anaconda3/envs/mestrado/lib/python3.9/site-packages/sklearn/base.py:450: UserWarning: X does not have valid feature names, but ExtraTreesRegressor was fitted with feature names\n",
      "  warnings.warn(\n",
      "/home/codemaster/anaconda3/envs/mestrado/lib/python3.9/site-packages/sklearn/metrics/_regression.py:796: UndefinedMetricWarning: R^2 score is not well-defined with less than two samples.\n",
      "  warnings.warn(msg, UndefinedMetricWarning)\n",
      "/tmp/ipykernel_1254922/502823241.py:15: RuntimeWarning: divide by zero encountered in double_scalars\n",
      "  relative_error_1 += np.abs(1-y_p)/y_t\n",
      "/tmp/ipykernel_1254922/502823241.py:16: RuntimeWarning: divide by zero encountered in double_scalars\n",
      "  relative_error_2 += np.abs((y_t-y_p)/y_t)\n",
      "Traceback (most recent call last):\n",
      "  File \"/home/codemaster/Desktop/backup/Dinamica Pontos Quanticos/code/graphics.py\", line 81, in plotGraph_error\n",
      "    path = '../experimentos/%s/graficos/%s-%s.png'%(dpq_name,name, dpq_name)\n",
      "  File \"/home/codemaster/anaconda3/envs/mestrado/lib/python3.9/random.py\", line 449, in sample\n",
      "    raise ValueError(\"Sample larger than population or is negative\")\n",
      "ValueError: Sample larger than population or is negative\n"
     ]
    },
    {
     "name": "stdout",
     "output_type": "stream",
     "text": [
      "\n",
      "RESULTADOS: min\n",
      "Média do erro absoluto: 6.031000 \n",
      "Média quadrada do erro: 36.372961 \n",
      "R2: nan\n",
      "relative_error_1(np.abs(1-y_p)/y_t): inf \n",
      "relative_error_2(np.abs((y_t-y_p)/y_t)): inf\n",
      "\n",
      "Não foi possível criar o diretório\n",
      "Gráfico com menos de 150 pontos\n",
      "<class 'Exception'>\n",
      "Gráfico com menos de 1600 pontos\n"
     ]
    },
    {
     "name": "stderr",
     "output_type": "stream",
     "text": [
      "/home/codemaster/anaconda3/envs/mestrado/lib/python3.9/site-packages/sklearn/base.py:450: UserWarning: X does not have valid feature names, but ExtraTreesRegressor was fitted with feature names\n",
      "  warnings.warn(\n",
      "/home/codemaster/anaconda3/envs/mestrado/lib/python3.9/site-packages/sklearn/metrics/_regression.py:796: UndefinedMetricWarning: R^2 score is not well-defined with less than two samples.\n",
      "  warnings.warn(msg, UndefinedMetricWarning)\n",
      "/tmp/ipykernel_1254922/502823241.py:15: RuntimeWarning: divide by zero encountered in double_scalars\n",
      "  relative_error_1 += np.abs(1-y_p)/y_t\n",
      "/tmp/ipykernel_1254922/502823241.py:16: RuntimeWarning: divide by zero encountered in double_scalars\n",
      "  relative_error_2 += np.abs((y_t-y_p)/y_t)\n",
      "Traceback (most recent call last):\n",
      "  File \"/home/codemaster/Desktop/backup/Dinamica Pontos Quanticos/code/graphics.py\", line 81, in plotGraph_error\n",
      "    path = '../experimentos/%s/graficos/%s-%s.png'%(dpq_name,name, dpq_name)\n",
      "  File \"/home/codemaster/anaconda3/envs/mestrado/lib/python3.9/random.py\", line 449, in sample\n",
      "    raise ValueError(\"Sample larger than population or is negative\")\n",
      "ValueError: Sample larger than population or is negative\n"
     ]
    },
    {
     "name": "stdout",
     "output_type": "stream",
     "text": [
      "\n",
      "RESULTADOS: min\n",
      "Média do erro absoluto: 5.890000 \n",
      "Média quadrada do erro: 34.692100 \n",
      "R2: nan\n",
      "relative_error_1(np.abs(1-y_p)/y_t): inf \n",
      "relative_error_2(np.abs((y_t-y_p)/y_t)): inf\n",
      "\n",
      "Não foi possível criar o diretório\n",
      "Gráfico com menos de 150 pontos\n",
      "<class 'Exception'>\n",
      "Gráfico com menos de 1600 pontos\n"
     ]
    },
    {
     "name": "stderr",
     "output_type": "stream",
     "text": [
      "/home/codemaster/anaconda3/envs/mestrado/lib/python3.9/site-packages/sklearn/base.py:450: UserWarning: X does not have valid feature names, but ExtraTreesRegressor was fitted with feature names\n",
      "  warnings.warn(\n",
      "/home/codemaster/anaconda3/envs/mestrado/lib/python3.9/site-packages/sklearn/metrics/_regression.py:796: UndefinedMetricWarning: R^2 score is not well-defined with less than two samples.\n",
      "  warnings.warn(msg, UndefinedMetricWarning)\n",
      "/tmp/ipykernel_1254922/502823241.py:15: RuntimeWarning: divide by zero encountered in double_scalars\n",
      "  relative_error_1 += np.abs(1-y_p)/y_t\n",
      "/tmp/ipykernel_1254922/502823241.py:16: RuntimeWarning: divide by zero encountered in double_scalars\n",
      "  relative_error_2 += np.abs((y_t-y_p)/y_t)\n",
      "Traceback (most recent call last):\n",
      "  File \"/home/codemaster/Desktop/backup/Dinamica Pontos Quanticos/code/graphics.py\", line 81, in plotGraph_error\n",
      "    path = '../experimentos/%s/graficos/%s-%s.png'%(dpq_name,name, dpq_name)\n",
      "  File \"/home/codemaster/anaconda3/envs/mestrado/lib/python3.9/random.py\", line 449, in sample\n",
      "    raise ValueError(\"Sample larger than population or is negative\")\n",
      "ValueError: Sample larger than population or is negative\n"
     ]
    },
    {
     "name": "stdout",
     "output_type": "stream",
     "text": [
      "\n",
      "RESULTADOS: min\n",
      "Média do erro absoluto: 5.861000 \n",
      "Média quadrada do erro: 34.351321 \n",
      "R2: nan\n",
      "relative_error_1(np.abs(1-y_p)/y_t): inf \n",
      "relative_error_2(np.abs((y_t-y_p)/y_t)): inf\n",
      "\n",
      "Não foi possível criar o diretório\n",
      "Gráfico com menos de 150 pontos\n",
      "<class 'Exception'>\n",
      "Gráfico com menos de 1600 pontos\n"
     ]
    },
    {
     "name": "stderr",
     "output_type": "stream",
     "text": [
      "/home/codemaster/anaconda3/envs/mestrado/lib/python3.9/site-packages/sklearn/base.py:450: UserWarning: X does not have valid feature names, but ExtraTreesRegressor was fitted with feature names\n",
      "  warnings.warn(\n",
      "/home/codemaster/anaconda3/envs/mestrado/lib/python3.9/site-packages/sklearn/metrics/_regression.py:796: UndefinedMetricWarning: R^2 score is not well-defined with less than two samples.\n",
      "  warnings.warn(msg, UndefinedMetricWarning)\n",
      "/tmp/ipykernel_1254922/502823241.py:15: RuntimeWarning: divide by zero encountered in double_scalars\n",
      "  relative_error_1 += np.abs(1-y_p)/y_t\n",
      "/tmp/ipykernel_1254922/502823241.py:16: RuntimeWarning: divide by zero encountered in double_scalars\n",
      "  relative_error_2 += np.abs((y_t-y_p)/y_t)\n",
      "Traceback (most recent call last):\n",
      "  File \"/home/codemaster/Desktop/backup/Dinamica Pontos Quanticos/code/graphics.py\", line 81, in plotGraph_error\n",
      "    path = '../experimentos/%s/graficos/%s-%s.png'%(dpq_name,name, dpq_name)\n",
      "  File \"/home/codemaster/anaconda3/envs/mestrado/lib/python3.9/random.py\", line 449, in sample\n",
      "    raise ValueError(\"Sample larger than population or is negative\")\n",
      "ValueError: Sample larger than population or is negative\n"
     ]
    },
    {
     "name": "stdout",
     "output_type": "stream",
     "text": [
      "\n",
      "RESULTADOS: min\n",
      "Média do erro absoluto: 5.825000 \n",
      "Média quadrada do erro: 33.930625 \n",
      "R2: nan\n",
      "relative_error_1(np.abs(1-y_p)/y_t): inf \n",
      "relative_error_2(np.abs((y_t-y_p)/y_t)): inf\n",
      "\n",
      "Não foi possível criar o diretório\n",
      "Gráfico com menos de 150 pontos\n",
      "<class 'Exception'>\n",
      "Gráfico com menos de 1600 pontos\n"
     ]
    },
    {
     "name": "stderr",
     "output_type": "stream",
     "text": [
      "/home/codemaster/anaconda3/envs/mestrado/lib/python3.9/site-packages/sklearn/base.py:450: UserWarning: X does not have valid feature names, but ExtraTreesRegressor was fitted with feature names\n",
      "  warnings.warn(\n",
      "/home/codemaster/anaconda3/envs/mestrado/lib/python3.9/site-packages/sklearn/metrics/_regression.py:796: UndefinedMetricWarning: R^2 score is not well-defined with less than two samples.\n",
      "  warnings.warn(msg, UndefinedMetricWarning)\n",
      "/tmp/ipykernel_1254922/502823241.py:15: RuntimeWarning: divide by zero encountered in double_scalars\n",
      "  relative_error_1 += np.abs(1-y_p)/y_t\n",
      "/tmp/ipykernel_1254922/502823241.py:16: RuntimeWarning: divide by zero encountered in double_scalars\n",
      "  relative_error_2 += np.abs((y_t-y_p)/y_t)\n",
      "Traceback (most recent call last):\n",
      "  File \"/home/codemaster/Desktop/backup/Dinamica Pontos Quanticos/code/graphics.py\", line 81, in plotGraph_error\n",
      "    path = '../experimentos/%s/graficos/%s-%s.png'%(dpq_name,name, dpq_name)\n",
      "  File \"/home/codemaster/anaconda3/envs/mestrado/lib/python3.9/random.py\", line 449, in sample\n",
      "    raise ValueError(\"Sample larger than population or is negative\")\n",
      "ValueError: Sample larger than population or is negative\n"
     ]
    },
    {
     "name": "stdout",
     "output_type": "stream",
     "text": [
      "\n",
      "RESULTADOS: min\n",
      "Média do erro absoluto: 5.818000 \n",
      "Média quadrada do erro: 33.849124 \n",
      "R2: nan\n",
      "relative_error_1(np.abs(1-y_p)/y_t): inf \n",
      "relative_error_2(np.abs((y_t-y_p)/y_t)): inf\n",
      "\n",
      "Não foi possível criar o diretório\n",
      "Gráfico com menos de 150 pontos\n",
      "<class 'Exception'>\n",
      "Gráfico com menos de 1600 pontos\n"
     ]
    },
    {
     "name": "stderr",
     "output_type": "stream",
     "text": [
      "/home/codemaster/anaconda3/envs/mestrado/lib/python3.9/site-packages/sklearn/base.py:450: UserWarning: X does not have valid feature names, but ExtraTreesRegressor was fitted with feature names\n",
      "  warnings.warn(\n",
      "/home/codemaster/anaconda3/envs/mestrado/lib/python3.9/site-packages/sklearn/metrics/_regression.py:796: UndefinedMetricWarning: R^2 score is not well-defined with less than two samples.\n",
      "  warnings.warn(msg, UndefinedMetricWarning)\n",
      "/tmp/ipykernel_1254922/502823241.py:15: RuntimeWarning: divide by zero encountered in double_scalars\n",
      "  relative_error_1 += np.abs(1-y_p)/y_t\n",
      "/tmp/ipykernel_1254922/502823241.py:16: RuntimeWarning: divide by zero encountered in double_scalars\n",
      "  relative_error_2 += np.abs((y_t-y_p)/y_t)\n",
      "Traceback (most recent call last):\n",
      "  File \"/home/codemaster/Desktop/backup/Dinamica Pontos Quanticos/code/graphics.py\", line 81, in plotGraph_error\n",
      "    path = '../experimentos/%s/graficos/%s-%s.png'%(dpq_name,name, dpq_name)\n",
      "  File \"/home/codemaster/anaconda3/envs/mestrado/lib/python3.9/random.py\", line 449, in sample\n",
      "    raise ValueError(\"Sample larger than population or is negative\")\n",
      "ValueError: Sample larger than population or is negative\n"
     ]
    },
    {
     "name": "stdout",
     "output_type": "stream",
     "text": [
      "\n",
      "RESULTADOS: min\n",
      "Média do erro absoluto: 5.859000 \n",
      "Média quadrada do erro: 34.327881 \n",
      "R2: nan\n",
      "relative_error_1(np.abs(1-y_p)/y_t): inf \n",
      "relative_error_2(np.abs((y_t-y_p)/y_t)): inf\n",
      "\n",
      "Não foi possível criar o diretório\n",
      "Gráfico com menos de 150 pontos\n",
      "<class 'Exception'>\n",
      "Gráfico com menos de 1600 pontos\n"
     ]
    },
    {
     "name": "stderr",
     "output_type": "stream",
     "text": [
      "/home/codemaster/anaconda3/envs/mestrado/lib/python3.9/site-packages/sklearn/base.py:450: UserWarning: X does not have valid feature names, but ExtraTreesRegressor was fitted with feature names\n",
      "  warnings.warn(\n",
      "/home/codemaster/anaconda3/envs/mestrado/lib/python3.9/site-packages/sklearn/metrics/_regression.py:796: UndefinedMetricWarning: R^2 score is not well-defined with less than two samples.\n",
      "  warnings.warn(msg, UndefinedMetricWarning)\n",
      "/tmp/ipykernel_1254922/502823241.py:15: RuntimeWarning: divide by zero encountered in double_scalars\n",
      "  relative_error_1 += np.abs(1-y_p)/y_t\n",
      "/tmp/ipykernel_1254922/502823241.py:16: RuntimeWarning: divide by zero encountered in double_scalars\n",
      "  relative_error_2 += np.abs((y_t-y_p)/y_t)\n",
      "Traceback (most recent call last):\n",
      "  File \"/home/codemaster/Desktop/backup/Dinamica Pontos Quanticos/code/graphics.py\", line 81, in plotGraph_error\n",
      "    path = '../experimentos/%s/graficos/%s-%s.png'%(dpq_name,name, dpq_name)\n",
      "  File \"/home/codemaster/anaconda3/envs/mestrado/lib/python3.9/random.py\", line 449, in sample\n",
      "    raise ValueError(\"Sample larger than population or is negative\")\n",
      "ValueError: Sample larger than population or is negative\n"
     ]
    },
    {
     "name": "stdout",
     "output_type": "stream",
     "text": [
      "\n",
      "RESULTADOS: min\n",
      "Média do erro absoluto: 5.948000 \n",
      "Média quadrada do erro: 35.378704 \n",
      "R2: nan\n",
      "relative_error_1(np.abs(1-y_p)/y_t): inf \n",
      "relative_error_2(np.abs((y_t-y_p)/y_t)): inf\n",
      "\n",
      "Não foi possível criar o diretório\n",
      "Gráfico com menos de 150 pontos\n",
      "<class 'Exception'>\n",
      "Gráfico com menos de 1600 pontos\n"
     ]
    },
    {
     "name": "stderr",
     "output_type": "stream",
     "text": [
      "/home/codemaster/anaconda3/envs/mestrado/lib/python3.9/site-packages/sklearn/base.py:450: UserWarning: X does not have valid feature names, but ExtraTreesRegressor was fitted with feature names\n",
      "  warnings.warn(\n",
      "/home/codemaster/anaconda3/envs/mestrado/lib/python3.9/site-packages/sklearn/metrics/_regression.py:796: UndefinedMetricWarning: R^2 score is not well-defined with less than two samples.\n",
      "  warnings.warn(msg, UndefinedMetricWarning)\n",
      "/tmp/ipykernel_1254922/502823241.py:15: RuntimeWarning: divide by zero encountered in double_scalars\n",
      "  relative_error_1 += np.abs(1-y_p)/y_t\n",
      "/tmp/ipykernel_1254922/502823241.py:16: RuntimeWarning: divide by zero encountered in double_scalars\n",
      "  relative_error_2 += np.abs((y_t-y_p)/y_t)\n",
      "Traceback (most recent call last):\n",
      "  File \"/home/codemaster/Desktop/backup/Dinamica Pontos Quanticos/code/graphics.py\", line 81, in plotGraph_error\n",
      "    path = '../experimentos/%s/graficos/%s-%s.png'%(dpq_name,name, dpq_name)\n",
      "  File \"/home/codemaster/anaconda3/envs/mestrado/lib/python3.9/random.py\", line 449, in sample\n",
      "    raise ValueError(\"Sample larger than population or is negative\")\n",
      "ValueError: Sample larger than population or is negative\n"
     ]
    },
    {
     "name": "stdout",
     "output_type": "stream",
     "text": [
      "\n",
      "RESULTADOS: min\n",
      "Média do erro absoluto: 5.938000 \n",
      "Média quadrada do erro: 35.259844 \n",
      "R2: nan\n",
      "relative_error_1(np.abs(1-y_p)/y_t): inf \n",
      "relative_error_2(np.abs((y_t-y_p)/y_t)): inf\n",
      "\n",
      "Não foi possível criar o diretório\n",
      "Gráfico com menos de 150 pontos\n",
      "<class 'Exception'>\n",
      "Gráfico com menos de 1600 pontos\n"
     ]
    },
    {
     "name": "stderr",
     "output_type": "stream",
     "text": [
      "/home/codemaster/anaconda3/envs/mestrado/lib/python3.9/site-packages/sklearn/base.py:450: UserWarning: X does not have valid feature names, but ExtraTreesRegressor was fitted with feature names\n",
      "  warnings.warn(\n",
      "/home/codemaster/anaconda3/envs/mestrado/lib/python3.9/site-packages/sklearn/metrics/_regression.py:796: UndefinedMetricWarning: R^2 score is not well-defined with less than two samples.\n",
      "  warnings.warn(msg, UndefinedMetricWarning)\n",
      "/tmp/ipykernel_1254922/502823241.py:15: RuntimeWarning: divide by zero encountered in double_scalars\n",
      "  relative_error_1 += np.abs(1-y_p)/y_t\n",
      "/tmp/ipykernel_1254922/502823241.py:16: RuntimeWarning: divide by zero encountered in double_scalars\n",
      "  relative_error_2 += np.abs((y_t-y_p)/y_t)\n",
      "Traceback (most recent call last):\n",
      "  File \"/home/codemaster/Desktop/backup/Dinamica Pontos Quanticos/code/graphics.py\", line 81, in plotGraph_error\n",
      "    path = '../experimentos/%s/graficos/%s-%s.png'%(dpq_name,name, dpq_name)\n",
      "  File \"/home/codemaster/anaconda3/envs/mestrado/lib/python3.9/random.py\", line 449, in sample\n",
      "    raise ValueError(\"Sample larger than population or is negative\")\n",
      "ValueError: Sample larger than population or is negative\n"
     ]
    },
    {
     "name": "stdout",
     "output_type": "stream",
     "text": [
      "\n",
      "RESULTADOS: min\n",
      "Média do erro absoluto: 5.837000 \n",
      "Média quadrada do erro: 34.070569 \n",
      "R2: nan\n",
      "relative_error_1(np.abs(1-y_p)/y_t): inf \n",
      "relative_error_2(np.abs((y_t-y_p)/y_t)): inf\n",
      "\n",
      "Não foi possível criar o diretório\n",
      "Gráfico com menos de 150 pontos\n",
      "<class 'Exception'>\n",
      "Gráfico com menos de 1600 pontos\n"
     ]
    },
    {
     "ename": "NameError",
     "evalue": "name 'mse_all' is not defined",
     "output_type": "error",
     "traceback": [
      "\u001b[0;31m---------------------------------------------------------------------------\u001b[0m",
      "\u001b[0;31mNameError\u001b[0m                                 Traceback (most recent call last)",
      "\u001b[0;32m/tmp/ipykernel_1254922/502823241.py\u001b[0m in \u001b[0;36m<module>\u001b[0;34m\u001b[0m\n\u001b[1;32m     72\u001b[0m     \u001b[0;32mreturn\u001b[0m\u001b[0;34m\u001b[0m\u001b[0;34m\u001b[0m\u001b[0m\n\u001b[1;32m     73\u001b[0m \u001b[0;34m\u001b[0m\u001b[0m\n\u001b[0;32m---> 74\u001b[0;31m \u001b[0mapply_quantum_data\u001b[0m\u001b[0;34m(\u001b[0m\u001b[0mdf_l\u001b[0m\u001b[0;34m)\u001b[0m\u001b[0;34m\u001b[0m\u001b[0;34m\u001b[0m\u001b[0m\n\u001b[0m",
      "\u001b[0;32m/tmp/ipykernel_1254922/502823241.py\u001b[0m in \u001b[0;36mapply_quantum_data\u001b[0;34m(df_l)\u001b[0m\n\u001b[1;32m     64\u001b[0m             \u001b[0my_pred\u001b[0m \u001b[0;34m=\u001b[0m \u001b[0mmodel\u001b[0m\u001b[0;34m.\u001b[0m\u001b[0mmodel\u001b[0m\u001b[0;34m.\u001b[0m\u001b[0mpredict\u001b[0m\u001b[0;34m(\u001b[0m\u001b[0mnp\u001b[0m\u001b[0;34m.\u001b[0m\u001b[0marray\u001b[0m\u001b[0;34m(\u001b[0m\u001b[0mX\u001b[0m\u001b[0;34m)\u001b[0m\u001b[0;34m.\u001b[0m\u001b[0mreshape\u001b[0m\u001b[0;34m(\u001b[0m\u001b[0;36m1\u001b[0m\u001b[0;34m,\u001b[0m \u001b[0;36m120\u001b[0m\u001b[0;34m)\u001b[0m\u001b[0;34m)\u001b[0m\u001b[0;34m\u001b[0m\u001b[0;34m\u001b[0m\u001b[0m\n\u001b[1;32m     65\u001b[0m             \u001b[0mmse\u001b[0m\u001b[0;34m.\u001b[0m\u001b[0mappend\u001b[0m\u001b[0;34m(\u001b[0m\u001b[0mmake_report\u001b[0m\u001b[0;34m(\u001b[0m\u001b[0mname\u001b[0m\u001b[0;34m,\u001b[0m \u001b[0mX\u001b[0m\u001b[0;34m,\u001b[0m \u001b[0my\u001b[0m\u001b[0;34m,\u001b[0m \u001b[0my_pred\u001b[0m\u001b[0;34m)\u001b[0m\u001b[0;34m[\u001b[0m\u001b[0;36m1\u001b[0m\u001b[0;34m]\u001b[0m\u001b[0;34m)\u001b[0m\u001b[0;34m\u001b[0m\u001b[0;34m\u001b[0m\u001b[0m\n\u001b[0;32m---> 66\u001b[0;31m         \u001b[0mmse_all\u001b[0m\u001b[0;34m.\u001b[0m\u001b[0mappend\u001b[0m\u001b[0;34m(\u001b[0m\u001b[0mmse\u001b[0m\u001b[0;34m)\u001b[0m\u001b[0;34m\u001b[0m\u001b[0;34m\u001b[0m\u001b[0m\n\u001b[0m\u001b[1;32m     67\u001b[0m         \u001b[0mquantum_report\u001b[0m\u001b[0;34m(\u001b[0m\u001b[0mmse\u001b[0m\u001b[0;34m,\u001b[0m \u001b[0mname\u001b[0m\u001b[0;34m)\u001b[0m\u001b[0;34m\u001b[0m\u001b[0;34m\u001b[0m\u001b[0m\n\u001b[1;32m     68\u001b[0m     \u001b[0mmse_total\u001b[0m \u001b[0;34m=\u001b[0m \u001b[0mnp\u001b[0m\u001b[0;34m.\u001b[0m\u001b[0mzeros\u001b[0m\u001b[0;34m(\u001b[0m\u001b[0mlen\u001b[0m\u001b[0;34m(\u001b[0m\u001b[0mmse_all\u001b[0m\u001b[0;34m[\u001b[0m\u001b[0;36m0\u001b[0m\u001b[0;34m]\u001b[0m\u001b[0;34m)\u001b[0m\u001b[0;34m)\u001b[0m\u001b[0;34m\u001b[0m\u001b[0;34m\u001b[0m\u001b[0m\n",
      "\u001b[0;31mNameError\u001b[0m: name 'mse_all' is not defined"
     ]
    }
   ],
   "source": [
    "from graphics import *\n",
    "import matplotlib.pyplot as plt\n",
    "import numpy as np\n",
    "from sklearn.metrics import mean_absolute_error, mean_squared_error, r2_score\n",
    "\n",
    "def make_report(name, X_train, y_real, y_pred):\n",
    "    y_real = [y_real]\n",
    "    relative_error_1 = 0\n",
    "    relative_error_2 = 0\n",
    "    mae = mean_absolute_error(y_real, y_pred)\n",
    "    mse = mean_squared_error(y_real, y_pred)\n",
    "    r2 = r2_score(y_real,y_pred)\n",
    "\n",
    "    for y_p, y_t in zip(y_pred, y_real):\n",
    "        relative_error_1 += np.abs(1-y_p)/y_t\n",
    "        relative_error_2 += np.abs((y_t-y_p)/y_t)\n",
    "\n",
    "    #Font\n",
    "    #self.pdf.set_font(\"Times\", 'B', 15)\n",
    "    #Title\n",
    "    #self.pdf.cell(15,15, name,1,0, 'L')\n",
    "    #Line break\n",
    "    #self.pdf.ln(2)\n",
    "    #self.pdf.set_font(\"Times\", 'B', 13)\n",
    "\n",
    "    #String com os resultados\n",
    "    rst_string = ''.join([name, \"\\nMédia do erro absoluto: %f \\nMédia quadrada do erro: %f \\nR2: %f\\nrelative_error_1(np.abs(1-y_p)/y_t): %f \\nrelative_error_2(np.abs((y_t-y_p)/y_t)): %f\\n\" % (mae, mse, r2, relative_error_1, relative_error_2)])       \n",
    "    #self.pdf.cell(20,15,rst_string,1)\n",
    "    print(\"\\nRESULTADOS:\", rst_string)\n",
    "    #Graficos\n",
    "    plotGraph(y_real, y_pred, \"Extra Trees Regressor \"+name,\"teste\", mae=mae, mse=mse, r2=r2)\n",
    "    gen_acc_measures(pd.DataFrame(X_train),y_real, \"teste\")\n",
    "\n",
    "    return [mae, mse, r2]\n",
    "\n",
    "def quantum_report(mse, name):\n",
    "        passo_shots = 1000\n",
    "        shots = 20000\n",
    "        #Recebe a lista de 20 mse\n",
    "        x = range(passo_shots, shots+passo_shots, passo_shots)\n",
    "        #Plotar o grafico do erro x measures. cada mse corresponde a measures usadas para calcular o resultado, aumentando de mil em mil.\n",
    "        import matplotlib.pyplot as plt\n",
    "        import numpy as np\n",
    "\n",
    "        fig, ax = plt.subplots()\n",
    "        ax.plot(x, mse)\n",
    "\n",
    "        ax.set(xlabel='Medidas Performadas', ylabel='Média do Erro ao Quadrado',\n",
    "               title='Erro ao quadrado X Medidas Performadas:%s'%name)\n",
    "        ax.grid()\n",
    "\n",
    "        #fig.savefig(\"experimentos-%s.png\"%name)\n",
    "        plt.show()\n",
    "        return\n",
    "    \n",
    "def apply_quantum_data(df_l):\n",
    "    name_rows = [\"min\", \"max\", \"median\"]\n",
    "    mse_overall = []\n",
    "    for name in name_rows:\n",
    "        mse = []\n",
    "        for df in df_l:\n",
    "            X = df.loc[name][5:]\n",
    "            y = df.loc[name][4]\n",
    "            y_pred = model.model.predict(np.array(X).reshape(1, 120))\n",
    "            mse.append(make_report(name, X, y, y_pred)[1])\n",
    "        mse_all.append(mse)\n",
    "        quantum_report(mse, name)\n",
    "    mse_total = np.zeros(len(mse_all[0]))\n",
    "    for mse_ in mse_all:\n",
    "        mse_total = np.array(mse_)+ mse_total\n",
    "    quantum_report(mse_total, \"Minimos, Maximos e mediana\")\n",
    "    return \n",
    "\n",
    "apply_quantum_data(df_l)     "
   ]
  },
  {
   "cell_type": "code",
   "execution_count": 34,
   "id": "b7053d93-79c8-4a4c-a6ab-d70e501220a8",
   "metadata": {},
   "outputs": [
    {
     "data": {
      "text/plain": [
       "(<qiskit.providers.ibmq.job.ibmqjob.IBMQJob at 0x7f60f5ca66a0>, 1)"
      ]
     },
     "execution_count": 34,
     "metadata": {},
     "output_type": "execute_result"
    }
   ],
   "source": [
    "job_set_DPQ.job(1)"
   ]
  },
  {
   "cell_type": "code",
   "execution_count": 176,
   "id": "eb52edbb-46a7-43c0-98eb-85e6c9a18a0c",
   "metadata": {},
   "outputs": [
    {
     "data": {
      "text/plain": [
       "0.0314"
      ]
     },
     "execution_count": 176,
     "metadata": {},
     "output_type": "execute_result"
    }
   ],
   "source": [
    "df_l[0].loc['min'][5]"
   ]
  },
  {
   "cell_type": "code",
   "execution_count": 187,
   "id": "67c43f31-2f0f-466e-bb57-567f1e42a087",
   "metadata": {},
   "outputs": [
    {
     "data": {
      "text/plain": [
       "1.0"
      ]
     },
     "execution_count": 187,
     "metadata": {},
     "output_type": "execute_result"
    }
   ],
   "source": [
    "y_true = [ 1]\n",
    "y_pred = [ 2]\n",
    "mean_squared_error(y_true, y_pred)"
   ]
  },
  {
   "cell_type": "code",
   "execution_count": 2,
   "id": "b58ca80a-bb56-4f9c-803c-0db986a37601",
   "metadata": {},
   "outputs": [],
   "source": [
    "def t():\n",
    "    return 1,2\n",
    "a = t()\n"
   ]
  },
  {
   "cell_type": "code",
   "execution_count": 4,
   "id": "35834e95-be45-4f7c-9600-8fb72513f08d",
   "metadata": {},
   "outputs": [
    {
     "data": {
      "text/plain": [
       "2"
      ]
     },
     "execution_count": 4,
     "metadata": {},
     "output_type": "execute_result"
    }
   ],
   "source": [
    "len(a)"
   ]
  },
  {
   "cell_type": "code",
   "execution_count": 7,
   "id": "0c081023-9472-4842-a345-21ddabecb816",
   "metadata": {},
   "outputs": [
    {
     "data": {
      "text/plain": [
       "2"
      ]
     },
     "execution_count": 7,
     "metadata": {},
     "output_type": "execute_result"
    }
   ],
   "source": [
    "d"
   ]
  },
  {
   "cell_type": "code",
   "execution_count": null,
   "id": "f943440f-7dd6-44e9-aa65-56b3adb9de34",
   "metadata": {},
   "outputs": [],
   "source": []
  }
 ],
 "metadata": {
  "kernelspec": {
   "display_name": "Python 3 (ipykernel)",
   "language": "python",
   "name": "python3"
  },
  "language_info": {
   "codemirror_mode": {
    "name": "ipython",
    "version": 3
   },
   "file_extension": ".py",
   "mimetype": "text/x-python",
   "name": "python",
   "nbconvert_exporter": "python",
   "pygments_lexer": "ipython3",
   "version": "3.9.9"
  }
 },
 "nbformat": 4,
 "nbformat_minor": 5
}
